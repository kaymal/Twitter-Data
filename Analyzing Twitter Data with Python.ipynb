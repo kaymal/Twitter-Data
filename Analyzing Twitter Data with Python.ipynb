{
 "cells": [
  {
   "cell_type": "markdown",
   "metadata": {
    "toc-hr-collapsed": false
   },
   "source": [
    "# Analyzing Twitter Data with Python"
   ]
  },
  {
   "cell_type": "markdown",
   "metadata": {},
   "source": [
    "Outline:\n",
    "* [Credentials and Authentication](#Credentials-and-Authentication)\n",
    "* [Basics](#Basics)\n",
    "  + Collecting Data\n",
    "    - Basics\n",
    "      - Status\n",
    "      - Trends\n",
    "    - Streaming API\n",
    "  + Loading and Accessing Tweets\n",
    "    - Single Tweet\n",
    "      - User Data\n",
    "      - Retweet Data\n",
    "    - Multiple Tweets\n",
    "* [Processing Text](#Processing-Text)\n",
    "  + Flattening Tweets\n",
    "  + Creating a DataFrame\n",
    "  + Counting Words\n",
    "  + Time Series\n",
    "  + Sentiment Analysis\n"
   ]
  },
  {
   "cell_type": "markdown",
   "metadata": {},
   "source": [
    "The `tweepy` module will be used to collect Twitter data with the Streaming API."
   ]
  },
  {
   "cell_type": "code",
   "execution_count": 1,
   "metadata": {},
   "outputs": [],
   "source": [
    "# !pip install tweepy"
   ]
  },
  {
   "cell_type": "code",
   "execution_count": 2,
   "metadata": {},
   "outputs": [],
   "source": [
    "# import tweepy\n",
    "from tweepy import OAuthHandler, API\n",
    "\n",
    "import json"
   ]
  },
  {
   "cell_type": "markdown",
   "metadata": {},
   "source": [
    "## Credentials and Authentication"
   ]
  },
  {
   "cell_type": "markdown",
   "metadata": {},
   "source": [
    "First of all, we need to create a Twitter account, validate it, and then create a Twitter developer account. The developer account can be created within the [Twitter developer](https://developer.twitter.com/en/apps) web page.\n",
    "\n",
    "Second, we create an app to generate a _Customer Key_, a _Consumer Secret_, an _Access Token_, and an _Access Token Secret_.\n",
    "\n",
    "The steps to generate keys are as follows:\n",
    "- Create a Twitter acoount, validate it with a phone number,\n",
    "- Create a Twitter developer account,\n",
    "- Create an app,\n",
    "- Generate keys and tokens.\n",
    "\n",
    "It is worth noting that the app's API keys should be kept secure. It is important not to commit API keys and access tokens to publicly accessible version control systems such as Github or BitBucket."
   ]
  },
  {
   "cell_type": "markdown",
   "metadata": {},
   "source": [
    "The Twitter credentials (keys and tokens) can be kept locally as a `.json` file in the following format.\n",
    "\n",
    "```\n",
    "{\"consumer_key\":\"API key\",\n",
    " \"consumer_secret\":\"API secret key\",\n",
    " \"access_token_key\":\"Access token\",\n",
    " \"access_token_secret\":\"Access token secret\"\n",
    "}\n",
    "```"
   ]
  },
  {
   "cell_type": "code",
   "execution_count": 3,
   "metadata": {},
   "outputs": [],
   "source": [
    "# Load Twitter app information\n",
    "with open('twitter_cred.json','r') as file:\n",
    "    twitter_cred = json.load(file)"
   ]
  },
  {
   "cell_type": "code",
   "execution_count": 4,
   "metadata": {},
   "outputs": [],
   "source": [
    "consumer_key = twitter_cred['consumer_key']\n",
    "consumer_secret = twitter_cred['consumer_secret']\n",
    "access_token = twitter_cred['access_token_key']\n",
    "access_token_secret = twitter_cred['access_token_secret']"
   ]
  },
  {
   "cell_type": "markdown",
   "metadata": {},
   "source": [
    "`tweepy` library requires a Twitter API key to authenticate with Twitter. The API class provides access to the entire twitter RESTful API methods."
   ]
  },
  {
   "cell_type": "code",
   "execution_count": 5,
   "metadata": {},
   "outputs": [],
   "source": [
    "# Consumer key authentication\n",
    "auth = OAuthHandler(consumer_key, consumer_secret) # tweepy.OAuthHandler\n",
    "\n",
    "# Access key authentication\n",
    "auth.set_access_token(access_token, access_token_secret)\n",
    "\n",
    "# Set up the API with the authentication handler: Construct the API instance\n",
    "api = API(auth) # tweepy.API"
   ]
  },
  {
   "cell_type": "markdown",
   "metadata": {},
   "source": [
    "We can print the username to see if our account is properly authenticated."
   ]
  },
  {
   "cell_type": "code",
   "execution_count": 6,
   "metadata": {},
   "outputs": [],
   "source": [
    "user = api.me()\n",
    "# print(user.name)"
   ]
  },
  {
   "cell_type": "markdown",
   "metadata": {
    "toc-hr-collapsed": true
   },
   "source": [
    "## Collecting and Investigating Data with `tweepy`"
   ]
  },
  {
   "cell_type": "markdown",
   "metadata": {},
   "source": [
    "`tweepy.api` is a wrapper for the Twitter API. It provides access to the entire twitter RESTful API methods. Each method can accept various parameters and return responses. "
   ]
  },
  {
   "cell_type": "markdown",
   "metadata": {},
   "source": [
    "### Methods\n",
    "\n",
    "Methods include:\n",
    " - Timeline Methods,\n",
    " - Status Methods,\n",
    " - User Methods,\n",
    " - Direct Message Methods,\n",
    " - Friendship Methods,\n",
    " - Account Methods,\n",
    " - Favorite Methods,\n",
    " - Block Methods,\n",
    " - Saved Searches Methods, \n",
    " - Spam Reporting Methods,\n",
    " - Help Methods,\n",
    " - List Methods,\n",
    " - Trends Methods,\n",
    " - Geo Methods.\n",
    "[Source:tweepy](https://tweepy.readthedocs.io/en/v3.5.0/api.html#api-reference)"
   ]
  },
  {
   "cell_type": "markdown",
   "metadata": {},
   "source": [
    "#### Status"
   ]
  },
  {
   "cell_type": "markdown",
   "metadata": {},
   "source": [
    "A **status** is a _tweet_ with various attributes such as _created at_, _id_, and _text_. (See [twitter](https://developer.twitter.com/en/docs/tweets/data-dictionary/overview/tweet-object) for full list of attributes.)\n",
    "\n",
    "For example, below status is [the most retweeted tweet](https://mashable.com/article/most-retweeted-tweet-billionaire/?europe=true) in English, as of 2018. `API.get_status(id)` method returns a single status specified by the ID parameter."
   ]
  },
  {
   "cell_type": "code",
   "execution_count": 7,
   "metadata": {},
   "outputs": [],
   "source": [
    "# Get the status of the most retweeted tweet\n",
    "status = api.get_status('849813577770778624')"
   ]
  },
  {
   "cell_type": "code",
   "execution_count": 8,
   "metadata": {},
   "outputs": [
    {
     "data": {
      "text/plain": [
       "tweepy.models.Status"
      ]
     },
     "execution_count": 8,
     "metadata": {},
     "output_type": "execute_result"
    }
   ],
   "source": [
    "type(status)"
   ]
  },
  {
   "cell_type": "code",
   "execution_count": 9,
   "metadata": {},
   "outputs": [
    {
     "data": {
      "text/plain": [
       "\"Status(_api=<tweepy.api.API object at 0x1104d75c0>, _json={'created_at': 'Thu Apr 06 02:38:40 +0000 2017', 'id': 849813577770778624, 'id_str': '849813577770778624', 'text': 'HELP ME PLEASE. A MAN NEEDS HIS NUGGS https://t.co/4SrfHmEMo3', 'truncated': False, 'entities': {'hashtags': [], 'symbols': [], 'user_mentions': [], 'urls': [], 'media': [{'id': 849813572351737856, 'id_str': '849813572351737856', 'indices': [38, 61], 'media_url': 'http://pbs.twimg.com/media/C8sk8QlUwAAR3qI.jpg', 'media_url_h\""
      ]
     },
     "execution_count": 9,
     "metadata": {},
     "output_type": "execute_result"
    }
   ],
   "source": [
    "# Print first 500 characters of the Status.\n",
    "str(status)[:500]"
   ]
  },
  {
   "cell_type": "code",
   "execution_count": 10,
   "metadata": {},
   "outputs": [
    {
     "data": {
      "text/plain": [
       "'HELP ME PLEASE. A MAN NEEDS HIS NUGGS https://t.co/4SrfHmEMo3'"
      ]
     },
     "execution_count": 10,
     "metadata": {},
     "output_type": "execute_result"
    }
   ],
   "source": [
    "status.text"
   ]
  },
  {
   "cell_type": "code",
   "execution_count": 11,
   "metadata": {},
   "outputs": [
    {
     "data": {
      "text/plain": [
       "'Carter Wilkerson'"
      ]
     },
     "execution_count": 11,
     "metadata": {},
     "output_type": "execute_result"
    }
   ],
   "source": [
    "status.user.name"
   ]
  },
  {
   "cell_type": "code",
   "execution_count": 12,
   "metadata": {},
   "outputs": [
    {
     "data": {
      "text/plain": [
       "datetime.datetime(2017, 4, 6, 2, 38, 40)"
      ]
     },
     "execution_count": 12,
     "metadata": {},
     "output_type": "execute_result"
    }
   ],
   "source": [
    "status.created_at"
   ]
  },
  {
   "cell_type": "code",
   "execution_count": 13,
   "metadata": {},
   "outputs": [],
   "source": [
    "user_id = status.user.id"
   ]
  },
  {
   "cell_type": "markdown",
   "metadata": {},
   "source": [
    "#### User"
   ]
  },
  {
   "cell_type": "code",
   "execution_count": 14,
   "metadata": {},
   "outputs": [],
   "source": [
    "user = api.get_user(user_id)"
   ]
  },
  {
   "cell_type": "code",
   "execution_count": 15,
   "metadata": {},
   "outputs": [
    {
     "data": {
      "text/plain": [
       "User(_api=<tweepy.api.API object at 0x1104d75c0>, _json={'id': 2568270758, 'id_str': '2568270758', 'name': 'Carter Wilkerson', 'screen_name': 'carterjwm', 'location': 'Reno, NV - San Diego, CA', 'profile_location': None, 'description': 'some call me nugget boy #NuggsforCarter', 'url': 'https://t.co/hEJZpyr0Vs', 'entities': {'url': {'urls': [{'url': 'https://t.co/hEJZpyr0Vs', 'expanded_url': 'http://nuggsforcarter.com', 'display_url': 'nuggsforcarter.com', 'indices': [0, 23]}]}, 'description': {'urls': []}}, 'protected': False, 'followers_count': 95946, 'friends_count': 304, 'listed_count': 3273, 'created_at': 'Sun Jun 15 03:48:03 +0000 2014', 'favourites_count': 28020, 'utc_offset': None, 'time_zone': None, 'geo_enabled': True, 'verified': True, 'statuses_count': 1782, 'lang': None, 'status': {'created_at': 'Fri Aug 16 03:01:49 +0000 2019', 'id': 1162197742849888260, 'id_str': '1162197742849888260', 'text': 'how many retweets to never tweet again?', 'truncated': False, 'entities': {'hashtags': [], 'symbols': [], 'user_mentions': [], 'urls': []}, 'source': '<a href=\"http://twitter.com/download/iphone\" rel=\"nofollow\">Twitter for iPhone</a>', 'in_reply_to_status_id': None, 'in_reply_to_status_id_str': None, 'in_reply_to_user_id': None, 'in_reply_to_user_id_str': None, 'in_reply_to_screen_name': None, 'geo': None, 'coordinates': None, 'place': None, 'contributors': None, 'is_quote_status': False, 'retweet_count': 7, 'favorite_count': 44, 'favorited': False, 'retweeted': False, 'lang': 'en'}, 'contributors_enabled': False, 'is_translator': False, 'is_translation_enabled': False, 'profile_background_color': 'C0DEED', 'profile_background_image_url': 'http://abs.twimg.com/images/themes/theme1/bg.png', 'profile_background_image_url_https': 'https://abs.twimg.com/images/themes/theme1/bg.png', 'profile_background_tile': False, 'profile_image_url': 'http://pbs.twimg.com/profile_images/1049068688387727360/ZVPaPtll_normal.jpg', 'profile_image_url_https': 'https://pbs.twimg.com/profile_images/1049068688387727360/ZVPaPtll_normal.jpg', 'profile_banner_url': 'https://pbs.twimg.com/profile_banners/2568270758/1562332945', 'profile_link_color': '1DA1F2', 'profile_sidebar_border_color': 'C0DEED', 'profile_sidebar_fill_color': 'DDEEF6', 'profile_text_color': '333333', 'profile_use_background_image': True, 'has_extended_profile': True, 'default_profile': True, 'default_profile_image': False, 'following': False, 'follow_request_sent': False, 'notifications': False, 'translator_type': 'none'}, id=2568270758, id_str='2568270758', name='Carter Wilkerson', screen_name='carterjwm', location='Reno, NV - San Diego, CA', profile_location=None, description='some call me nugget boy #NuggsforCarter', url='https://t.co/hEJZpyr0Vs', entities={'url': {'urls': [{'url': 'https://t.co/hEJZpyr0Vs', 'expanded_url': 'http://nuggsforcarter.com', 'display_url': 'nuggsforcarter.com', 'indices': [0, 23]}]}, 'description': {'urls': []}}, protected=False, followers_count=95946, friends_count=304, listed_count=3273, created_at=datetime.datetime(2014, 6, 15, 3, 48, 3), favourites_count=28020, utc_offset=None, time_zone=None, geo_enabled=True, verified=True, statuses_count=1782, lang=None, status=Status(_api=<tweepy.api.API object at 0x1104d75c0>, _json={'created_at': 'Fri Aug 16 03:01:49 +0000 2019', 'id': 1162197742849888260, 'id_str': '1162197742849888260', 'text': 'how many retweets to never tweet again?', 'truncated': False, 'entities': {'hashtags': [], 'symbols': [], 'user_mentions': [], 'urls': []}, 'source': '<a href=\"http://twitter.com/download/iphone\" rel=\"nofollow\">Twitter for iPhone</a>', 'in_reply_to_status_id': None, 'in_reply_to_status_id_str': None, 'in_reply_to_user_id': None, 'in_reply_to_user_id_str': None, 'in_reply_to_screen_name': None, 'geo': None, 'coordinates': None, 'place': None, 'contributors': None, 'is_quote_status': False, 'retweet_count': 7, 'favorite_count': 44, 'favorited': False, 'retweeted': False, 'lang': 'en'}, created_at=datetime.datetime(2019, 8, 16, 3, 1, 49), id=1162197742849888260, id_str='1162197742849888260', text='how many retweets to never tweet again?', truncated=False, entities={'hashtags': [], 'symbols': [], 'user_mentions': [], 'urls': []}, source='Twitter for iPhone', source_url='http://twitter.com/download/iphone', in_reply_to_status_id=None, in_reply_to_status_id_str=None, in_reply_to_user_id=None, in_reply_to_user_id_str=None, in_reply_to_screen_name=None, geo=None, coordinates=None, place=None, contributors=None, is_quote_status=False, retweet_count=7, favorite_count=44, favorited=False, retweeted=False, lang='en'), contributors_enabled=False, is_translator=False, is_translation_enabled=False, profile_background_color='C0DEED', profile_background_image_url='http://abs.twimg.com/images/themes/theme1/bg.png', profile_background_image_url_https='https://abs.twimg.com/images/themes/theme1/bg.png', profile_background_tile=False, profile_image_url='http://pbs.twimg.com/profile_images/1049068688387727360/ZVPaPtll_normal.jpg', profile_image_url_https='https://pbs.twimg.com/profile_images/1049068688387727360/ZVPaPtll_normal.jpg', profile_banner_url='https://pbs.twimg.com/profile_banners/2568270758/1562332945', profile_link_color='1DA1F2', profile_sidebar_border_color='C0DEED', profile_sidebar_fill_color='DDEEF6', profile_text_color='333333', profile_use_background_image=True, has_extended_profile=True, default_profile=True, default_profile_image=False, following=False, follow_request_sent=False, notifications=False, translator_type='none')"
      ]
     },
     "execution_count": 15,
     "metadata": {},
     "output_type": "execute_result"
    }
   ],
   "source": [
    "user"
   ]
  },
  {
   "cell_type": "code",
   "execution_count": 16,
   "metadata": {},
   "outputs": [
    {
     "data": {
      "text/plain": [
       "'Carter Wilkerson'"
      ]
     },
     "execution_count": 16,
     "metadata": {},
     "output_type": "execute_result"
    }
   ],
   "source": [
    "user.name"
   ]
  },
  {
   "cell_type": "code",
   "execution_count": 17,
   "metadata": {},
   "outputs": [
    {
     "data": {
      "text/plain": [
       "304"
      ]
     },
     "execution_count": 17,
     "metadata": {},
     "output_type": "execute_result"
    }
   ],
   "source": [
    "user.friends_count"
   ]
  },
  {
   "cell_type": "code",
   "execution_count": 18,
   "metadata": {},
   "outputs": [],
   "source": [
    "# api.friends(user_id)"
   ]
  },
  {
   "cell_type": "markdown",
   "metadata": {},
   "source": [
    "#### Trends"
   ]
  },
  {
   "cell_type": "markdown",
   "metadata": {},
   "source": [
    "_Where On Earth IDentifier (WOEID)_ is used to represent a _place_. `.trends_available()` method gives us a list of dictionaries within which WOEID's are available."
   ]
  },
  {
   "cell_type": "code",
   "execution_count": 19,
   "metadata": {},
   "outputs": [
    {
     "data": {
      "text/plain": [
       "{'name': 'Turkey',\n",
       " 'placeType': {'code': 12, 'name': 'Country'},\n",
       " 'url': 'http://where.yahooapis.com/v1/place/23424969',\n",
       " 'parentid': 1,\n",
       " 'country': 'Turkey',\n",
       " 'woeid': 23424969,\n",
       " 'countryCode': 'TR'}"
      ]
     },
     "execution_count": 19,
     "metadata": {},
     "output_type": "execute_result"
    }
   ],
   "source": [
    "# Choose country\n",
    "country = 'Turkey'\n",
    "\n",
    "# Get the available WOEID of the selected country\n",
    "next((item for item in api.trends_available() if item[\"name\"] == country), None)"
   ]
  },
  {
   "cell_type": "code",
   "execution_count": 20,
   "metadata": {},
   "outputs": [
    {
     "data": {
      "text/plain": [
       "{'name': 'Worldwide',\n",
       " 'placeType': {'code': 19, 'name': 'Supername'},\n",
       " 'url': 'http://where.yahooapis.com/v1/place/1',\n",
       " 'parentid': 0,\n",
       " 'country': '',\n",
       " 'woeid': 1,\n",
       " 'countryCode': None}"
      ]
     },
     "execution_count": 20,
     "metadata": {},
     "output_type": "execute_result"
    }
   ],
   "source": [
    "# Get the WOEID for the Worldwide trends\n",
    "api.trends_available()[0]"
   ]
  },
  {
   "cell_type": "code",
   "execution_count": 21,
   "metadata": {},
   "outputs": [
    {
     "data": {
      "text/plain": [
       "'Ceballos'"
      ]
     },
     "execution_count": 21,
     "metadata": {},
     "output_type": "execute_result"
    }
   ],
   "source": [
    "# Worldwide trends (WOEID=1)\n",
    "trends_ww = api.trends_place(1)\n",
    "\n",
    "# name of the first top trend worldwide\n",
    "trends_ww[0]['trends'][0]['name']"
   ]
  },
  {
   "cell_type": "markdown",
   "metadata": {},
   "source": [
    "#### Search (Help)"
   ]
  },
  {
   "cell_type": "code",
   "execution_count": 22,
   "metadata": {},
   "outputs": [],
   "source": [
    "search_results=api.search(q=\"\\\"data science\\\"\", geocode=\"51.217667,6.757514,50km\", result_type=\"recent\", count=3)"
   ]
  },
  {
   "cell_type": "code",
   "execution_count": 23,
   "metadata": {},
   "outputs": [
    {
     "name": "stdout",
     "output_type": "stream",
     "text": [
      "Toby Buechsenschuetz  - #Followers:  543  - #Location:  Düsseldorf, Deutschland \n",
      " A5 Data science shapes one side of the spectrum. But in the front office, new skills include consultative selling,… https://t.co/VyiKiNP5G1 \n",
      "\n",
      "Sunny Porinju  - #Followers:  1609  - #Location:  Düsseldorf, Germany \n",
      " Excited to watch this - the trailer looks great! Watch “Data Science Pioneers Trailer - Coming Winter 2019”  https://t.co/HNcz4gP5lZ \n",
      "\n",
      "@mariuskarma  - #Followers:  6154  - #Location:  Duisburg, Deutschland \n",
      " Checking out \"Invitation to Join Data Science Central\" on Data Science Central: https://t.co/dxxdUpMZ4j \n",
      "\n"
     ]
    }
   ],
   "source": [
    "for i in range(3):\n",
    "    print(search_results[i].user.name, \n",
    "          \" - #Followers: \", search_results[i].user.followers_count,\n",
    "          \" - #Location: \", search_results[i].user.location,\n",
    "          \"\\n\", search_results[i].text,\n",
    "          \"\\n\")"
   ]
  },
  {
   "cell_type": "markdown",
   "metadata": {},
   "source": [
    "More info on [twitter](https://developer.twitter.com/en/docs/tweets/search/api-reference/get-search-tweets.html)."
   ]
  },
  {
   "cell_type": "markdown",
   "metadata": {
    "toc-hr-collapsed": false
   },
   "source": [
    "### Twitter Streams"
   ]
  },
  {
   "cell_type": "markdown",
   "metadata": {},
   "source": [
    "After we establish the connection to the stream, we will begin receiving a stream of data. The Twitter Streaming API allows us to collect real-time Twitter data based on either a sample or **keyword** filtering. \n",
    "\n",
    ">Using the streaming api has three steps.\n",
    " - Create a class inheriting from StreamListener,\n",
    " - Using that class create a Stream object,\n",
    " - Connect to the Twitter API using the Stream. [Source: tweepy](https://tweepy.readthedocs.io/en/v3.5.0/streaming_how_to.html)"
   ]
  },
  {
   "cell_type": "markdown",
   "metadata": {},
   "source": [
    "#### Creating a StreamListener"
   ]
  },
  {
   "cell_type": "markdown",
   "metadata": {},
   "source": [
    "Below code calls a Stream Listener. [Adapted from](https://github.com/SocialDataAnalytics-Winter2018/lab04/blob/master/slistener.py) "
   ]
  },
  {
   "cell_type": "code",
   "execution_count": 24,
   "metadata": {},
   "outputs": [],
   "source": [
    "# %run SListener.py"
   ]
  },
  {
   "cell_type": "markdown",
   "metadata": {},
   "source": [
    "Alternatively, we can load the file into the cell with the `%load` magic command. (`%load?` for more info)"
   ]
  },
  {
   "cell_type": "code",
   "execution_count": 25,
   "metadata": {},
   "outputs": [],
   "source": [
    "# Print SListener.py\n",
    "# %load SListener.py"
   ]
  },
  {
   "cell_type": "markdown",
   "metadata": {},
   "source": [
    "#### Creating a Stream"
   ]
  },
  {
   "cell_type": "code",
   "execution_count": 26,
   "metadata": {},
   "outputs": [],
   "source": [
    "# from tweepy import Stream\n",
    "\n",
    "# # Instantiate the SListener object, specify a time limit to listen (in seconds) \n",
    "# listener = SListener(api, time_limit=300)\n",
    "\n",
    "# # Instantiate the Stream object\n",
    "# stream = Stream(auth, listener) # tweepy.Stream"
   ]
  },
  {
   "cell_type": "markdown",
   "metadata": {},
   "source": [
    "There are various _streams_ available through Tweepy. We'll use `filter` to stream all tweets containing the _keywords_ in this notebook."
   ]
  },
  {
   "cell_type": "markdown",
   "metadata": {},
   "source": [
    "#### Starting a Stream"
   ]
  },
  {
   "cell_type": "code",
   "execution_count": 27,
   "metadata": {},
   "outputs": [],
   "source": [
    "# # Set up keywords to track\n",
    "# keywords = ['datascience', 'python']\n",
    "\n",
    "# # Begin collecting data\n",
    "# stream.filter(track = keywords) # is_async=True to run on a new thread"
   ]
  },
  {
   "cell_type": "markdown",
   "metadata": {},
   "source": [
    "> Streams not terminate unless the connection is closed, blocking the thread. Tweepy offers a convenient async parameter on filter so the stream will run on a new thread. For example\n",
    "\n",
    "`myStream.filter(track=['python'], async=True)`"
   ]
  },
  {
   "cell_type": "markdown",
   "metadata": {
    "toc-hr-collapsed": true
   },
   "source": [
    "## Loading and Accessing Tweets"
   ]
  },
  {
   "cell_type": "markdown",
   "metadata": {},
   "source": [
    "Tweets are collected from the Streaming API in **JSON** format. JSON is written with JavaScript object notation. We need to convert data into a Python data structure to work on it."
   ]
  },
  {
   "cell_type": "markdown",
   "metadata": {},
   "source": [
    "### Saving a Status as JSON"
   ]
  },
  {
   "cell_type": "markdown",
   "metadata": {},
   "source": [
    "We can convert the status object to JSON format using `.dumps()` function. The parameter `indent` is to make it easier reading the result."
   ]
  },
  {
   "cell_type": "code",
   "execution_count": 28,
   "metadata": {},
   "outputs": [
    {
     "name": "stdout",
     "output_type": "stream",
     "text": [
      "{\n",
      "  \"created_at\": \"Thu Apr 06 02:38:40 +0000 2017\",\n",
      "  \"id\": 849813577770778624,\n",
      "  \"id_str\": \"849813577770778624\",\n",
      "  \"text\": \"HELP ME PLEASE. A MAN NEEDS HIS NUGGS https://t.co/4SrfHmEMo3\",\n",
      "  \"truncated\": false,\n",
      "  \"entities\": {\n",
      "    \"hashtags\": [],\n",
      "    \"symbols\": [],\n",
      "    \"user_mentions\": [],\n",
      "    \"urls\": [],\n",
      "    \"media\": [\n",
      "      {\n",
      "        \"id\": 849813572351737856,\n",
      "        \"id_str\": \"849813572351737856\",\n",
      "        \"indices\": [\n",
      "          38,\n",
      "          61\n",
      "        ],\n",
      "        \"media_url\": \"http://pbs.twim\n"
     ]
    }
   ],
   "source": [
    "# Status to json object (encoding)\n",
    "tweet_json = json.dumps(status._json, indent=2)\n",
    "print(tweet_json[:500])"
   ]
  },
  {
   "cell_type": "code",
   "execution_count": 29,
   "metadata": {},
   "outputs": [
    {
     "data": {
      "text/plain": [
       "(str, tweepy.models.Status)"
      ]
     },
     "execution_count": 29,
     "metadata": {},
     "output_type": "execute_result"
    }
   ],
   "source": [
    "type(tweet_json), type(status)"
   ]
  },
  {
   "cell_type": "markdown",
   "metadata": {},
   "source": [
    "### Accessing a Single Tweet"
   ]
  },
  {
   "cell_type": "markdown",
   "metadata": {},
   "source": [
    "JSON can be converted to Python object using the `.loads()` method. See links for the difference between [json.load](https://docs.python.org/3/library/json.html#json.load) and [json.loads](https://docs.python.org/3/library/json.html#json.loads)"
   ]
  },
  {
   "cell_type": "code",
   "execution_count": 30,
   "metadata": {},
   "outputs": [
    {
     "data": {
      "text/plain": [
       "dict"
      ]
     },
     "execution_count": 30,
     "metadata": {},
     "output_type": "execute_result"
    }
   ],
   "source": [
    "# Convert from JSON(str) to Python object->dict (decode JSON)\n",
    "tweet = json.loads(tweet_json)\n",
    "\n",
    "type(tweet)"
   ]
  },
  {
   "cell_type": "code",
   "execution_count": 31,
   "metadata": {},
   "outputs": [
    {
     "name": "stdout",
     "output_type": "stream",
     "text": [
      "created_at\n",
      "id\n",
      "id_str\n",
      "text\n",
      "truncated\n",
      "entities\n",
      "extended_entities\n",
      "source\n",
      "in_reply_to_status_id\n",
      "in_reply_to_status_id_str\n",
      "in_reply_to_user_id\n",
      "in_reply_to_user_id_str\n",
      "in_reply_to_screen_name\n",
      "user\n",
      "geo\n",
      "coordinates\n",
      "place\n",
      "contributors\n",
      "is_quote_status\n",
      "retweet_count\n",
      "favorite_count\n",
      "favorited\n",
      "retweeted\n",
      "possibly_sensitive\n",
      "possibly_sensitive_appealable\n",
      "lang\n"
     ]
    }
   ],
   "source": [
    "# Print the main keys of the tweet\n",
    "for k, v in tweet.items():\n",
    "    print(k)"
   ]
  },
  {
   "cell_type": "code",
   "execution_count": 32,
   "metadata": {},
   "outputs": [
    {
     "name": "stdout",
     "output_type": "stream",
     "text": [
      "HELP ME PLEASE. A MAN NEEDS HIS NUGGS https://t.co/4SrfHmEMo3\n",
      "849813577770778624\n"
     ]
    }
   ],
   "source": [
    "# Print tweet text\n",
    "print(tweet['text'])\n",
    "\n",
    "# Print tweet id\n",
    "print(tweet['id'])"
   ]
  },
  {
   "cell_type": "markdown",
   "metadata": {},
   "source": [
    "#### User Data"
   ]
  },
  {
   "cell_type": "code",
   "execution_count": 33,
   "metadata": {},
   "outputs": [
    {
     "name": "stdout",
     "output_type": "stream",
     "text": [
      "<class 'dict'>\n"
     ]
    },
    {
     "data": {
      "text/plain": [
       "{'id': 2568270758,\n",
       " 'id_str': '2568270758',\n",
       " 'name': 'Carter Wilkerson',\n",
       " 'screen_name': 'carterjwm',\n",
       " 'location': 'Reno, NV - San Diego, CA',\n",
       " 'description': 'some call me nugget boy #NuggsforCarter',\n",
       " 'url': 'https://t.co/hEJZpyr0Vs',\n",
       " 'entities': {'url': {'urls': [{'url': 'https://t.co/hEJZpyr0Vs',\n",
       "     'expanded_url': 'http://nuggsforcarter.com',\n",
       "     'display_url': 'nuggsforcarter.com',\n",
       "     'indices': [0, 23]}]},\n",
       "  'description': {'urls': []}},\n",
       " 'protected': False,\n",
       " 'followers_count': 95946,\n",
       " 'friends_count': 304,\n",
       " 'listed_count': 3273,\n",
       " 'created_at': 'Sun Jun 15 03:48:03 +0000 2014',\n",
       " 'favourites_count': 28020,\n",
       " 'utc_offset': None,\n",
       " 'time_zone': None,\n",
       " 'geo_enabled': True,\n",
       " 'verified': True,\n",
       " 'statuses_count': 1782,\n",
       " 'lang': None,\n",
       " 'contributors_enabled': False,\n",
       " 'is_translator': False,\n",
       " 'is_translation_enabled': False,\n",
       " 'profile_background_color': 'C0DEED',\n",
       " 'profile_background_image_url': 'http://abs.twimg.com/images/themes/theme1/bg.png',\n",
       " 'profile_background_image_url_https': 'https://abs.twimg.com/images/themes/theme1/bg.png',\n",
       " 'profile_background_tile': False,\n",
       " 'profile_image_url': 'http://pbs.twimg.com/profile_images/1049068688387727360/ZVPaPtll_normal.jpg',\n",
       " 'profile_image_url_https': 'https://pbs.twimg.com/profile_images/1049068688387727360/ZVPaPtll_normal.jpg',\n",
       " 'profile_banner_url': 'https://pbs.twimg.com/profile_banners/2568270758/1562332945',\n",
       " 'profile_link_color': '1DA1F2',\n",
       " 'profile_sidebar_border_color': 'C0DEED',\n",
       " 'profile_sidebar_fill_color': 'DDEEF6',\n",
       " 'profile_text_color': '333333',\n",
       " 'profile_use_background_image': True,\n",
       " 'has_extended_profile': True,\n",
       " 'default_profile': True,\n",
       " 'default_profile_image': False,\n",
       " 'following': False,\n",
       " 'follow_request_sent': False,\n",
       " 'notifications': False,\n",
       " 'translator_type': 'none'}"
      ]
     },
     "execution_count": 33,
     "metadata": {},
     "output_type": "execute_result"
    }
   ],
   "source": [
    "print(type(tweet['user']))\n",
    "# Print information on the user\n",
    "tweet['user']"
   ]
  },
  {
   "cell_type": "code",
   "execution_count": 34,
   "metadata": {},
   "outputs": [
    {
     "data": {
      "text/plain": [
       "dict_keys(['id', 'id_str', 'name', 'screen_name', 'location', 'description', 'url', 'entities', 'protected', 'followers_count', 'friends_count', 'listed_count', 'created_at', 'favourites_count', 'utc_offset', 'time_zone', 'geo_enabled', 'verified', 'statuses_count', 'lang', 'contributors_enabled', 'is_translator', 'is_translation_enabled', 'profile_background_color', 'profile_background_image_url', 'profile_background_image_url_https', 'profile_background_tile', 'profile_image_url', 'profile_image_url_https', 'profile_banner_url', 'profile_link_color', 'profile_sidebar_border_color', 'profile_sidebar_fill_color', 'profile_text_color', 'profile_use_background_image', 'has_extended_profile', 'default_profile', 'default_profile_image', 'following', 'follow_request_sent', 'notifications', 'translator_type'])"
      ]
     },
     "execution_count": 34,
     "metadata": {},
     "output_type": "execute_result"
    }
   ],
   "source": [
    "# Print the main keys of the tweet\n",
    "tweet['user'].keys()"
   ]
  },
  {
   "cell_type": "code",
   "execution_count": 35,
   "metadata": {},
   "outputs": [
    {
     "name": "stdout",
     "output_type": "stream",
     "text": [
      "carterjwm\n",
      "95946\n",
      "Reno, NV - San Diego, CA\n",
      "some call me nugget boy #NuggsforCarter\n",
      "3482948\n"
     ]
    }
   ],
   "source": [
    "# Print user name\n",
    "print(tweet['user']['screen_name'])\n",
    "\n",
    "# Print user follower count\n",
    "print(tweet['user']['followers_count'])\n",
    "\n",
    "# Print user location\n",
    "print(tweet['user']['location'])\n",
    "\n",
    "# Print user description\n",
    "print(tweet['user']['description'])\n",
    "\n",
    "# Print the number of retweets\n",
    "print(tweet['retweet_count'])"
   ]
  },
  {
   "cell_type": "code",
   "execution_count": 36,
   "metadata": {},
   "outputs": [
    {
     "name": "stdout",
     "output_type": "stream",
     "text": [
      "False\n"
     ]
    }
   ],
   "source": [
    "# Check whether retweet or not\n",
    "print(tweet['retweeted'])"
   ]
  },
  {
   "cell_type": "markdown",
   "metadata": {},
   "source": [
    "#### Retweet Data\n",
    "\n",
    "The structure of a retweet is similar to that of a tweet. Additionally, it holds information in `retweeted_status` field."
   ]
  },
  {
   "cell_type": "code",
   "execution_count": 37,
   "metadata": {},
   "outputs": [
    {
     "name": "stdout",
     "output_type": "stream",
     "text": [
      "This is not a RT\n"
     ]
    }
   ],
   "source": [
    "try:\n",
    "    tweet['retweeted_status']\n",
    "except:\n",
    "    print(\"This is not a RT\")"
   ]
  },
  {
   "cell_type": "code",
   "execution_count": 38,
   "metadata": {},
   "outputs": [],
   "source": [
    "with open('tweets_1min.json', 'r') as tweet_json:\n",
    "    # Read in the first status in the JSON file\n",
    "    rt = tweet_json.read().split(\"\\n\")[0]\n",
    "\n",
    "# Decode JSON\n",
    "retweet = json.loads(rt)"
   ]
  },
  {
   "cell_type": "code",
   "execution_count": 39,
   "metadata": {},
   "outputs": [
    {
     "data": {
      "text/plain": [
       "dict_keys(['created_at', 'id', 'id_str', 'text', 'source', 'truncated', 'in_reply_to_status_id', 'in_reply_to_status_id_str', 'in_reply_to_user_id', 'in_reply_to_user_id_str', 'in_reply_to_screen_name', 'user', 'geo', 'coordinates', 'place', 'contributors', 'retweeted_status', 'is_quote_status', 'quote_count', 'reply_count', 'retweet_count', 'favorite_count', 'entities', 'favorited', 'retweeted', 'filter_level', 'lang', 'timestamp_ms'])"
      ]
     },
     "execution_count": 39,
     "metadata": {},
     "output_type": "execute_result"
    }
   ],
   "source": [
    "retweet.keys()"
   ]
  },
  {
   "cell_type": "code",
   "execution_count": 40,
   "metadata": {},
   "outputs": [
    {
     "name": "stdout",
     "output_type": "stream",
     "text": [
      "RT @pyblogsal: The oldest piece of CPython, the parser generator (pgen) has been retired and replaced with a new version! 🐍🖥️🥳 \n",
      "\n",
      "The parser…\n"
     ]
    }
   ],
   "source": [
    "# Print the text of the tweet\n",
    "print(retweet['text'])"
   ]
  },
  {
   "cell_type": "code",
   "execution_count": 41,
   "metadata": {},
   "outputs": [],
   "source": [
    "# Print the text of the tweet\n",
    "#print(retweet['text'])\n",
    "\n",
    "# Print the text of tweet which has been retweeted\n",
    "#print(retweet['retweeted_status']['text'])\n",
    "\n",
    "# Print the user handle of the tweet\n",
    "#print(retweet['user']['screen_name'])\n",
    "\n",
    "# Print the user handle of the tweet which has been retweeted\n",
    "#print(retweet['retweeted_status']['user']['screen_name'])"
   ]
  },
  {
   "cell_type": "code",
   "execution_count": 42,
   "metadata": {},
   "outputs": [
    {
     "data": {
      "text/plain": [
       "dict_keys(['created_at', 'id', 'id_str', 'text', 'source', 'truncated', 'in_reply_to_status_id', 'in_reply_to_status_id_str', 'in_reply_to_user_id', 'in_reply_to_user_id_str', 'in_reply_to_screen_name', 'user', 'geo', 'coordinates', 'place', 'contributors', 'is_quote_status', 'extended_tweet', 'quote_count', 'reply_count', 'retweet_count', 'favorite_count', 'entities', 'favorited', 'retweeted', 'filter_level', 'lang'])"
      ]
     },
     "execution_count": 42,
     "metadata": {},
     "output_type": "execute_result"
    }
   ],
   "source": [
    "retweet['retweeted_status'].keys()"
   ]
  },
  {
   "cell_type": "code",
   "execution_count": 43,
   "metadata": {},
   "outputs": [
    {
     "data": {
      "text/plain": [
       "'The oldest piece of CPython, the parser generator (pgen) has been retired and replaced with a new version! 🐍🖥️🥳 \\n\\nT… https://t.co/5NcPvO2hzn'"
      ]
     },
     "execution_count": 43,
     "metadata": {},
     "output_type": "execute_result"
    }
   ],
   "source": [
    "# Print the text (140 characters) of the  original tweet (retweet)\n",
    "retweet['retweeted_status']['text']"
   ]
  },
  {
   "cell_type": "code",
   "execution_count": 44,
   "metadata": {},
   "outputs": [
    {
     "data": {
      "text/plain": [
       "'The oldest piece of CPython, the parser generator (pgen) has been retired and replaced with a new version! 🐍🖥️🥳 \\n\\nThe parser generator was the first piece written for Python 29 years ago. It generates the parser rules (in the form of DFAs) from the grammar specification file.'"
      ]
     },
     "execution_count": 44,
     "metadata": {},
     "output_type": "execute_result"
    }
   ],
   "source": [
    "# Print the full text (140+ characters) of the retweet\n",
    "retweet['retweeted_status']['extended_tweet']['full_text']"
   ]
  },
  {
   "cell_type": "markdown",
   "metadata": {},
   "source": [
    "### Loading Multiple Tweets from a JSON File"
   ]
  },
  {
   "cell_type": "code",
   "execution_count": 45,
   "metadata": {},
   "outputs": [
    {
     "data": {
      "text/plain": [
       "26"
      ]
     },
     "execution_count": 45,
     "metadata": {},
     "output_type": "execute_result"
    }
   ],
   "source": [
    "with open('tweets_1min.json', 'r') as tweet_json:\n",
    "    # Read in the status in the JSON file.\n",
    "    twt = tweet_json.read().split(\"\\n\")\n",
    "\n",
    "# Print the number of tweets in the file\n",
    "len(twt)"
   ]
  },
  {
   "cell_type": "code",
   "execution_count": 46,
   "metadata": {},
   "outputs": [
    {
     "data": {
      "text/plain": [
       "'RT @pyblogsal: The oldest piece of CPython, the parser generator (pgen) has been retired and replaced with a new version! 🐍🖥️🥳 \\n\\nThe parser…'"
      ]
     },
     "execution_count": 46,
     "metadata": {},
     "output_type": "execute_result"
    }
   ],
   "source": [
    "# Decode JSON\n",
    "tweet_1 = json.loads(twt[0])\n",
    "\n",
    "# Print out the first tweet in the file\n",
    "tweet_1['text']"
   ]
  },
  {
   "cell_type": "markdown",
   "metadata": {
    "toc-hr-collapsed": true
   },
   "source": [
    "## Processing Text"
   ]
  },
  {
   "cell_type": "markdown",
   "metadata": {},
   "source": [
    "### Flattening Tweets and Creating a DataFrame"
   ]
  },
  {
   "cell_type": "markdown",
   "metadata": {},
   "source": [
    "It is usually a good practice to **flatten** the tweets (JSON file) into a single level. By doing this, we can convert necessary information to a DataFrame properly and analyze tweets in an easier manner. The function below is used to flatten tweets and prepare the data before creating a pandas DataFrame."
   ]
  },
  {
   "cell_type": "code",
   "execution_count": 47,
   "metadata": {},
   "outputs": [],
   "source": [
    "%run flatten.py\n",
    "# %load flatten.py"
   ]
  },
  {
   "cell_type": "code",
   "execution_count": 48,
   "metadata": {},
   "outputs": [],
   "source": [
    "# Create flattened tweet list with the above function\n",
    "tweet_list = flatten('tweets_1min.json')"
   ]
  },
  {
   "cell_type": "markdown",
   "metadata": {},
   "source": [
    "We may want to load hundreds of tweets for analysis. Therefore, we need to import the file as a DataFrame."
   ]
  },
  {
   "cell_type": "code",
   "execution_count": 49,
   "metadata": {},
   "outputs": [],
   "source": [
    "import pandas as pd"
   ]
  },
  {
   "cell_type": "code",
   "execution_count": 50,
   "metadata": {},
   "outputs": [],
   "source": [
    "# Create a pandas DataFrame\n",
    "tweets_df = pd.DataFrame(tweet_list)"
   ]
  },
  {
   "cell_type": "code",
   "execution_count": 51,
   "metadata": {},
   "outputs": [
    {
     "data": {
      "text/html": [
       "<div>\n",
       "<style scoped>\n",
       "    .dataframe tbody tr th:only-of-type {\n",
       "        vertical-align: middle;\n",
       "    }\n",
       "\n",
       "    .dataframe tbody tr th {\n",
       "        vertical-align: top;\n",
       "    }\n",
       "\n",
       "    .dataframe thead th {\n",
       "        text-align: right;\n",
       "    }\n",
       "</style>\n",
       "<table border=\"1\" class=\"dataframe\">\n",
       "  <thead>\n",
       "    <tr style=\"text-align: right;\">\n",
       "      <th></th>\n",
       "      <th>created_at</th>\n",
       "      <th>id</th>\n",
       "      <th>id_str</th>\n",
       "      <th>text</th>\n",
       "      <th>source</th>\n",
       "      <th>truncated</th>\n",
       "      <th>in_reply_to_status_id</th>\n",
       "      <th>in_reply_to_status_id_str</th>\n",
       "      <th>in_reply_to_user_id</th>\n",
       "      <th>in_reply_to_user_id_str</th>\n",
       "      <th>in_reply_to_screen_name</th>\n",
       "      <th>user</th>\n",
       "      <th>geo</th>\n",
       "      <th>coordinates</th>\n",
       "      <th>place</th>\n",
       "      <th>contributors</th>\n",
       "      <th>retweeted_status</th>\n",
       "      <th>is_quote_status</th>\n",
       "      <th>quote_count</th>\n",
       "      <th>reply_count</th>\n",
       "      <th>retweet_count</th>\n",
       "      <th>favorite_count</th>\n",
       "      <th>entities</th>\n",
       "      <th>favorited</th>\n",
       "      <th>retweeted</th>\n",
       "      <th>filter_level</th>\n",
       "      <th>lang</th>\n",
       "      <th>timestamp_ms</th>\n",
       "      <th>user-screen_name</th>\n",
       "      <th>retweeted_status-user-screen_name</th>\n",
       "      <th>retweeted_status-text</th>\n",
       "      <th>retweeted_status-extended_tweet-full_text</th>\n",
       "      <th>display_text_range</th>\n",
       "      <th>extended_tweet</th>\n",
       "      <th>possibly_sensitive</th>\n",
       "      <th>extended_tweet-full_text</th>\n",
       "      <th>extended_entities</th>\n",
       "    </tr>\n",
       "  </thead>\n",
       "  <tbody>\n",
       "    <tr>\n",
       "      <th>0</th>\n",
       "      <td>Sat Mar 02 19:19:29 +0000 2019</td>\n",
       "      <td>1101925010082394112</td>\n",
       "      <td>1101925010082394112</td>\n",
       "      <td>RT @pyblogsal: The oldest piece of CPython, th...</td>\n",
       "      <td>&lt;a href=\"http://tapbots.com/tweetbot\" rel=\"nof...</td>\n",
       "      <td>False</td>\n",
       "      <td>NaN</td>\n",
       "      <td>None</td>\n",
       "      <td>NaN</td>\n",
       "      <td>None</td>\n",
       "      <td>None</td>\n",
       "      <td>{'id': 18064071, 'id_str': '18064071', 'name':...</td>\n",
       "      <td>None</td>\n",
       "      <td>None</td>\n",
       "      <td>None</td>\n",
       "      <td>None</td>\n",
       "      <td>{'created_at': 'Sat Mar 02 15:58:50 +0000 2019...</td>\n",
       "      <td>False</td>\n",
       "      <td>0</td>\n",
       "      <td>0</td>\n",
       "      <td>0</td>\n",
       "      <td>0</td>\n",
       "      <td>{'hashtags': [], 'urls': [], 'user_mentions': ...</td>\n",
       "      <td>False</td>\n",
       "      <td>False</td>\n",
       "      <td>low</td>\n",
       "      <td>en</td>\n",
       "      <td>1551554369837</td>\n",
       "      <td>erickgnavar</td>\n",
       "      <td>pyblogsal</td>\n",
       "      <td>The oldest piece of CPython, the parser genera...</td>\n",
       "      <td>The oldest piece of CPython, the parser genera...</td>\n",
       "      <td>NaN</td>\n",
       "      <td>NaN</td>\n",
       "      <td>NaN</td>\n",
       "      <td>NaN</td>\n",
       "      <td>NaN</td>\n",
       "    </tr>\n",
       "    <tr>\n",
       "      <th>1</th>\n",
       "      <td>Sat Mar 02 19:19:29 +0000 2019</td>\n",
       "      <td>1101925010346835968</td>\n",
       "      <td>1101925010346835968</td>\n",
       "      <td>Hier mal das, was das Projekt grundlegend zeig...</td>\n",
       "      <td>&lt;a href=\"http://twitter.com/download/android\" ...</td>\n",
       "      <td>True</td>\n",
       "      <td>NaN</td>\n",
       "      <td>None</td>\n",
       "      <td>NaN</td>\n",
       "      <td>None</td>\n",
       "      <td>None</td>\n",
       "      <td>{'id': 3292060903, 'id_str': '3292060903', 'na...</td>\n",
       "      <td>None</td>\n",
       "      <td>None</td>\n",
       "      <td>None</td>\n",
       "      <td>None</td>\n",
       "      <td>NaN</td>\n",
       "      <td>False</td>\n",
       "      <td>0</td>\n",
       "      <td>0</td>\n",
       "      <td>0</td>\n",
       "      <td>0</td>\n",
       "      <td>{'hashtags': [], 'urls': [{'url': 'https://t.c...</td>\n",
       "      <td>False</td>\n",
       "      <td>False</td>\n",
       "      <td>low</td>\n",
       "      <td>de</td>\n",
       "      <td>1551554369900</td>\n",
       "      <td>l9cgv</td>\n",
       "      <td>NaN</td>\n",
       "      <td>NaN</td>\n",
       "      <td>NaN</td>\n",
       "      <td>[0, 140]</td>\n",
       "      <td>{'full_text': 'Hier mal das, was das Projekt g...</td>\n",
       "      <td>False</td>\n",
       "      <td>Hier mal das, was das Projekt grundlegend zeig...</td>\n",
       "      <td>NaN</td>\n",
       "    </tr>\n",
       "    <tr>\n",
       "      <th>2</th>\n",
       "      <td>Sat Mar 02 19:19:33 +0000 2019</td>\n",
       "      <td>1101925027258093568</td>\n",
       "      <td>1101925027258093568</td>\n",
       "      <td>Python resulta ser el mejor lenguaje de 2018 h...</td>\n",
       "      <td>&lt;a href=\"https://dlvrit.com/\" rel=\"nofollow\"&gt;d...</td>\n",
       "      <td>False</td>\n",
       "      <td>NaN</td>\n",
       "      <td>None</td>\n",
       "      <td>NaN</td>\n",
       "      <td>None</td>\n",
       "      <td>None</td>\n",
       "      <td>{'id': 903393260860825600, 'id_str': '90339326...</td>\n",
       "      <td>None</td>\n",
       "      <td>None</td>\n",
       "      <td>None</td>\n",
       "      <td>None</td>\n",
       "      <td>NaN</td>\n",
       "      <td>False</td>\n",
       "      <td>0</td>\n",
       "      <td>0</td>\n",
       "      <td>0</td>\n",
       "      <td>0</td>\n",
       "      <td>{'hashtags': [], 'urls': [{'url': 'https://t.c...</td>\n",
       "      <td>False</td>\n",
       "      <td>False</td>\n",
       "      <td>low</td>\n",
       "      <td>es</td>\n",
       "      <td>1551554373932</td>\n",
       "      <td>SharkBrand10</td>\n",
       "      <td>NaN</td>\n",
       "      <td>NaN</td>\n",
       "      <td>NaN</td>\n",
       "      <td>[0, 68]</td>\n",
       "      <td>NaN</td>\n",
       "      <td>False</td>\n",
       "      <td>NaN</td>\n",
       "      <td>{'media': [{'id': 1101925025471295488, 'id_str...</td>\n",
       "    </tr>\n",
       "  </tbody>\n",
       "</table>\n",
       "</div>"
      ],
      "text/plain": [
       "                       created_at                   id               id_str  \\\n",
       "0  Sat Mar 02 19:19:29 +0000 2019  1101925010082394112  1101925010082394112   \n",
       "1  Sat Mar 02 19:19:29 +0000 2019  1101925010346835968  1101925010346835968   \n",
       "2  Sat Mar 02 19:19:33 +0000 2019  1101925027258093568  1101925027258093568   \n",
       "\n",
       "                                                text  \\\n",
       "0  RT @pyblogsal: The oldest piece of CPython, th...   \n",
       "1  Hier mal das, was das Projekt grundlegend zeig...   \n",
       "2  Python resulta ser el mejor lenguaje de 2018 h...   \n",
       "\n",
       "                                              source  truncated  \\\n",
       "0  <a href=\"http://tapbots.com/tweetbot\" rel=\"nof...      False   \n",
       "1  <a href=\"http://twitter.com/download/android\" ...       True   \n",
       "2  <a href=\"https://dlvrit.com/\" rel=\"nofollow\">d...      False   \n",
       "\n",
       "   in_reply_to_status_id in_reply_to_status_id_str  in_reply_to_user_id  \\\n",
       "0                    NaN                      None                  NaN   \n",
       "1                    NaN                      None                  NaN   \n",
       "2                    NaN                      None                  NaN   \n",
       "\n",
       "  in_reply_to_user_id_str in_reply_to_screen_name  \\\n",
       "0                    None                    None   \n",
       "1                    None                    None   \n",
       "2                    None                    None   \n",
       "\n",
       "                                                user   geo coordinates place  \\\n",
       "0  {'id': 18064071, 'id_str': '18064071', 'name':...  None        None  None   \n",
       "1  {'id': 3292060903, 'id_str': '3292060903', 'na...  None        None  None   \n",
       "2  {'id': 903393260860825600, 'id_str': '90339326...  None        None  None   \n",
       "\n",
       "  contributors                                   retweeted_status  \\\n",
       "0         None  {'created_at': 'Sat Mar 02 15:58:50 +0000 2019...   \n",
       "1         None                                                NaN   \n",
       "2         None                                                NaN   \n",
       "\n",
       "   is_quote_status  quote_count  reply_count  retweet_count  favorite_count  \\\n",
       "0            False            0            0              0               0   \n",
       "1            False            0            0              0               0   \n",
       "2            False            0            0              0               0   \n",
       "\n",
       "                                            entities  favorited  retweeted  \\\n",
       "0  {'hashtags': [], 'urls': [], 'user_mentions': ...      False      False   \n",
       "1  {'hashtags': [], 'urls': [{'url': 'https://t.c...      False      False   \n",
       "2  {'hashtags': [], 'urls': [{'url': 'https://t.c...      False      False   \n",
       "\n",
       "  filter_level lang   timestamp_ms user-screen_name  \\\n",
       "0          low   en  1551554369837      erickgnavar   \n",
       "1          low   de  1551554369900            l9cgv   \n",
       "2          low   es  1551554373932     SharkBrand10   \n",
       "\n",
       "  retweeted_status-user-screen_name  \\\n",
       "0                         pyblogsal   \n",
       "1                               NaN   \n",
       "2                               NaN   \n",
       "\n",
       "                               retweeted_status-text  \\\n",
       "0  The oldest piece of CPython, the parser genera...   \n",
       "1                                                NaN   \n",
       "2                                                NaN   \n",
       "\n",
       "           retweeted_status-extended_tweet-full_text display_text_range  \\\n",
       "0  The oldest piece of CPython, the parser genera...                NaN   \n",
       "1                                                NaN           [0, 140]   \n",
       "2                                                NaN            [0, 68]   \n",
       "\n",
       "                                      extended_tweet possibly_sensitive  \\\n",
       "0                                                NaN                NaN   \n",
       "1  {'full_text': 'Hier mal das, was das Projekt g...              False   \n",
       "2                                                NaN              False   \n",
       "\n",
       "                            extended_tweet-full_text  \\\n",
       "0                                                NaN   \n",
       "1  Hier mal das, was das Projekt grundlegend zeig...   \n",
       "2                                                NaN   \n",
       "\n",
       "                                   extended_entities  \n",
       "0                                                NaN  \n",
       "1                                                NaN  \n",
       "2  {'media': [{'id': 1101925025471295488, 'id_str...  "
      ]
     },
     "execution_count": 51,
     "metadata": {},
     "output_type": "execute_result"
    }
   ],
   "source": [
    "# Display 100 columns max\n",
    "pd.set_option('display.max_columns', 40)\n",
    "\n",
    "# Print out hte first 3 tweets\n",
    "tweets_df.head(3)"
   ]
  },
  {
   "cell_type": "code",
   "execution_count": 52,
   "metadata": {},
   "outputs": [
    {
     "data": {
      "text/plain": [
       "array(['RT @pyblogsal: The oldest piece of CPython, the parser generator (pgen) has been retired and replaced with a new version! 🐍🖥️🥳 \\n\\nThe parser…',\n",
       "       'Hier mal das, was das Projekt grundlegend zeigen soll... Eine Art Visualisierung in Form von LED-Streifen über ein… https://t.co/vln2xW8H5R',\n",
       "       'Python resulta ser el mejor lenguaje de 2018 https://t.co/uXhtxheYcW https://t.co/L0AqT6KniN'],\n",
       "      dtype=object)"
      ]
     },
     "execution_count": 52,
     "metadata": {},
     "output_type": "execute_result"
    }
   ],
   "source": [
    "# Print out the text of the first 3 tweets\n",
    "tweets_df['text'].values[0:3]"
   ]
  },
  {
   "cell_type": "code",
   "execution_count": 53,
   "metadata": {},
   "outputs": [
    {
     "data": {
      "text/plain": [
       "15"
      ]
     },
     "execution_count": 53,
     "metadata": {},
     "output_type": "execute_result"
    }
   ],
   "source": [
    "# Print out the number of retweets\n",
    "tweets_df.retweeted_status.notnull().sum()"
   ]
  },
  {
   "cell_type": "markdown",
   "metadata": {},
   "source": [
    "### Counting Words\n",
    "\n",
    "Counting words is the basic step for text analysis. There are 26 tweets in our Data Frame."
   ]
  },
  {
   "cell_type": "code",
   "execution_count": 54,
   "metadata": {},
   "outputs": [
    {
     "data": {
      "text/plain": [
       "26"
      ]
     },
     "execution_count": 54,
     "metadata": {},
     "output_type": "execute_result"
    }
   ],
   "source": [
    "# The number of tweets in the DataFrame\n",
    "tweets_df.shape[0]"
   ]
  },
  {
   "cell_type": "markdown",
   "metadata": {},
   "source": [
    "We can use `str.contains()` along with `sum()` to count the frequency of a keyword. `case` parameter is for selecting case sensitivity."
   ]
  },
  {
   "cell_type": "code",
   "execution_count": 55,
   "metadata": {},
   "outputs": [
    {
     "name": "stdout",
     "output_type": "stream",
     "text": [
      "12\n",
      "2\n"
     ]
    }
   ],
   "source": [
    "# Number of tweets that contain the keyword \"python\"\n",
    "print(tweets_df['text'].str.contains('python', case = False).sum())\n",
    "\n",
    "# Find mentions of \"#python\" in 'text'\n",
    "print(tweets_df['text'].str.contains('#python', case=False).sum())"
   ]
  },
  {
   "cell_type": "code",
   "execution_count": 56,
   "metadata": {},
   "outputs": [
    {
     "data": {
      "text/plain": [
       "5"
      ]
     },
     "execution_count": 56,
     "metadata": {},
     "output_type": "execute_result"
    }
   ],
   "source": [
    "# Number of tweets that contain the keyword \"datascience\"\n",
    "tweets_df['text'].str.contains('datascience', case = False).sum()"
   ]
  },
  {
   "cell_type": "code",
   "execution_count": 57,
   "metadata": {},
   "outputs": [
    {
     "name": "stdout",
     "output_type": "stream",
     "text": [
      "Proportion of 'python' tweets: 0.46153846153846156\n"
     ]
    }
   ],
   "source": [
    "# Print proportion of tweets mentioning python\n",
    "print(\"Proportion of 'python' tweets:\", tweets_df['text'].str.contains('python', case = False).sum() / tweets_df.shape[0])"
   ]
  },
  {
   "cell_type": "markdown",
   "metadata": {},
   "source": [
    "We have previously searched for keywords 'python' and 'datascience'. Sum of the two occurences are $12 + 5 = 17$. However, we have a total of 26 tweets. The reason we have less number of occurences is that we have only looked in the main `text` field. The keywords may well be in the `extended_tweet`, the `quoted_status`, and the `retweeted_status` fields. Thus we need to search all text fields. \n",
    "\n",
    "|#|Text Fields|\n",
    "|-|:----------|\n",
    "|1|text|\n",
    "|2|extended_tweet > full_text|\n",
    "|3|quoted_status > text|\n",
    "|4|quoted_status > extended_tweet > full_text|\n",
    "|5|retweeted_status > text|\n",
    "|6|retweeted_status > extended_tweet > full_text|"
   ]
  },
  {
   "cell_type": "code",
   "execution_count": 58,
   "metadata": {},
   "outputs": [],
   "source": [
    "def check_keywords(keyword, data):\n",
    "    \"\"\"Checks if a keyword is in a Twitter text. \n",
    "    Checks text and extended tweet (140+ character tweets) for tweets,\n",
    "    retweets and quoted tweets. Returns a logical pandas Series.\n",
    "    \"\"\"\n",
    "    check_col = data['text'].str.contains(keyword, case = False)\n",
    "    check_col |= data['extended_tweet-full_text'].str.contains(keyword, case = False)\n",
    "#    check_col |= data['quoted_status-text'].str.contains(keyword, case = False)\n",
    "#    check_col |= data['quoted_status-extended_tweet-full_text'].str.contains(keyword, case = False)\n",
    "    check_col |= data['retweeted_status-text'].str.contains(keyword, case=False)\n",
    "    check_col |= data['retweeted_status-extended_tweet-full_text'].str.contains(keyword, case=False)\n",
    "    \n",
    "    return check_col"
   ]
  },
  {
   "cell_type": "code",
   "execution_count": 59,
   "metadata": {},
   "outputs": [
    {
     "name": "stdout",
     "output_type": "stream",
     "text": [
      "17\n",
      "10\n",
      "Proportion of 'python' tweets: 0.6538461538461539\n",
      "Proportion of 'datascience' tweets: 0.38461538461538464\n"
     ]
    }
   ],
   "source": [
    "# Find mentions of python in all text fields\n",
    "python = check_keywords('python', tweets_df)\n",
    "print(python.sum())\n",
    "\n",
    "# Find mentions of both python and datascience in all text fields\n",
    "datascience = check_keywords('datascience', tweets_df)\n",
    "print(datascience.sum())\n",
    "\n",
    "# Print proportion of tweets mentioning python\n",
    "print(\"Proportion of 'python' tweets:\", python.sum() / tweets_df.shape[0])\n",
    "\n",
    "# Print proportion of tweets mentioning datascience\n",
    "print(\"Proportion of 'datascience' tweets:\", datascience.sum() / tweets_df.shape[0])"
   ]
  },
  {
   "cell_type": "markdown",
   "metadata": {},
   "source": [
    "### Time Series\n",
    "\n",
    "We can explore the various attributes of tweet data over time. We need to change the data type of a specific column (`created_at`) from `object` to `datetime`. However, We'll first read in a file with more tweets."
   ]
  },
  {
   "cell_type": "code",
   "execution_count": 60,
   "metadata": {},
   "outputs": [
    {
     "data": {
      "text/plain": [
       "176"
      ]
     },
     "execution_count": 60,
     "metadata": {},
     "output_type": "execute_result"
    }
   ],
   "source": [
    "# Create flattened tweet list\n",
    "tweet_10_list = flatten('tweets_10min.json')\n",
    "\n",
    "# Create a pandas DataFrame\n",
    "tweets10_df = pd.DataFrame(tweet_10_list)\n",
    "\n",
    "# The number of tweets in the DataFrame\n",
    "tweets10_df.shape[0]"
   ]
  },
  {
   "cell_type": "code",
   "execution_count": 61,
   "metadata": {},
   "outputs": [
    {
     "data": {
      "text/plain": [
       "0    Wed Jun 12 13:04:47 +0000 2019\n",
       "1    Wed Jun 12 13:04:49 +0000 2019\n",
       "2    Wed Jun 12 13:04:58 +0000 2019\n",
       "3    Wed Jun 12 13:05:01 +0000 2019\n",
       "4    Wed Jun 12 13:05:01 +0000 2019\n",
       "Name: created_at, dtype: object"
      ]
     },
     "execution_count": 61,
     "metadata": {},
     "output_type": "execute_result"
    }
   ],
   "source": [
    "# Print the head of the 'created_at' column\n",
    "tweets10_df.created_at.head()"
   ]
  },
  {
   "cell_type": "code",
   "execution_count": 115,
   "metadata": {},
   "outputs": [
    {
     "name": "stdout",
     "output_type": "stream",
     "text": [
      "0   2019-06-12 13:04:47+00:00\n",
      "1   2019-06-12 13:04:49+00:00\n",
      "2   2019-06-12 13:04:58+00:00\n",
      "3   2019-06-12 13:05:01+00:00\n",
      "4   2019-06-12 13:05:01+00:00\n",
      "Name: created_at, dtype: datetime64[ns, UTC]\n"
     ]
    }
   ],
   "source": [
    "# Convert the created_at column to a `datetime` object\n",
    "tweets10_df['created_at'] = pd.to_datetime(tweets10_df['created_at'])\n",
    "\n",
    "# Print created_at to see new format\n",
    "print(tweets10_df['created_at'].head())\n",
    "\n",
    "# Set the index of ds_tweets to created_at\n",
    "tweets10_df = tweets10_df.set_index(\"created_at\")"
   ]
  },
  {
   "cell_type": "code",
   "execution_count": 63,
   "metadata": {},
   "outputs": [],
   "source": [
    "# Create a python column\n",
    "tweets10_df['python'] = check_keywords('python', tweets10_df)\n",
    "\n",
    "# Create an rstats column\n",
    "tweets10_df['datascience'] = check_keywords('datascience', tweets10_df)"
   ]
  },
  {
   "cell_type": "markdown",
   "metadata": {},
   "source": [
    "`resample()` can be used as a method for frequency conversion (e.g., converting secondly data into 10-minutely data) and resampling of time series. It is similar to a time-based groupby, followed by a reduction method on each of its groups."
   ]
  },
  {
   "cell_type": "code",
   "execution_count": 64,
   "metadata": {},
   "outputs": [
    {
     "data": {
      "text/plain": [
       "created_at\n",
       "2019-06-12 13:04:00+00:00    0.333333\n",
       "2019-06-12 13:05:00+00:00    0.764706\n",
       "2019-06-12 13:06:00+00:00    0.588235\n",
       "2019-06-12 13:07:00+00:00    0.523810\n",
       "2019-06-12 13:08:00+00:00    0.666667\n",
       "2019-06-12 13:09:00+00:00    0.571429\n",
       "2019-06-12 13:10:00+00:00    0.500000\n",
       "2019-06-12 13:11:00+00:00    0.444444\n",
       "2019-06-12 13:12:00+00:00    0.388889\n",
       "2019-06-12 13:13:00+00:00    0.500000\n",
       "2019-06-12 13:14:00+00:00    0.400000\n",
       "Freq: T, Name: python, dtype: float64"
      ]
     },
     "execution_count": 64,
     "metadata": {},
     "output_type": "execute_result"
    }
   ],
   "source": [
    "# Downsample the series into 1 minute (1T) bins and ...\n",
    "# Take the mean of the values of the timestamps falling into a bin.\n",
    "tweets10_df['python'].resample('1T').mean()"
   ]
  },
  {
   "cell_type": "code",
   "execution_count": 66,
   "metadata": {},
   "outputs": [
    {
     "data": {
      "image/png": "[encoded data removed]",
      "text/plain": [
       "<Figure size 432x288 with 1 Axes>"
      ]
     },
     "metadata": {
      "needs_background": "light"
     },
     "output_type": "display_data"
    }
   ],
   "source": [
    "import matplotlib.pyplot as plt\n",
    "\n",
    "# Average of python column by minutes\n",
    "mean_python = tweets10_df['python'].resample('1T').mean()\n",
    "\n",
    "# Average of datascience column by minutes\n",
    "mean_datascience = tweets10_df['datascience'].resample('1T').mean()\n",
    "\n",
    "# Extract minutes (X coordinates)\n",
    "p_minutes = mean_python.index.minute.values\n",
    "d_minutes = mean_datascience.index.minute.values\n",
    "\n",
    "# Plot mean python by day(orange)/mean datascience by day(blue)\n",
    "plt.plot(p_minutes, mean_python, color = 'orange')\n",
    "plt.plot(d_minutes, mean_datascience, color = 'blue')\n",
    "\n",
    "# Add labels and show\n",
    "plt.xlabel('Minutes'); plt.ylabel('Frequency')\n",
    "plt.title('Mentions over time')\n",
    "plt.legend(('python', 'datascience'))\n",
    "plt.show()"
   ]
  },
  {
   "cell_type": "markdown",
   "metadata": {},
   "source": [
    "### Sentiment Analysis\n",
    "\n",
    "We can assess positivity and negativity of text using _Sentiment Analysis_. This would be particularly useful to analyse reactions to an event, a person, or a policy. We'll use [VADER](https://github.com/cjhutto/vaderSentiment) (Valence Aware Dictionary and sEntiment Reasoner) for this analysis. `vader` is a lexicon and rule-based sentiment analysis tool that is specifically attuned to sentiments expressed in **social media**. "
   ]
  },
  {
   "cell_type": "code",
   "execution_count": 117,
   "metadata": {},
   "outputs": [],
   "source": [
    "# Load SentimentIntensityAnalyzer\n",
    "from nltk.sentiment.vader import SentimentIntensityAnalyzer\n",
    "#from vaderSentiment.vaderSentiment import SentimentIntensityAnalyzer\n",
    "\n",
    "# Instantiate new SentimentIntensityAnalyzer\n",
    "analyzer = SentimentIntensityAnalyzer()\n",
    "\n",
    "# Generate sentiment scores\n",
    "sentiment_scores = tweets10_df['text'].apply(analyzer.polarity_scores)"
   ]
  },
  {
   "cell_type": "code",
   "execution_count": 118,
   "metadata": {},
   "outputs": [
    {
     "data": {
      "text/plain": [
       "{'neg': 0.0, 'neu': 1.0, 'pos': 0.0, 'compound': 0.0}"
      ]
     },
     "execution_count": 118,
     "metadata": {},
     "output_type": "execute_result"
    }
   ],
   "source": [
    "sentiment_scores[0]"
   ]
  },
  {
   "cell_type": "markdown",
   "metadata": {},
   "source": [
    ">The `pos`, `neu`, and `neg` scores are ratios for proportions of text that fall in each category (so these should all add up to be 1... or close to it with float operation). These are the most useful metrics if you want multidimensional measures of sentiment for a given sentence. \n",
    "The `compound` score is computed by summing the valence scores of each word in the lexicon, adjusted according to the rules, and then normalized to be between -1 (most extreme negative) and +1 (most extreme positive). This is the most useful metric if you want a single unidimensional measure of sentiment for a given sentence. Calling it a 'normalized, weighted composite score' is accurate.\n",
    "\n",
    ">It is also useful for researchers who would like to set standardized thresholds for classifying sentences as either positive, neutral, or negative. Typical threshold values (used in the literature cited on this page) are:\n",
    "\n",
    "> - positive sentiment: compound score >= 0.05\n",
    "- neutral sentiment: (compound score > -0.05) and (compound score < 0.05)\n",
    "- negative sentiment: compound score <= -0.05\n"
   ]
  },
  {
   "cell_type": "code",
   "execution_count": 119,
   "metadata": {},
   "outputs": [
    {
     "name": "stdout",
     "output_type": "stream",
     "text": [
      "<class 'pandas.core.series.Series'>\n",
      "created_at\n",
      "2019-06-12 13:04:47+00:00    {'neg': 0.0, 'neu': 1.0, 'pos': 0.0, 'compound': 0.0}\n",
      "2019-06-12 13:04:49+00:00    {'neg': 0.0, 'neu': 1.0, 'pos': 0.0, 'compound': 0.0}\n",
      "2019-06-12 13:04:58+00:00    {'neg': 0.0, 'neu': 1.0, 'pos': 0.0, 'compound': 0.0}\n",
      "2019-06-12 13:05:01+00:00    {'neg': 0.0, 'neu': 1.0, 'pos': 0.0, 'compound': 0.0}\n",
      "2019-06-12 13:05:01+00:00    {'neg': 0.0, 'neu': 1.0, 'pos': 0.0, 'compound': 0.0}\n",
      "Name: text, dtype: object\n"
     ]
    }
   ],
   "source": [
    "# Print type of sentiment_scores\n",
    "print(type(sentiment_scores))\n",
    "\n",
    "# Print the head of scores (full)\n",
    "with pd.option_context('max_colwidth', -1):\n",
    "    print(sentiment_scores.head())"
   ]
  },
  {
   "cell_type": "code",
   "execution_count": 120,
   "metadata": {},
   "outputs": [],
   "source": [
    "import numpy as np\n",
    "tweets10_df['sentiment'] = np.array([x['compound'] for x in sentiment_scores])"
   ]
  },
  {
   "cell_type": "code",
   "execution_count": 123,
   "metadata": {},
   "outputs": [
    {
     "data": {
      "text/plain": [
       "created_at\n",
       "2019-06-12 13:11:09+00:00    0.8271\n",
       "2019-06-12 13:10:28+00:00    0.2617\n",
       "2019-06-12 13:07:18+00:00    0.2714\n",
       "2019-06-12 13:09:24+00:00    0.0000\n",
       "2019-06-12 13:08:42+00:00    0.0000\n",
       "2019-06-12 13:11:57+00:00    0.4767\n",
       "2019-06-12 13:10:47+00:00    0.0000\n",
       "2019-06-12 13:07:00+00:00    0.0000\n",
       "2019-06-12 13:04:49+00:00    0.0000\n",
       "2019-06-12 13:13:41+00:00   -0.4767\n",
       "Name: sentiment, dtype: float64"
      ]
     },
     "execution_count": 123,
     "metadata": {},
     "output_type": "execute_result"
    }
   ],
   "source": [
    "tweets10_df.sentiment.sample(10)"
   ]
  },
  {
   "cell_type": "code",
   "execution_count": 124,
   "metadata": {},
   "outputs": [
    {
     "name": "stdout",
     "output_type": "stream",
     "text": [
      "The latest Excel Daily News! https://t.co/VLFQaTWECr Thanks to @NewLogic_0 @ExcelDemy @cdxtech #excel #python\n",
      "@aversifollo Esta fantasía se podría hacer con python? No no?\n"
     ]
    }
   ],
   "source": [
    "# Print out the text of a positive tweet\n",
    "print(tweets10_df[tweets10_df.sentiment > 0.5]['text'].values[0])\n",
    "\n",
    "# Print out the text of a negative tweet\n",
    "print(tweets10_df[tweets10_df.sentiment < -0.5]['text'].values[0])"
   ]
  },
  {
   "cell_type": "code",
   "execution_count": 125,
   "metadata": {},
   "outputs": [],
   "source": [
    "# Generate average sentiment scores for python\n",
    "sentiment_py = tweets10_df.sentiment[check_keywords('python', tweets10_df)].resample('1T').mean()\n",
    "\n",
    "# Generate average sentiment scores for datascience\n",
    "sentiment_ds = tweets10_df.sentiment[check_keywords('datascience', tweets10_df)].resample('1T').mean()"
   ]
  },
  {
   "cell_type": "code",
   "execution_count": 128,
   "metadata": {},
   "outputs": [
    {
     "data": {
      "image/png": "[encoded data removed]",
      "text/plain": [
       "<Figure size 432x288 with 1 Axes>"
      ]
     },
     "metadata": {
      "needs_background": "light"
     },
     "output_type": "display_data"
    }
   ],
   "source": [
    "# Import matplotlib\n",
    "import matplotlib.pyplot as plt\n",
    "\n",
    "# Plot average python sentiment per day\n",
    "plt.plot(sentiment_py.index.minute.values, sentiment_py, color = 'green')\n",
    "\n",
    "# Plot average datascience sentiment per day\n",
    "plt.plot(sentiment_ds.index.minute.values, sentiment_ds, color = 'blue')\n",
    "\n",
    "plt.xlabel('Minute')\n",
    "plt.ylabel('Sentiment')\n",
    "plt.title('Sentiment of python vs datascience')\n",
    "plt.legend(('python', 'datascience'))\n",
    "plt.show()"
   ]
  }
 ],
 "metadata": {
  "kernelspec": {
   "display_name": "Python 3",
   "language": "python",
   "name": "python3"
  },
  "language_info": {
   "codemirror_mode": {
    "name": "ipython",
    "version": 3
   },
   "file_extension": ".py",
   "mimetype": "text/x-python",
   "name": "python",
   "nbconvert_exporter": "python",
   "pygments_lexer": "ipython3",
   "version": "3.7.3"
  }
 },
 "nbformat": 4,
 "nbformat_minor": 4
}
