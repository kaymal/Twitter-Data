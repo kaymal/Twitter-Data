{
 "cells": [
  {
   "cell_type": "markdown",
   "metadata": {},
   "source": [
    "# Analyzing Twitter Data with Python"
   ]
  },
  {
   "cell_type": "markdown",
   "metadata": {},
   "source": [
    "Outline:\n",
    "* [Credentials and Authentication](#Credentials-and-Authentication)\n",
    "* [Basics](#Basics)\n",
    "  + Collecting Data\n",
    "    - Basics\n",
    "      - Status\n",
    "      - Trends\n",
    "    - Streaming API\n",
    "  + Loading and Accessing Tweets\n",
    "    - Single Tweet\n",
    "      - User Data\n",
    "      - Retweet Data\n",
    "    - Multiple Tweets\n",
    "* [Processing Text](#Processing-Text)\n",
    "  + Flattening Tweets\n",
    "  + Creating a DataFrame\n",
    "  + Counting Words\n",
    "  + Time Series\n",
    "  + Sentiment Analysis\n"
   ]
  },
  {
   "cell_type": "markdown",
   "metadata": {},
   "source": [
    "The `tweepy` module will be used to collect Twitter data with the Streaming API."
   ]
  },
  {
   "cell_type": "code",
   "execution_count": 2,
   "metadata": {},
   "outputs": [],
   "source": [
    "# !pip install tweepy"
   ]
  },
  {
   "cell_type": "code",
   "execution_count": 1,
   "metadata": {},
   "outputs": [],
   "source": [
    "# import tweepy\n",
    "from tweepy import OAuthHandler, API\n",
    "\n",
    "import json"
   ]
  },
  {
   "cell_type": "markdown",
   "metadata": {},
   "source": [
    "## Credentials and Authentication"
   ]
  },
  {
   "cell_type": "markdown",
   "metadata": {},
   "source": [
    "First of all, we need to create a Twitter account, validate it, and then create a Twitter developer account. The developer account can be created within the [Twitter developer](https://developer.twitter.com/en/apps) web page.\n",
    "\n",
    "Second, we create an app to generate a _Customer Key_, a _Consumer Secret_, an _Access Token_, and an _Access Token Secret_.\n",
    "\n",
    "The steps to generate keys are as follows:\n",
    "- Create a Twitter acoount, validate it with a phone number,\n",
    "- Create a Twitter developer account,\n",
    "- Create an app,\n",
    "- Generate keys and tokens.\n",
    "\n",
    "It is worth noting that the app's API keys should be kept secure. It is important not to commit API keys and access tokens to publicly accessible version control systems such as Github or BitBucket."
   ]
  },
  {
   "cell_type": "markdown",
   "metadata": {},
   "source": [
    "The Twitter credentials (keys and tokens) can be kept locally as a `.json` file in the following format.\n",
    "\n",
    "```\n",
    "{\"consumer_key\":\"API key\",\n",
    " \"consumer_secret\":\"API secret key\",\n",
    " \"access_token_key\":\"Access token\",\n",
    " \"access_token_secret\":\"Access token secret\"\n",
    "}\n",
    "```"
   ]
  },
  {
   "cell_type": "code",
   "execution_count": 3,
   "metadata": {},
   "outputs": [],
   "source": [
    "# Load Twitter app information\n",
    "with open('twitter_cred.json','r') as file:\n",
    "    twitter_cred = json.load(file)"
   ]
  },
  {
   "cell_type": "code",
   "execution_count": 4,
   "metadata": {},
   "outputs": [],
   "source": [
    "consumer_key = twitter_cred['consumer_key']\n",
    "consumer_secret = twitter_cred['consumer_secret']\n",
    "access_token = twitter_cred['access_token_key']\n",
    "access_token_secret = twitter_cred['access_token_secret']"
   ]
  },
  {
   "cell_type": "markdown",
   "metadata": {},
   "source": [
    "`tweepy` library requires a Twitter API key to authenticate with Twitter."
   ]
  },
  {
   "cell_type": "code",
   "execution_count": 5,
   "metadata": {},
   "outputs": [],
   "source": [
    "# Consumer key authentication\n",
    "auth = OAuthHandler(consumer_key, consumer_secret)\n",
    "\n",
    "# Access key authentication\n",
    "auth.set_access_token(access_token, access_token_secret)\n",
    "\n",
    "# Set up the API with the authentication handler\n",
    "api = API(auth)"
   ]
  },
  {
   "cell_type": "markdown",
   "metadata": {},
   "source": [
    "We can print the username to see if our account is properly authenticated."
   ]
  },
  {
   "cell_type": "code",
   "execution_count": 7,
   "metadata": {},
   "outputs": [],
   "source": [
    "user = api.me()\n",
    "# print(user.name)"
   ]
  },
  {
   "cell_type": "markdown",
   "metadata": {},
   "source": [
    "## Collecting Data"
   ]
  },
  {
   "cell_type": "markdown",
   "metadata": {},
   "source": [
    "### Basics"
   ]
  },
  {
   "cell_type": "markdown",
   "metadata": {},
   "source": [
    "`tweepy.api` is a wrapper for the Twitter API. Methods include:\n",
    " - Timeline Methods,\n",
    " - Status Methods,\n",
    " - User Methods,\n",
    " - Direct Message Methods,\n",
    " - Friendship Methods,\n",
    " - Account Methods,\n",
    " - Favorite Methods,\n",
    " - Block Methods,\n",
    " - Saved Searches Methods, \n",
    " - Spam Reporting Methods,\n",
    " - Help Methods,\n",
    " - List Methods,\n",
    " - Trends Methods,\n",
    " - Geo Methods.\n",
    "[Source:tweepy](https://tweepy.readthedocs.io/en/v3.5.0/api.html#api-reference)"
   ]
  },
  {
   "cell_type": "markdown",
   "metadata": {},
   "source": [
    "#### Status"
   ]
  },
  {
   "cell_type": "markdown",
   "metadata": {},
   "source": [
    "A **status** is a _tweet_ with various attributes such as _created at_, _id_, and _text_. (See [twitter](https://developer.twitter.com/en/docs/tweets/data-dictionary/overview/tweet-object) for full list of attributes.)\n",
    "\n",
    "For example, below status is [the most retweeted tweet](https://mashable.com/article/most-retweeted-tweet-billionaire/?europe=true) in English, as of 2018."
   ]
  },
  {
   "cell_type": "code",
   "execution_count": 9,
   "metadata": {},
   "outputs": [],
   "source": [
    "# Get the status of the most retweeted tweet\n",
    "status = api.get_status('849813577770778624')"
   ]
  },
  {
   "cell_type": "code",
   "execution_count": 10,
   "metadata": {},
   "outputs": [
    {
     "data": {
      "text/plain": [
       "tweepy.models.Status"
      ]
     },
     "execution_count": 10,
     "metadata": {},
     "output_type": "execute_result"
    }
   ],
   "source": [
    "type(status)"
   ]
  },
  {
   "cell_type": "code",
   "execution_count": 11,
   "metadata": {},
   "outputs": [
    {
     "data": {
      "text/plain": [
       "\"Status(_api=<tweepy.api.API object at 0x109051710>, _json={'created_at': 'Thu Apr 06 02:38:40 +0000 2017', 'id': 849813577770778624, 'id_str': '849813577770778624', 'text': 'HELP ME PLEASE. A MAN NEEDS HIS NUGGS https://t.co/4SrfHmEMo3', 'truncated': False, 'entities': {'hashtags': [], 'symbols': [], 'user_mentions': [], 'urls': [], 'media': [{'id': 849813572351737856, 'id_str': '849813572351737856', 'indices': [38, 61], 'media_url': 'http://pbs.twimg.com/media/C8sk8QlUwAAR3qI.jpg', 'media_url_h\""
      ]
     },
     "execution_count": 11,
     "metadata": {},
     "output_type": "execute_result"
    }
   ],
   "source": [
    "# Print first 500 characters of the Status.\n",
    "str(status)[:500]"
   ]
  },
  {
   "cell_type": "code",
   "execution_count": 12,
   "metadata": {},
   "outputs": [
    {
     "data": {
      "text/plain": [
       "'HELP ME PLEASE. A MAN NEEDS HIS NUGGS https://t.co/4SrfHmEMo3'"
      ]
     },
     "execution_count": 12,
     "metadata": {},
     "output_type": "execute_result"
    }
   ],
   "source": [
    "status.text"
   ]
  },
  {
   "cell_type": "code",
   "execution_count": 13,
   "metadata": {},
   "outputs": [
    {
     "data": {
      "text/plain": [
       "'Carter Wilkerson'"
      ]
     },
     "execution_count": 13,
     "metadata": {},
     "output_type": "execute_result"
    }
   ],
   "source": [
    "status.user.name"
   ]
  },
  {
   "cell_type": "code",
   "execution_count": 14,
   "metadata": {},
   "outputs": [
    {
     "data": {
      "text/plain": [
       "datetime.datetime(2017, 4, 6, 2, 38, 40)"
      ]
     },
     "execution_count": 14,
     "metadata": {},
     "output_type": "execute_result"
    }
   ],
   "source": [
    "status.created_at"
   ]
  },
  {
   "cell_type": "markdown",
   "metadata": {},
   "source": [
    "We can convert the status object to JSON format using `.dumps()` function. The parameter `indent` is to make it easier reading the result."
   ]
  },
  {
   "cell_type": "code",
   "execution_count": 15,
   "metadata": {},
   "outputs": [
    {
     "name": "stdout",
     "output_type": "stream",
     "text": [
      "{\n",
      "  \"created_at\": \"Thu Apr 06 02:38:40 +0000 2017\",\n",
      "  \"id\": 849813577770778624,\n",
      "  \"id_str\": \"849813577770778624\",\n",
      "  \"text\": \"HELP ME PLEASE. A MAN NEEDS HIS NUGGS https://t.co/4SrfHmEMo3\",\n",
      "  \"truncated\": false,\n",
      "  \"entities\": {\n",
      "    \"hashtags\": [],\n",
      "    \"symbols\": [],\n",
      "    \"user_mentions\": [],\n",
      "    \"urls\": [],\n",
      "    \"media\": [\n",
      "      {\n",
      "        \"id\": 849813572351737856,\n",
      "        \"id_str\": \"849813572351737856\",\n",
      "        \"indices\": [\n",
      "          38,\n",
      "          61\n",
      "        ],\n",
      "        \"media_url\": \"http://pbs.twimg.com/media/C8sk8QlUwAAR3qI.jpg\",\n",
      "        \"media_url_https\": \"https://pbs.twimg.com/media/C8sk8QlUwAAR3qI.jpg\",\n",
      "        \"url\": \"https://t.co/4SrfHmEMo3\",\n",
      "        \"display_url\": \"pic.twitter.com/4SrfHmEMo3\",\n",
      "        \"expanded_url\": \"https://twitter.com/carterjwm/status/849813577770778624/photo/1\",\n",
      "        \"type\": \"photo\",\n",
      "        \"sizes\": {\n",
      "          \"small\": {\n",
      "            \"w\": 382,\n",
      "            \"h\": 680,\n",
      "            \"resize\": \"fit\"\n",
      "          },\n",
      "          \"thumb\": {\n",
      "            \"w\": 150,\n",
      "            \"h\": 150,\n",
      "            \"resize\": \"crop\"\n",
      "          },\n",
      "          \"medium\": {\n",
      "            \"w\": 675,\n",
      "            \"h\": 1200,\n",
      "            \"resize\": \"fit\"\n",
      "          },\n",
      "          \"large\": {\n",
      "            \"w\": 750,\n",
      "            \"h\": 1334,\n",
      "            \"resize\": \"fit\"\n",
      "          }\n",
      "        }\n",
      "      }\n",
      "    ]\n",
      "  },\n",
      "  \"extended_entities\": {\n",
      "    \"media\": [\n",
      "      {\n",
      "        \"id\": 849813572351737856,\n",
      "        \"id_str\": \"849813572351737856\",\n",
      "        \"indices\": [\n",
      "          38,\n",
      "          61\n",
      "        ],\n",
      "        \"media_url\": \"http://pbs.twimg.com/media/C8sk8QlUwAAR3qI.jpg\",\n",
      "        \"media_url_https\": \"https://pbs.twimg.com/media/C8sk8QlUwAAR3qI.jpg\",\n",
      "        \"url\": \"https://t.co/4SrfHmEMo3\",\n",
      "        \"display_url\": \"pic.twitter.com/4SrfHmEMo3\",\n",
      "        \"expanded_url\": \"https://twitter.com/carterjwm/status/849813577770778624/photo/1\",\n",
      "        \"type\": \"photo\",\n",
      "        \"sizes\": {\n",
      "          \"small\": {\n",
      "            \"w\": 382,\n",
      "            \"h\": 680,\n",
      "            \"resize\": \"fit\"\n",
      "          },\n",
      "          \"thumb\": {\n",
      "            \"w\": 150,\n",
      "            \"h\": 150,\n",
      "            \"resize\": \"crop\"\n",
      "          },\n",
      "          \"medium\": {\n",
      "            \"w\": 675,\n",
      "            \"h\": 1200,\n",
      "            \"resize\": \"fit\"\n",
      "          },\n",
      "          \"large\": {\n",
      "            \"w\": 750,\n",
      "            \"h\": 1334,\n",
      "            \"resize\": \"fit\"\n",
      "          }\n",
      "        }\n",
      "      }\n",
      "    ]\n",
      "  },\n",
      "  \"source\": \"<a href=\\\"http://twitter.com/download/iphone\\\" rel=\\\"nofollow\\\">Twitter for iPhone</a>\",\n",
      "  \"in_reply_to_status_id\": null,\n",
      "  \"in_reply_to_status_id_str\": null,\n",
      "  \"in_reply_to_user_id\": null,\n",
      "  \"in_reply_to_user_id_str\": null,\n",
      "  \"in_reply_to_screen_name\": null,\n",
      "  \"user\": {\n",
      "    \"id\": 2568270758,\n",
      "    \"id_str\": \"2568270758\",\n",
      "    \"name\": \"Carter Wilkerson\",\n",
      "    \"screen_name\": \"carterjwm\",\n",
      "    \"location\": \"Reno, NV - San Diego, CA\",\n",
      "    \"description\": \"I kinda like chicken nuggets\",\n",
      "    \"url\": \"https://t.co/hEJZpy9pwS\",\n",
      "    \"entities\": {\n",
      "      \"url\": {\n",
      "        \"urls\": [\n",
      "          {\n",
      "            \"url\": \"https://t.co/hEJZpy9pwS\",\n",
      "            \"expanded_url\": \"http://nuggsforcarter.com\",\n",
      "            \"display_url\": \"nuggsforcarter.com\",\n",
      "            \"indices\": [\n",
      "              0,\n",
      "              23\n",
      "            ]\n",
      "          }\n",
      "        ]\n",
      "      },\n",
      "      \"description\": {\n",
      "        \"urls\": []\n",
      "      }\n",
      "    },\n",
      "    \"protected\": false,\n",
      "    \"followers_count\": 97943,\n",
      "    \"friends_count\": 291,\n",
      "    \"listed_count\": 3277,\n",
      "    \"created_at\": \"Sun Jun 15 03:48:03 +0000 2014\",\n",
      "    \"favourites_count\": 27550,\n",
      "    \"utc_offset\": null,\n",
      "    \"time_zone\": null,\n",
      "    \"geo_enabled\": true,\n",
      "    \"verified\": true,\n",
      "    \"statuses_count\": 1738,\n",
      "    \"lang\": \"en\",\n",
      "    \"contributors_enabled\": false,\n",
      "    \"is_translator\": false,\n",
      "    \"is_translation_enabled\": false,\n",
      "    \"profile_background_color\": \"C0DEED\",\n",
      "    \"profile_background_image_url\": \"http://abs.twimg.com/images/themes/theme1/bg.png\",\n",
      "    \"profile_background_image_url_https\": \"https://abs.twimg.com/images/themes/theme1/bg.png\",\n",
      "    \"profile_background_tile\": false,\n",
      "    \"profile_image_url\": \"http://pbs.twimg.com/profile_images/1049068688387727360/ZVPaPtll_normal.jpg\",\n",
      "    \"profile_image_url_https\": \"https://pbs.twimg.com/profile_images/1049068688387727360/ZVPaPtll_normal.jpg\",\n",
      "    \"profile_banner_url\": \"https://pbs.twimg.com/profile_banners/2568270758/1536506952\",\n",
      "    \"profile_link_color\": \"1DA1F2\",\n",
      "    \"profile_sidebar_border_color\": \"C0DEED\",\n",
      "    \"profile_sidebar_fill_color\": \"DDEEF6\",\n",
      "    \"profile_text_color\": \"333333\",\n",
      "    \"profile_use_background_image\": true,\n",
      "    \"has_extended_profile\": true,\n",
      "    \"default_profile\": true,\n",
      "    \"default_profile_image\": false,\n",
      "    \"following\": false,\n",
      "    \"follow_request_sent\": false,\n",
      "    \"notifications\": false,\n",
      "    \"translator_type\": \"none\"\n",
      "  },\n",
      "  \"geo\": null,\n",
      "  \"coordinates\": null,\n",
      "  \"place\": null,\n",
      "  \"contributors\": null,\n",
      "  \"is_quote_status\": false,\n",
      "  \"retweet_count\": 3498450,\n",
      "  \"favorite_count\": 977414,\n",
      "  \"favorited\": false,\n",
      "  \"retweeted\": false,\n",
      "  \"possibly_sensitive\": false,\n",
      "  \"possibly_sensitive_appealable\": false,\n",
      "  \"lang\": \"en\"\n",
      "}\n"
     ]
    }
   ],
   "source": [
    "# Status to json object (encoding)\n",
    "tweet_json = json.dumps(status._json, indent=2)\n",
    "print(tweet_json)"
   ]
  },
  {
   "cell_type": "code",
   "execution_count": 16,
   "metadata": {},
   "outputs": [
    {
     "data": {
      "text/plain": [
       "(str, tweepy.models.Status)"
      ]
     },
     "execution_count": 16,
     "metadata": {},
     "output_type": "execute_result"
    }
   ],
   "source": [
    "type(tweet_json), type(status)"
   ]
  },
  {
   "cell_type": "markdown",
   "metadata": {},
   "source": [
    "#### Trends"
   ]
  },
  {
   "cell_type": "markdown",
   "metadata": {},
   "source": [
    "_Where On Earth IDentifier (WOEID)_ is used to represent a _place_. `.trends_available()` method gives us a list of dictionaries within which WOEID's are available."
   ]
  },
  {
   "cell_type": "code",
   "execution_count": 17,
   "metadata": {},
   "outputs": [
    {
     "data": {
      "text/plain": [
       "{'name': 'Turkey',\n",
       " 'placeType': {'code': 12, 'name': 'Country'},\n",
       " 'url': 'http://where.yahooapis.com/v1/place/23424969',\n",
       " 'parentid': 1,\n",
       " 'country': 'Turkey',\n",
       " 'woeid': 23424969,\n",
       " 'countryCode': 'TR'}"
      ]
     },
     "execution_count": 17,
     "metadata": {},
     "output_type": "execute_result"
    }
   ],
   "source": [
    "# Choose country\n",
    "country = 'Turkey'\n",
    "\n",
    "# Get the available WOEID of the selected country\n",
    "next((item for item in api.trends_available() if item[\"name\"] == country), None)"
   ]
  },
  {
   "cell_type": "code",
   "execution_count": 19,
   "metadata": {},
   "outputs": [
    {
     "data": {
      "text/plain": [
       "{'name': 'Worldwide',\n",
       " 'placeType': {'code': 19, 'name': 'Supername'},\n",
       " 'url': 'http://where.yahooapis.com/v1/place/1',\n",
       " 'parentid': 0,\n",
       " 'country': '',\n",
       " 'woeid': 1,\n",
       " 'countryCode': None}"
      ]
     },
     "execution_count": 19,
     "metadata": {},
     "output_type": "execute_result"
    }
   ],
   "source": [
    "# Get the WOEID for the Worldwide trends\n",
    "api.trends_available()[0]"
   ]
  },
  {
   "cell_type": "code",
   "execution_count": 20,
   "metadata": {},
   "outputs": [
    {
     "data": {
      "text/plain": [
       "'#GameOfThronesFinale'"
      ]
     },
     "execution_count": 20,
     "metadata": {},
     "output_type": "execute_result"
    }
   ],
   "source": [
    "# Worldwide trends (WOEID=1)\n",
    "trends_ww = api.trends_place(1)\n",
    "\n",
    "# name of the first top trend worldwide\n",
    "trends_ww[0]['trends'][0]['name']"
   ]
  },
  {
   "cell_type": "markdown",
   "metadata": {},
   "source": [
    "#### Streaming API"
   ]
  },
  {
   "cell_type": "markdown",
   "metadata": {},
   "source": [
    "Streaming API allows us to collect real-time Twitter data based on either a sample or **keyword** filtering. \n",
    ">Using the streaming api has three steps.\n",
    " - Create a class inheriting from StreamListener,\n",
    " - Using that class create a Stream object,\n",
    " - Connect to the Twitter API using the Stream. [Source: tweepy](https://tweepy.readthedocs.io/en/v3.5.0/streaming_how_to.html)"
   ]
  },
  {
   "cell_type": "markdown",
   "metadata": {},
   "source": [
    "Below code calls a Stream Listener. [Main Source](https://github.com/SocialDataAnalytics-Winter2018/lab04/blob/master/slistener.py) "
   ]
  },
  {
   "cell_type": "code",
   "execution_count": 8,
   "metadata": {},
   "outputs": [],
   "source": [
    "%run SListener.py"
   ]
  },
  {
   "cell_type": "markdown",
   "metadata": {},
   "source": [
    "Alternatively, we can load the file into the cell with the `%load` magic command. (`%load?` for more info)"
   ]
  },
  {
   "cell_type": "code",
   "execution_count": 22,
   "metadata": {},
   "outputs": [],
   "source": [
    "# Print SListener.py\n",
    "# %load SListener.py"
   ]
  },
  {
   "cell_type": "code",
   "execution_count": 59,
   "metadata": {},
   "outputs": [],
   "source": [
    "from tweepy import Stream\n",
    "\n",
    "# Instantiate the SListener object, specify a time limit to listen (in seconds) \n",
    "listen = SListener(api, time_limit=600)\n",
    "\n",
    "# Instantiate the Stream object\n",
    "stream = Stream(auth, listen)"
   ]
  },
  {
   "cell_type": "markdown",
   "metadata": {},
   "source": [
    "There are various _streams_ available through Tweepy. We'll use `filter` to stream all tweets containing the _keywords_ in this notebook."
   ]
  },
  {
   "cell_type": "code",
   "execution_count": 60,
   "metadata": {},
   "outputs": [],
   "source": [
    "# Set up keywords to track\n",
    "keywords = ['datascience', 'python']\n",
    "\n",
    "# Begin collecting data\n",
    "stream.filter(track = keywords)"
   ]
  },
  {
   "cell_type": "markdown",
   "metadata": {},
   "source": [
    "> Streams not terminate unless the connection is closed, blocking the thread. Tweepy offers a convenient async parameter on filter so the stream will run on a new thread. For example\n",
    "\n",
    "`myStream.filter(track=['python'], async=True)`"
   ]
  },
  {
   "cell_type": "markdown",
   "metadata": {},
   "source": [
    "## Loading and Accessing Tweets"
   ]
  },
  {
   "cell_type": "markdown",
   "metadata": {},
   "source": [
    "Tweets are collected from the Streaming API in **JSON** format. JSON is written with JavaScript object notation. We need to convert data into a Python data structure to work on it."
   ]
  },
  {
   "cell_type": "markdown",
   "metadata": {},
   "source": [
    "### Single Tweet"
   ]
  },
  {
   "cell_type": "markdown",
   "metadata": {},
   "source": [
    "JSON can be converted to Python object using the `.loads()` method."
   ]
  },
  {
   "cell_type": "code",
   "execution_count": null,
   "metadata": {},
   "outputs": [],
   "source": [
    "# Convert from JSON to Python object (decode JSON)\n",
    "tweet = json.loads(tweet_json)\n",
    "\n",
    "type(tweet)"
   ]
  },
  {
   "cell_type": "code",
   "execution_count": 29,
   "metadata": {},
   "outputs": [
    {
     "name": "stdout",
     "output_type": "stream",
     "text": [
      "HELP ME PLEASE. A MAN NEEDS HIS NUGGS https://t.co/4SrfHmEMo3\n",
      "849813577770778624\n"
     ]
    }
   ],
   "source": [
    "# Print tweet text\n",
    "print(tweet['text'])\n",
    "\n",
    "# Print tweet id\n",
    "print(tweet['id'])"
   ]
  },
  {
   "cell_type": "markdown",
   "metadata": {},
   "source": [
    "#### User Data"
   ]
  },
  {
   "cell_type": "code",
   "execution_count": 45,
   "metadata": {},
   "outputs": [
    {
     "name": "stdout",
     "output_type": "stream",
     "text": [
      "<class 'dict'>\n"
     ]
    },
    {
     "data": {
      "text/plain": [
       "{'id': 2568270758,\n",
       " 'id_str': '2568270758',\n",
       " 'name': 'Carter Wilkerson',\n",
       " 'screen_name': 'carterjwm',\n",
       " 'location': 'Reno, NV - San Diego, CA',\n",
       " 'description': 'I kinda like chicken nuggets',\n",
       " 'url': 'https://t.co/hEJZpy9pwS',\n",
       " 'entities': {'url': {'urls': [{'url': 'https://t.co/hEJZpy9pwS',\n",
       "     'expanded_url': 'http://nuggsforcarter.com',\n",
       "     'display_url': 'nuggsforcarter.com',\n",
       "     'indices': [0, 23]}]},\n",
       "  'description': {'urls': []}},\n",
       " 'protected': False,\n",
       " 'followers_count': 97943,\n",
       " 'friends_count': 291,\n",
       " 'listed_count': 3277,\n",
       " 'created_at': 'Sun Jun 15 03:48:03 +0000 2014',\n",
       " 'favourites_count': 27550,\n",
       " 'utc_offset': None,\n",
       " 'time_zone': None,\n",
       " 'geo_enabled': True,\n",
       " 'verified': True,\n",
       " 'statuses_count': 1738,\n",
       " 'lang': 'en',\n",
       " 'contributors_enabled': False,\n",
       " 'is_translator': False,\n",
       " 'is_translation_enabled': False,\n",
       " 'profile_background_color': 'C0DEED',\n",
       " 'profile_background_image_url': 'http://abs.twimg.com/images/themes/theme1/bg.png',\n",
       " 'profile_background_image_url_https': 'https://abs.twimg.com/images/themes/theme1/bg.png',\n",
       " 'profile_background_tile': False,\n",
       " 'profile_image_url': 'http://pbs.twimg.com/profile_images/1049068688387727360/ZVPaPtll_normal.jpg',\n",
       " 'profile_image_url_https': 'https://pbs.twimg.com/profile_images/1049068688387727360/ZVPaPtll_normal.jpg',\n",
       " 'profile_banner_url': 'https://pbs.twimg.com/profile_banners/2568270758/1536506952',\n",
       " 'profile_link_color': '1DA1F2',\n",
       " 'profile_sidebar_border_color': 'C0DEED',\n",
       " 'profile_sidebar_fill_color': 'DDEEF6',\n",
       " 'profile_text_color': '333333',\n",
       " 'profile_use_background_image': True,\n",
       " 'has_extended_profile': True,\n",
       " 'default_profile': True,\n",
       " 'default_profile_image': False,\n",
       " 'following': False,\n",
       " 'follow_request_sent': False,\n",
       " 'notifications': False,\n",
       " 'translator_type': 'none'}"
      ]
     },
     "execution_count": 45,
     "metadata": {},
     "output_type": "execute_result"
    }
   ],
   "source": [
    "print(type(tweet['user']))\n",
    "# Print information on the user\n",
    "tweet['user']"
   ]
  },
  {
   "cell_type": "code",
   "execution_count": 26,
   "metadata": {},
   "outputs": [
    {
     "name": "stdout",
     "output_type": "stream",
     "text": [
      "carterjwm\n",
      "97943\n",
      "Reno, NV - San Diego, CA\n",
      "I kinda like chicken nuggets\n",
      "3498450\n"
     ]
    }
   ],
   "source": [
    "# Print user name\n",
    "print(tweet['user']['screen_name'])\n",
    "\n",
    "# Print user follower count\n",
    "print(tweet['user']['followers_count'])\n",
    "\n",
    "# Print user location\n",
    "print(tweet['user']['location'])\n",
    "\n",
    "# Print user description\n",
    "print(tweet['user']['description'])\n",
    "\n",
    "# Print the number of retweets\n",
    "print(tweet['retweet_count'])"
   ]
  },
  {
   "cell_type": "code",
   "execution_count": 34,
   "metadata": {},
   "outputs": [
    {
     "name": "stdout",
     "output_type": "stream",
     "text": [
      "False\n"
     ]
    }
   ],
   "source": [
    "# Check whether retweet or not\n",
    "print(tweet['retweeted'])"
   ]
  },
  {
   "cell_type": "markdown",
   "metadata": {},
   "source": [
    "#### Retweet Data\n",
    "\n",
    "The structure of a retweet is similar to that of a tweet. Additionally, it holds information in `retweeted_status` field."
   ]
  },
  {
   "cell_type": "code",
   "execution_count": 29,
   "metadata": {},
   "outputs": [],
   "source": [
    "# Print the text of the tweet\n",
    "#print(retweet['text'])\n",
    "\n",
    "# Print the text of tweet which has been retweeted\n",
    "#print(retweet['retweeted_status']['text'])\n",
    "\n",
    "# Print the user handle of the tweet\n",
    "#print(retweet['user']['screen_name'])\n",
    "\n",
    "# Print the user handle of the tweet which has been retweeted\n",
    "#print(retweet['retweeted_status']['user']['screen_name'])"
   ]
  },
  {
   "cell_type": "code",
   "execution_count": 10,
   "metadata": {},
   "outputs": [],
   "source": [
    "with open('tweets.json', 'r') as tweet_json:\n",
    "    # Read in the first status in the JSON file.\n",
    "    twt = tweet_json.read().split(\"\\n\")[0]\n",
    "\n",
    "# Decode JSON\n",
    "retweet = json.loads(twt)"
   ]
  },
  {
   "cell_type": "code",
   "execution_count": 11,
   "metadata": {},
   "outputs": [
    {
     "name": "stdout",
     "output_type": "stream",
     "text": [
      "RT @pyblogsal: The oldest piece of CPython, the parser generator (pgen) has been retired and replaced with a new version! 🐍🖥️🥳 \n",
      "\n",
      "The parser…\n"
     ]
    }
   ],
   "source": [
    "# Print the text of the tweet\n",
    "print(retweet['text'])"
   ]
  },
  {
   "cell_type": "code",
   "execution_count": 12,
   "metadata": {},
   "outputs": [
    {
     "data": {
      "text/plain": [
       "'The oldest piece of CPython, the parser generator (pgen) has been retired and replaced with a new version! 🐍🖥️\\U0001f973 \\n\\nThe parser generator was the first piece written for Python 29 years ago. It generates the parser rules (in the form of DFAs) from the grammar specification file.'"
      ]
     },
     "execution_count": 12,
     "metadata": {},
     "output_type": "execute_result"
    }
   ],
   "source": [
    "# Print the full text (140+ characters) of the tweet\n",
    "retweet['retweeted_status']['extended_tweet']['full_text']"
   ]
  },
  {
   "cell_type": "markdown",
   "metadata": {},
   "source": [
    "### Multiple Tweets in a JSON File"
   ]
  },
  {
   "cell_type": "code",
   "execution_count": 13,
   "metadata": {},
   "outputs": [
    {
     "data": {
      "text/plain": [
       "'{\"created_at\":\"Sat Mar 02 19:19:29 +0000 2019\",\"id\":1101925010082394112,\"id_str\":\"1101925010082394112\",\"text\":\"RT @pyblogsal: The oldest piece of CPython, the parser generator (pgen) has been retired and replaced with a new version! \\\\ud83d\\\\udc0d\\\\ud83d\\\\udda5\\\\ufe0f\\\\ud83e\\\\udd73 \\\\n\\\\nThe parser\\\\u2026\",\"source\":\"\\\\u003ca href=\\\\\"http:\\\\/\\\\/tapbots.com\\\\/tweetbot\\\\\" rel=\\\\\"nofollow\\\\\"\\\\u003eTweetbot for i\\\\u039fS\\\\u003c\\\\/a\\\\u003e\",\"truncated\":false,\"in_reply_to_status_id\":null,\"in_reply_to_status_id_str\":null,\"in_reply_to_user_id\":null,\"in_reply_to_user_id_str\":null,\"in_reply_to_screen_name\":null,\"user\":{\"id\":18064071,\"id_str\":\"18064071\",\"name\":\"Erick \\\\ud83d\\\\ude43 Navarro\",\"screen_name\":\"erickgnavar\",\"location\":\"Lima, Peru\",\"url\":\"https:\\\\/\\\\/erick.navarro.io\",\"description\":\"I make software and I like it\\\\n\\\\u2764\\\\ufe0f #python\",\"translator_type\":\"none\",\"protected\":false,\"verified\":false,\"followers_count\":328,\"friends_count\":1239,\"listed_count\":56,\"favourites_count\":2267,\"statuses_count\":4161,\"created_at\":\"Thu Dec 11 23:41:02 +0000 2008\",\"utc_offset\":null,\"time_zone\":null,\"geo_enabled\":true,\"lang\":\"en\",\"contributors_enabled\":false,\"is_translator\":false,\"profile_background_color\":\"1A1B1F\",\"profile_background_image_url\":\"http:\\\\/\\\\/abs.twimg.com\\\\/images\\\\/themes\\\\/theme9\\\\/bg.gif\",\"profile_background_image_url_https\":\"https:\\\\/\\\\/abs.twimg.com\\\\/images\\\\/themes\\\\/theme9\\\\/bg.gif\",\"profile_background_tile\":false,\"profile_link_color\":\"3B94D9\",\"profile_sidebar_border_color\":\"FFFFFF\",\"profile_sidebar_fill_color\":\"252429\",\"profile_text_color\":\"666666\",\"profile_use_background_image\":true,\"profile_image_url\":\"http:\\\\/\\\\/pbs.twimg.com\\\\/profile_images\\\\/776137145903964161\\\\/XOgk2eLJ_normal.jpg\",\"profile_image_url_https\":\"https:\\\\/\\\\/pbs.twimg.com\\\\/profile_images\\\\/776137145903964161\\\\/XOgk2eLJ_normal.jpg\",\"profile_banner_url\":\"https:\\\\/\\\\/pbs.twimg.com\\\\/profile_banners\\\\/18064071\\\\/1428777785\",\"default_profile\":false,\"default_profile_image\":false,\"following\":null,\"follow_request_sent\":null,\"notifications\":null},\"geo\":null,\"coordinates\":null,\"place\":null,\"contributors\":null,\"retweeted_status\":{\"created_at\":\"Sat Mar 02 15:58:50 +0000 2019\",\"id\":1101874515079057408,\"id_str\":\"1101874515079057408\",\"text\":\"The oldest piece of CPython, the parser generator (pgen) has been retired and replaced with a new version! \\\\ud83d\\\\udc0d\\\\ud83d\\\\udda5\\\\ufe0f\\\\ud83e\\\\udd73 \\\\n\\\\nT\\\\u2026 https:\\\\/\\\\/t.co\\\\/5NcPvO2hzn\",\"source\":\"\\\\u003ca href=\\\\\"http:\\\\/\\\\/twitter.com\\\\/download\\\\/android\\\\\" rel=\\\\\"nofollow\\\\\"\\\\u003eTwitter for Android\\\\u003c\\\\/a\\\\u003e\",\"truncated\":true,\"in_reply_to_status_id\":null,\"in_reply_to_status_id_str\":null,\"in_reply_to_user_id\":null,\"in_reply_to_user_id_str\":null,\"in_reply_to_screen_name\":null,\"user\":{\"id\":110344340,\"id_str\":\"110344340\",\"name\":\"__qualname__\",\"screen_name\":\"pyblogsal\",\"location\":\"London, England\",\"url\":null,\"description\":\"I simulate black holes and complain about tensor equations. Python core developer.\",\"translator_type\":\"none\",\"protected\":false,\"verified\":false,\"followers_count\":531,\"friends_count\":262,\"listed_count\":15,\"favourites_count\":691,\"statuses_count\":1002,\"created_at\":\"Mon Feb 01 06:15:52 +0000 2010\",\"utc_offset\":null,\"time_zone\":null,\"geo_enabled\":true,\"lang\":\"en\",\"contributors_enabled\":false,\"is_translator\":false,\"profile_background_color\":\"000000\",\"profile_background_image_url\":\"http:\\\\/\\\\/abs.twimg.com\\\\/images\\\\/themes\\\\/theme14\\\\/bg.gif\",\"profile_background_image_url_https\":\"https:\\\\/\\\\/abs.twimg.com\\\\/images\\\\/themes\\\\/theme14\\\\/bg.gif\",\"profile_background_tile\":false,\"profile_link_color\":\"009999\",\"profile_sidebar_border_color\":\"EEEEEE\",\"profile_sidebar_fill_color\":\"EFEFEF\",\"profile_text_color\":\"333333\",\"profile_use_background_image\":true,\"profile_image_url\":\"http:\\\\/\\\\/pbs.twimg.com\\\\/profile_images\\\\/1027706841881567232\\\\/_OjremNr_normal.jpg\",\"profile_image_url_https\":\"https:\\\\/\\\\/pbs.twimg.com\\\\/profile_images\\\\/1027706841881567232\\\\/_OjremNr_normal.jpg\",\"profile_banner_url\":\"https:\\\\/\\\\/pbs.twimg.com\\\\/profile_banners\\\\/110344340\\\\/1483713310\",\"default_profile\":false,\"default_profile_image\":false,\"following\":null,\"follow_request_sent\":null,\"notifications\":null},\"geo\":null,\"coordinates\":null,\"place\":null,\"contributors\":null,\"is_quote_status\":false,\"extended_tweet\":{\"full_text\":\"The oldest piece of CPython, the parser generator (pgen) has been retired and replaced with a new version! \\\\ud83d\\\\udc0d\\\\ud83d\\\\udda5\\\\ufe0f\\\\ud83e\\\\udd73 \\\\n\\\\nThe parser generator was the first piece written for Python 29 years ago. It generates the parser rules (in the form of DFAs) from the grammar specification file.\",\"display_text_range\":[0,276],\"entities\":{\"hashtags\":[],\"urls\":[],\"user_mentions\":[],\"symbols\":[]}},\"quote_count\":1,\"reply_count\":2,\"retweet_count\":22,\"favorite_count\":74,\"entities\":{\"hashtags\":[],\"urls\":[{\"url\":\"https:\\\\/\\\\/t.co\\\\/5NcPvO2hzn\",\"expanded_url\":\"https:\\\\/\\\\/twitter.com\\\\/i\\\\/web\\\\/status\\\\/1101874515079057408\",\"display_url\":\"twitter.com\\\\/i\\\\/web\\\\/status\\\\/1\\\\u2026\",\"indices\":[117,140]}],\"user_mentions\":[],\"symbols\":[]},\"favorited\":false,\"retweeted\":false,\"filter_level\":\"low\",\"lang\":\"en\"},\"is_quote_status\":false,\"quote_count\":0,\"reply_count\":0,\"retweet_count\":0,\"favorite_count\":0,\"entities\":{\"hashtags\":[],\"urls\":[],\"user_mentions\":[{\"screen_name\":\"pyblogsal\",\"name\":\"__qualname__\",\"id\":110344340,\"id_str\":\"110344340\",\"indices\":[3,13]}],\"symbols\":[]},\"favorited\":false,\"retweeted\":false,\"filter_level\":\"low\",\"lang\":\"en\",\"timestamp_ms\":\"1551554369837\"}'"
      ]
     },
     "execution_count": 13,
     "metadata": {},
     "output_type": "execute_result"
    }
   ],
   "source": [
    "with open('tweets_1min.json', 'r') as tweet_json:\n",
    "    # Read in the status in the JSON file.\n",
    "    twt = tweet_json.read().split(\"\\n\")\n",
    "\n",
    "# Print the raw info of the first tweet in the file\n",
    "twt[0]"
   ]
  },
  {
   "cell_type": "code",
   "execution_count": 14,
   "metadata": {},
   "outputs": [
    {
     "data": {
      "text/plain": [
       "{'created_at': 'Sat Mar 02 19:19:29 +0000 2019',\n",
       " 'id': 1101925010082394112,\n",
       " 'id_str': '1101925010082394112',\n",
       " 'text': 'RT @pyblogsal: The oldest piece of CPython, the parser generator (pgen) has been retired and replaced with a new version! 🐍🖥️\\U0001f973 \\n\\nThe parser…',\n",
       " 'source': '<a href=\"http://tapbots.com/tweetbot\" rel=\"nofollow\">Tweetbot for iΟS</a>',\n",
       " 'truncated': False,\n",
       " 'in_reply_to_status_id': None,\n",
       " 'in_reply_to_status_id_str': None,\n",
       " 'in_reply_to_user_id': None,\n",
       " 'in_reply_to_user_id_str': None,\n",
       " 'in_reply_to_screen_name': None,\n",
       " 'user': {'id': 18064071,\n",
       "  'id_str': '18064071',\n",
       "  'name': 'Erick 🙃 Navarro',\n",
       "  'screen_name': 'erickgnavar',\n",
       "  'location': 'Lima, Peru',\n",
       "  'url': 'https://erick.navarro.io',\n",
       "  'description': 'I make software and I like it\\n❤️ #python',\n",
       "  'translator_type': 'none',\n",
       "  'protected': False,\n",
       "  'verified': False,\n",
       "  'followers_count': 328,\n",
       "  'friends_count': 1239,\n",
       "  'listed_count': 56,\n",
       "  'favourites_count': 2267,\n",
       "  'statuses_count': 4161,\n",
       "  'created_at': 'Thu Dec 11 23:41:02 +0000 2008',\n",
       "  'utc_offset': None,\n",
       "  'time_zone': None,\n",
       "  'geo_enabled': True,\n",
       "  'lang': 'en',\n",
       "  'contributors_enabled': False,\n",
       "  'is_translator': False,\n",
       "  'profile_background_color': '1A1B1F',\n",
       "  'profile_background_image_url': 'http://abs.twimg.com/images/themes/theme9/bg.gif',\n",
       "  'profile_background_image_url_https': 'https://abs.twimg.com/images/themes/theme9/bg.gif',\n",
       "  'profile_background_tile': False,\n",
       "  'profile_link_color': '3B94D9',\n",
       "  'profile_sidebar_border_color': 'FFFFFF',\n",
       "  'profile_sidebar_fill_color': '252429',\n",
       "  'profile_text_color': '666666',\n",
       "  'profile_use_background_image': True,\n",
       "  'profile_image_url': 'http://pbs.twimg.com/profile_images/776137145903964161/XOgk2eLJ_normal.jpg',\n",
       "  'profile_image_url_https': 'https://pbs.twimg.com/profile_images/776137145903964161/XOgk2eLJ_normal.jpg',\n",
       "  'profile_banner_url': 'https://pbs.twimg.com/profile_banners/18064071/1428777785',\n",
       "  'default_profile': False,\n",
       "  'default_profile_image': False,\n",
       "  'following': None,\n",
       "  'follow_request_sent': None,\n",
       "  'notifications': None},\n",
       " 'geo': None,\n",
       " 'coordinates': None,\n",
       " 'place': None,\n",
       " 'contributors': None,\n",
       " 'retweeted_status': {'created_at': 'Sat Mar 02 15:58:50 +0000 2019',\n",
       "  'id': 1101874515079057408,\n",
       "  'id_str': '1101874515079057408',\n",
       "  'text': 'The oldest piece of CPython, the parser generator (pgen) has been retired and replaced with a new version! 🐍🖥️\\U0001f973 \\n\\nT… https://t.co/5NcPvO2hzn',\n",
       "  'source': '<a href=\"http://twitter.com/download/android\" rel=\"nofollow\">Twitter for Android</a>',\n",
       "  'truncated': True,\n",
       "  'in_reply_to_status_id': None,\n",
       "  'in_reply_to_status_id_str': None,\n",
       "  'in_reply_to_user_id': None,\n",
       "  'in_reply_to_user_id_str': None,\n",
       "  'in_reply_to_screen_name': None,\n",
       "  'user': {'id': 110344340,\n",
       "   'id_str': '110344340',\n",
       "   'name': '__qualname__',\n",
       "   'screen_name': 'pyblogsal',\n",
       "   'location': 'London, England',\n",
       "   'url': None,\n",
       "   'description': 'I simulate black holes and complain about tensor equations. Python core developer.',\n",
       "   'translator_type': 'none',\n",
       "   'protected': False,\n",
       "   'verified': False,\n",
       "   'followers_count': 531,\n",
       "   'friends_count': 262,\n",
       "   'listed_count': 15,\n",
       "   'favourites_count': 691,\n",
       "   'statuses_count': 1002,\n",
       "   'created_at': 'Mon Feb 01 06:15:52 +0000 2010',\n",
       "   'utc_offset': None,\n",
       "   'time_zone': None,\n",
       "   'geo_enabled': True,\n",
       "   'lang': 'en',\n",
       "   'contributors_enabled': False,\n",
       "   'is_translator': False,\n",
       "   'profile_background_color': '000000',\n",
       "   'profile_background_image_url': 'http://abs.twimg.com/images/themes/theme14/bg.gif',\n",
       "   'profile_background_image_url_https': 'https://abs.twimg.com/images/themes/theme14/bg.gif',\n",
       "   'profile_background_tile': False,\n",
       "   'profile_link_color': '009999',\n",
       "   'profile_sidebar_border_color': 'EEEEEE',\n",
       "   'profile_sidebar_fill_color': 'EFEFEF',\n",
       "   'profile_text_color': '333333',\n",
       "   'profile_use_background_image': True,\n",
       "   'profile_image_url': 'http://pbs.twimg.com/profile_images/1027706841881567232/_OjremNr_normal.jpg',\n",
       "   'profile_image_url_https': 'https://pbs.twimg.com/profile_images/1027706841881567232/_OjremNr_normal.jpg',\n",
       "   'profile_banner_url': 'https://pbs.twimg.com/profile_banners/110344340/1483713310',\n",
       "   'default_profile': False,\n",
       "   'default_profile_image': False,\n",
       "   'following': None,\n",
       "   'follow_request_sent': None,\n",
       "   'notifications': None},\n",
       "  'geo': None,\n",
       "  'coordinates': None,\n",
       "  'place': None,\n",
       "  'contributors': None,\n",
       "  'is_quote_status': False,\n",
       "  'extended_tweet': {'full_text': 'The oldest piece of CPython, the parser generator (pgen) has been retired and replaced with a new version! 🐍🖥️\\U0001f973 \\n\\nThe parser generator was the first piece written for Python 29 years ago. It generates the parser rules (in the form of DFAs) from the grammar specification file.',\n",
       "   'display_text_range': [0, 276],\n",
       "   'entities': {'hashtags': [],\n",
       "    'urls': [],\n",
       "    'user_mentions': [],\n",
       "    'symbols': []}},\n",
       "  'quote_count': 1,\n",
       "  'reply_count': 2,\n",
       "  'retweet_count': 22,\n",
       "  'favorite_count': 74,\n",
       "  'entities': {'hashtags': [],\n",
       "   'urls': [{'url': 'https://t.co/5NcPvO2hzn',\n",
       "     'expanded_url': 'https://twitter.com/i/web/status/1101874515079057408',\n",
       "     'display_url': 'twitter.com/i/web/status/1…',\n",
       "     'indices': [117, 140]}],\n",
       "   'user_mentions': [],\n",
       "   'symbols': []},\n",
       "  'favorited': False,\n",
       "  'retweeted': False,\n",
       "  'filter_level': 'low',\n",
       "  'lang': 'en'},\n",
       " 'is_quote_status': False,\n",
       " 'quote_count': 0,\n",
       " 'reply_count': 0,\n",
       " 'retweet_count': 0,\n",
       " 'favorite_count': 0,\n",
       " 'entities': {'hashtags': [],\n",
       "  'urls': [],\n",
       "  'user_mentions': [{'screen_name': 'pyblogsal',\n",
       "    'name': '__qualname__',\n",
       "    'id': 110344340,\n",
       "    'id_str': '110344340',\n",
       "    'indices': [3, 13]}],\n",
       "  'symbols': []},\n",
       " 'favorited': False,\n",
       " 'retweeted': False,\n",
       " 'filter_level': 'low',\n",
       " 'lang': 'en',\n",
       " 'timestamp_ms': '1551554369837'}"
      ]
     },
     "execution_count": 14,
     "metadata": {},
     "output_type": "execute_result"
    }
   ],
   "source": [
    "# Decode JSON\n",
    "tweet_1 = json.loads(twt[0])\n",
    "\n",
    "# Print out the tweet\n",
    "tweet_1"
   ]
  },
  {
   "cell_type": "markdown",
   "metadata": {},
   "source": [
    "## Processing Text"
   ]
  },
  {
   "cell_type": "markdown",
   "metadata": {},
   "source": [
    "### Flattening Tweets"
   ]
  },
  {
   "cell_type": "markdown",
   "metadata": {},
   "source": [
    "It is usually a good idea to **flatten** the tweet JSON into a single level in order to analyze tweets in an easier manner. The  function below is used to flatten tweets and prepare the data before creating a Data Frame."
   ]
  },
  {
   "cell_type": "code",
   "execution_count": 27,
   "metadata": {},
   "outputs": [],
   "source": [
    "%run flatten.py\n",
    "# %load flatten.py"
   ]
  },
  {
   "cell_type": "code",
   "execution_count": null,
   "metadata": {},
   "outputs": [],
   "source": [
    "# Create flattened tweet list with the above function\n",
    "tweet_list = flatten('tweets.json')"
   ]
  },
  {
   "cell_type": "markdown",
   "metadata": {},
   "source": [
    "### Creating a DataFrame\n",
    "We may want to load hundreds of tweets for analysis. Therefore, we need to import the file as a DataFrame."
   ]
  },
  {
   "cell_type": "code",
   "execution_count": 23,
   "metadata": {},
   "outputs": [],
   "source": [
    "import pandas as pd"
   ]
  },
  {
   "cell_type": "code",
   "execution_count": 28,
   "metadata": {},
   "outputs": [],
   "source": [
    "# Create a pandas DataFrame\n",
    "tweets_df = pd.DataFrame(tweet_list)"
   ]
  },
  {
   "cell_type": "code",
   "execution_count": 29,
   "metadata": {},
   "outputs": [
    {
     "data": {
      "text/html": [
       "<div>\n",
       "<style scoped>\n",
       "    .dataframe tbody tr th:only-of-type {\n",
       "        vertical-align: middle;\n",
       "    }\n",
       "\n",
       "    .dataframe tbody tr th {\n",
       "        vertical-align: top;\n",
       "    }\n",
       "\n",
       "    .dataframe thead th {\n",
       "        text-align: right;\n",
       "    }\n",
       "</style>\n",
       "<table border=\"1\" class=\"dataframe\">\n",
       "  <thead>\n",
       "    <tr style=\"text-align: right;\">\n",
       "      <th></th>\n",
       "      <th>contributors</th>\n",
       "      <th>coordinates</th>\n",
       "      <th>created_at</th>\n",
       "      <th>display_text_range</th>\n",
       "      <th>entities</th>\n",
       "      <th>extended_entities</th>\n",
       "      <th>extended_tweet</th>\n",
       "      <th>extended_tweet-full_text</th>\n",
       "      <th>favorite_count</th>\n",
       "      <th>favorited</th>\n",
       "      <th>...</th>\n",
       "      <th>retweeted_status</th>\n",
       "      <th>retweeted_status-extended_tweet-full_text</th>\n",
       "      <th>retweeted_status-text</th>\n",
       "      <th>retweeted_status-user-screen_name</th>\n",
       "      <th>source</th>\n",
       "      <th>text</th>\n",
       "      <th>timestamp_ms</th>\n",
       "      <th>truncated</th>\n",
       "      <th>user</th>\n",
       "      <th>user-screen_name</th>\n",
       "    </tr>\n",
       "  </thead>\n",
       "  <tbody>\n",
       "    <tr>\n",
       "      <th>0</th>\n",
       "      <td>None</td>\n",
       "      <td>None</td>\n",
       "      <td>Sat Mar 02 19:19:29 +0000 2019</td>\n",
       "      <td>NaN</td>\n",
       "      <td>{'hashtags': [], 'urls': [], 'user_mentions': ...</td>\n",
       "      <td>NaN</td>\n",
       "      <td>NaN</td>\n",
       "      <td>NaN</td>\n",
       "      <td>0</td>\n",
       "      <td>False</td>\n",
       "      <td>...</td>\n",
       "      <td>{'created_at': 'Sat Mar 02 15:58:50 +0000 2019...</td>\n",
       "      <td>The oldest piece of CPython, the parser genera...</td>\n",
       "      <td>The oldest piece of CPython, the parser genera...</td>\n",
       "      <td>pyblogsal</td>\n",
       "      <td>&lt;a href=\"http://tapbots.com/tweetbot\" rel=\"nof...</td>\n",
       "      <td>RT @pyblogsal: The oldest piece of CPython, th...</td>\n",
       "      <td>1551554369837</td>\n",
       "      <td>False</td>\n",
       "      <td>{'id': 18064071, 'id_str': '18064071', 'name':...</td>\n",
       "      <td>erickgnavar</td>\n",
       "    </tr>\n",
       "    <tr>\n",
       "      <th>1</th>\n",
       "      <td>None</td>\n",
       "      <td>None</td>\n",
       "      <td>Sat Mar 02 19:19:29 +0000 2019</td>\n",
       "      <td>[0, 140]</td>\n",
       "      <td>{'hashtags': [], 'urls': [{'url': 'https://t.c...</td>\n",
       "      <td>NaN</td>\n",
       "      <td>{'full_text': 'Hier mal das, was das Projekt g...</td>\n",
       "      <td>Hier mal das, was das Projekt grundlegend zeig...</td>\n",
       "      <td>0</td>\n",
       "      <td>False</td>\n",
       "      <td>...</td>\n",
       "      <td>NaN</td>\n",
       "      <td>NaN</td>\n",
       "      <td>NaN</td>\n",
       "      <td>NaN</td>\n",
       "      <td>&lt;a href=\"http://twitter.com/download/android\" ...</td>\n",
       "      <td>Hier mal das, was das Projekt grundlegend zeig...</td>\n",
       "      <td>1551554369900</td>\n",
       "      <td>True</td>\n",
       "      <td>{'id': 3292060903, 'id_str': '3292060903', 'na...</td>\n",
       "      <td>l9cgv</td>\n",
       "    </tr>\n",
       "    <tr>\n",
       "      <th>2</th>\n",
       "      <td>None</td>\n",
       "      <td>None</td>\n",
       "      <td>Sat Mar 02 19:19:33 +0000 2019</td>\n",
       "      <td>[0, 68]</td>\n",
       "      <td>{'hashtags': [], 'urls': [{'url': 'https://t.c...</td>\n",
       "      <td>{'media': [{'id': 1101925025471295488, 'id_str...</td>\n",
       "      <td>NaN</td>\n",
       "      <td>NaN</td>\n",
       "      <td>0</td>\n",
       "      <td>False</td>\n",
       "      <td>...</td>\n",
       "      <td>NaN</td>\n",
       "      <td>NaN</td>\n",
       "      <td>NaN</td>\n",
       "      <td>NaN</td>\n",
       "      <td>&lt;a href=\"https://dlvrit.com/\" rel=\"nofollow\"&gt;d...</td>\n",
       "      <td>Python resulta ser el mejor lenguaje de 2018 h...</td>\n",
       "      <td>1551554373932</td>\n",
       "      <td>False</td>\n",
       "      <td>{'id': 903393260860825600, 'id_str': '90339326...</td>\n",
       "      <td>SharkBrand10</td>\n",
       "    </tr>\n",
       "  </tbody>\n",
       "</table>\n",
       "<p>3 rows × 37 columns</p>\n",
       "</div>"
      ],
      "text/plain": [
       "  contributors coordinates                      created_at display_text_range  \\\n",
       "0         None        None  Sat Mar 02 19:19:29 +0000 2019                NaN   \n",
       "1         None        None  Sat Mar 02 19:19:29 +0000 2019           [0, 140]   \n",
       "2         None        None  Sat Mar 02 19:19:33 +0000 2019            [0, 68]   \n",
       "\n",
       "                                            entities  \\\n",
       "0  {'hashtags': [], 'urls': [], 'user_mentions': ...   \n",
       "1  {'hashtags': [], 'urls': [{'url': 'https://t.c...   \n",
       "2  {'hashtags': [], 'urls': [{'url': 'https://t.c...   \n",
       "\n",
       "                                   extended_entities  \\\n",
       "0                                                NaN   \n",
       "1                                                NaN   \n",
       "2  {'media': [{'id': 1101925025471295488, 'id_str...   \n",
       "\n",
       "                                      extended_tweet  \\\n",
       "0                                                NaN   \n",
       "1  {'full_text': 'Hier mal das, was das Projekt g...   \n",
       "2                                                NaN   \n",
       "\n",
       "                            extended_tweet-full_text  favorite_count  \\\n",
       "0                                                NaN               0   \n",
       "1  Hier mal das, was das Projekt grundlegend zeig...               0   \n",
       "2                                                NaN               0   \n",
       "\n",
       "   favorited  ...                                   retweeted_status  \\\n",
       "0      False  ...  {'created_at': 'Sat Mar 02 15:58:50 +0000 2019...   \n",
       "1      False  ...                                                NaN   \n",
       "2      False  ...                                                NaN   \n",
       "\n",
       "           retweeted_status-extended_tweet-full_text  \\\n",
       "0  The oldest piece of CPython, the parser genera...   \n",
       "1                                                NaN   \n",
       "2                                                NaN   \n",
       "\n",
       "                               retweeted_status-text  \\\n",
       "0  The oldest piece of CPython, the parser genera...   \n",
       "1                                                NaN   \n",
       "2                                                NaN   \n",
       "\n",
       "  retweeted_status-user-screen_name  \\\n",
       "0                         pyblogsal   \n",
       "1                               NaN   \n",
       "2                               NaN   \n",
       "\n",
       "                                              source  \\\n",
       "0  <a href=\"http://tapbots.com/tweetbot\" rel=\"nof...   \n",
       "1  <a href=\"http://twitter.com/download/android\" ...   \n",
       "2  <a href=\"https://dlvrit.com/\" rel=\"nofollow\">d...   \n",
       "\n",
       "                                                text   timestamp_ms  \\\n",
       "0  RT @pyblogsal: The oldest piece of CPython, th...  1551554369837   \n",
       "1  Hier mal das, was das Projekt grundlegend zeig...  1551554369900   \n",
       "2  Python resulta ser el mejor lenguaje de 2018 h...  1551554373932   \n",
       "\n",
       "   truncated                                               user  \\\n",
       "0      False  {'id': 18064071, 'id_str': '18064071', 'name':...   \n",
       "1       True  {'id': 3292060903, 'id_str': '3292060903', 'na...   \n",
       "2      False  {'id': 903393260860825600, 'id_str': '90339326...   \n",
       "\n",
       "   user-screen_name  \n",
       "0       erickgnavar  \n",
       "1             l9cgv  \n",
       "2      SharkBrand10  \n",
       "\n",
       "[3 rows x 37 columns]"
      ]
     },
     "execution_count": 29,
     "metadata": {},
     "output_type": "execute_result"
    }
   ],
   "source": [
    "# Print out hte first 3 tweets\n",
    "tweets_df.head(3)"
   ]
  },
  {
   "cell_type": "code",
   "execution_count": 30,
   "metadata": {},
   "outputs": [
    {
     "data": {
      "text/plain": [
       "array(['RT @pyblogsal: The oldest piece of CPython, the parser generator (pgen) has been retired and replaced with a new version! 🐍🖥️\\U0001f973 \\n\\nThe parser…',\n",
       "       'Hier mal das, was das Projekt grundlegend zeigen soll... Eine Art Visualisierung in Form von LED-Streifen über ein… https://t.co/vln2xW8H5R',\n",
       "       'Python resulta ser el mejor lenguaje de 2018 https://t.co/uXhtxheYcW https://t.co/L0AqT6KniN'],\n",
       "      dtype=object)"
      ]
     },
     "execution_count": 30,
     "metadata": {},
     "output_type": "execute_result"
    }
   ],
   "source": [
    "# Print out the text of the first 3 tweets\n",
    "tweets_df['text'].values[0:3]"
   ]
  },
  {
   "cell_type": "markdown",
   "metadata": {},
   "source": [
    "### Counting Words\n",
    "\n",
    "Counting words is the basic step for text analysis. There are 26 tweets in our Data Frame."
   ]
  },
  {
   "cell_type": "code",
   "execution_count": 31,
   "metadata": {},
   "outputs": [
    {
     "data": {
      "text/plain": [
       "26"
      ]
     },
     "execution_count": 31,
     "metadata": {},
     "output_type": "execute_result"
    }
   ],
   "source": [
    "# The number of tweets in the DataFrame\n",
    "tweets_df.shape[0]"
   ]
  },
  {
   "cell_type": "markdown",
   "metadata": {},
   "source": [
    "We can use `str.contains()` along with `sum()` to count the frequency of a keyword. `case` parameter is for selecting case sensitivity."
   ]
  },
  {
   "cell_type": "code",
   "execution_count": 32,
   "metadata": {},
   "outputs": [
    {
     "name": "stdout",
     "output_type": "stream",
     "text": [
      "12\n",
      "2\n"
     ]
    }
   ],
   "source": [
    "# Number of tweets that contain the keyword \"python\"\n",
    "print(tweets_df['text'].str.contains('python', case = False).sum())\n",
    "\n",
    "# Find mentions of \"#python\" in 'text'\n",
    "print(tweets_df['text'].str.contains('#python', case=False).sum())"
   ]
  },
  {
   "cell_type": "code",
   "execution_count": 33,
   "metadata": {},
   "outputs": [
    {
     "data": {
      "text/plain": [
       "5"
      ]
     },
     "execution_count": 33,
     "metadata": {},
     "output_type": "execute_result"
    }
   ],
   "source": [
    "# Number of tweets that contain the keyword \"datascience\"\n",
    "tweets_df['text'].str.contains('datascience', case = False).sum()"
   ]
  },
  {
   "cell_type": "code",
   "execution_count": 34,
   "metadata": {},
   "outputs": [
    {
     "name": "stdout",
     "output_type": "stream",
     "text": [
      "Proportion of 'python' tweets: 0.46153846153846156\n"
     ]
    }
   ],
   "source": [
    "# Print proportion of tweets mentioning python\n",
    "print(\"Proportion of 'python' tweets:\", tweets_df['text'].str.contains('python', case = False).sum() / tweets_df.shape[0])"
   ]
  },
  {
   "cell_type": "markdown",
   "metadata": {},
   "source": [
    "We have previously searched for keywords 'python' and 'datascience'. Sum of the two occurences are $12 + 5 = 17$. However, we have a total of 26 tweets. The reason we have less number of occurences is that we have only looked in the main `text` field. The keywords may well be in the `extended_tweet`, the `quoted_status`, and the `retweeted_status` fields. Thus we need to search all text fields. \n",
    "\n",
    "|#|Text Fields|\n",
    "|-|:----------|\n",
    "|1|text|\n",
    "|2|extended_tweet > full_text|\n",
    "|3|quoted_status > text|\n",
    "|4|quoted_status > extended_tweet > full_text|\n",
    "|5|retweeted_status > text|\n",
    "|6|retweeted_status > extended_tweet > full_text|"
   ]
  },
  {
   "cell_type": "code",
   "execution_count": 50,
   "metadata": {},
   "outputs": [],
   "source": [
    "def check_keywords(keyword, data):\n",
    "    \"\"\"Checks if a keyword is in a Twitter dataset's text. \n",
    "    Checks text and extended tweet (140+ character tweets) for tweets,\n",
    "    retweets and quoted tweets.\n",
    "    Returns a logical pandas Series.\n",
    "    \"\"\"\n",
    "    check_col = data['text'].str.contains(keyword, case = False)\n",
    "    check_col |= data['extended_tweet-full_text'].str.contains(keyword, case = False)\n",
    "#     contains_column |= data['quoted_status-text'].str.contains(keyword, case = False)\n",
    "#     contains_column |= data['quoted_status-extended_tweet-full_text'].str.contains(keyword, case = False)\n",
    "    check_col |= data['retweeted_status-text'].str.contains(keyword, case=False)\n",
    "    check_col |= data['retweeted_status-extended_tweet-full_text'].str.contains(keyword, case=False)\n",
    "    return check_col"
   ]
  },
  {
   "cell_type": "code",
   "execution_count": 51,
   "metadata": {},
   "outputs": [
    {
     "name": "stdout",
     "output_type": "stream",
     "text": [
      "17\n",
      "10\n",
      "Proportion of 'python' tweets: 0.6538461538461539\n",
      "Proportion of 'datascience' tweets: 0.38461538461538464\n"
     ]
    }
   ],
   "source": [
    "# Find mentions of python in all text fields\n",
    "python = check_keywords('python', tweets_df)\n",
    "print(python.sum())\n",
    "\n",
    "# Find mentions of both python and datascience in all text fields\n",
    "datascience = check_keywords('datascience', tweets_df)\n",
    "print(datascience.sum())\n",
    "\n",
    "# Print proportion of tweets mentioning python\n",
    "print(\"Proportion of 'python' tweets:\", python.sum() / tweets_df.shape[0])\n",
    "\n",
    "# Print proportion of tweets mentioning datascience\n",
    "print(\"Proportion of 'datascience' tweets:\", datascience.sum() / tweets_df.shape[0])"
   ]
  },
  {
   "cell_type": "markdown",
   "metadata": {},
   "source": [
    "### Time Series\n",
    "\n",
    "We can explore the various attributes of tweet data over time. We need to change the data type of object to a `datetime`. However, I'll first read in a file with more tweets."
   ]
  },
  {
   "cell_type": "code",
   "execution_count": 69,
   "metadata": {},
   "outputs": [
    {
     "data": {
      "text/plain": [
       "176"
      ]
     },
     "execution_count": 69,
     "metadata": {},
     "output_type": "execute_result"
    }
   ],
   "source": [
    "# Create flattened tweet list\n",
    "tweet_10_list = flatten('tweets_10min.json')\n",
    "\n",
    "# Create a pandas DataFrame\n",
    "tweets10_df = pd.DataFrame(tweet_10_list)\n",
    "\n",
    "# The number of tweets in the DataFrame\n",
    "tweets10_df.shape[0]"
   ]
  },
  {
   "cell_type": "code",
   "execution_count": 70,
   "metadata": {},
   "outputs": [
    {
     "data": {
      "text/plain": [
       "0    Wed Jun 12 13:04:47 +0000 2019\n",
       "1    Wed Jun 12 13:04:49 +0000 2019\n",
       "2    Wed Jun 12 13:04:58 +0000 2019\n",
       "3    Wed Jun 12 13:05:01 +0000 2019\n",
       "4    Wed Jun 12 13:05:01 +0000 2019\n",
       "Name: created_at, dtype: object"
      ]
     },
     "execution_count": 70,
     "metadata": {},
     "output_type": "execute_result"
    }
   ],
   "source": [
    "# Print the head of the 'created_at' column\n",
    "tweets10_df.created_at.head()"
   ]
  },
  {
   "cell_type": "code",
   "execution_count": 72,
   "metadata": {},
   "outputs": [
    {
     "name": "stdout",
     "output_type": "stream",
     "text": [
      "0   2019-06-12 13:04:47+00:00\n",
      "1   2019-06-12 13:04:49+00:00\n",
      "2   2019-06-12 13:04:58+00:00\n",
      "3   2019-06-12 13:05:01+00:00\n",
      "4   2019-06-12 13:05:01+00:00\n",
      "Name: created_at, dtype: datetime64[ns, UTC]\n"
     ]
    }
   ],
   "source": [
    "# Convert the created_at column to a `datetime` object\n",
    "tweets10_df['created_at'] = pd.to_datetime(tweets10_df['created_at'])\n",
    "\n",
    "# Print created_at to see new format\n",
    "print(tweets10_df['created_at'].head())\n",
    "\n",
    "# Set the index of ds_tweets to created_at\n",
    "tweets10_df = tweets10_df.set_index(\"created_at\")"
   ]
  },
  {
   "cell_type": "code",
   "execution_count": 73,
   "metadata": {},
   "outputs": [],
   "source": [
    "# Create a python column\n",
    "tweets10_df['python'] = check_keywords('python', tweets10_df)\n",
    "\n",
    "# Create an rstats column\n",
    "tweets10_df['datascience'] = check_keywords('datascience', tweets10_df)"
   ]
  },
  {
   "cell_type": "markdown",
   "metadata": {},
   "source": [
    "`resample()` can be used as a method for frequency conversion (e.g., converting secondly data into 10-minutely data) and resampling of time series. It is similar to a time-based groupby, followed by a reduction method on each of its groups."
   ]
  },
  {
   "cell_type": "code",
   "execution_count": 99,
   "metadata": {},
   "outputs": [
    {
     "data": {
      "text/plain": [
       "created_at\n",
       "2019-06-12 13:04:00+00:00    0.333333\n",
       "2019-06-12 13:05:00+00:00    0.764706\n",
       "2019-06-12 13:06:00+00:00    0.588235\n",
       "2019-06-12 13:07:00+00:00    0.523810\n",
       "2019-06-12 13:08:00+00:00    0.666667\n",
       "2019-06-12 13:09:00+00:00    0.571429\n",
       "2019-06-12 13:10:00+00:00    0.500000\n",
       "2019-06-12 13:11:00+00:00    0.444444\n",
       "2019-06-12 13:12:00+00:00    0.388889\n",
       "2019-06-12 13:13:00+00:00    0.500000\n",
       "2019-06-12 13:14:00+00:00    0.400000\n",
       "Freq: T, Name: python, dtype: float64"
      ]
     },
     "execution_count": 99,
     "metadata": {},
     "output_type": "execute_result"
    }
   ],
   "source": [
    "tweets10_df['python'].resample('T').mean()"
   ]
  },
  {
   "cell_type": "code",
   "execution_count": 101,
   "metadata": {},
   "outputs": [
    {
     "data": {
      "image/png": "[encoded data removed]",
      "text/plain": [
       "<Figure size 432x288 with 1 Axes>"
      ]
     },
     "metadata": {
      "needs_background": "light"
     },
     "output_type": "display_data"
    }
   ],
   "source": [
    "import matplotlib.pyplot as plt\n",
    "\n",
    "# Average of python column by minutes\n",
    "mean_python = tweets10_df['python'].resample('5T').mean()\n",
    "\n",
    "# Average of datascience column by minutes\n",
    "mean_datascience = tweets10_df['datascience'].resample('5T').mean()\n",
    "\n",
    "# Plot mean python by day(orange)/mean datascience by day(blue)\n",
    "plt.plot(mean_python.index.minute, mean_python, color = 'orange')\n",
    "plt.plot(mean_datascience.index.minute, mean_datascience, color = 'blue')\n",
    "\n",
    "# Add labels and show\n",
    "plt.xlabel('Minutes'); plt.ylabel('Frequency')\n",
    "plt.title('Mentions over time')\n",
    "plt.legend(('python', 'datascience'))\n",
    "plt.show()"
   ]
  },
  {
   "cell_type": "markdown",
   "metadata": {},
   "source": [
    "### Sentiment Analysis\n",
    "\n",
    "We can assess positivity and negativity of text using _Sentiment Analysis_. This would be particularly useful to analyse reactions to an event, a person, or a policy. We'll use `VADER`."
   ]
  },
  {
   "cell_type": "code",
   "execution_count": 164,
   "metadata": {},
   "outputs": [],
   "source": [
    "# Load SentimentIntensityAnalyzer\n",
    "from nltk.sentiment.vader import SentimentIntensityAnalyzer\n",
    "#from vaderSentiment.vaderSentiment import SentimentIntensityAnalyzer\n",
    "# nltk.download()\n",
    "\n",
    "# Instantiate new SentimentIntensityAnalyzer\n",
    "sid = SentimentIntensityAnalyzer()\n",
    "\n",
    "# Generate sentiment scores\n",
    "sentiment_scores = tweets10_df['text'].apply(sid.polarity_scores)"
   ]
  },
  {
   "cell_type": "code",
   "execution_count": 131,
   "metadata": {},
   "outputs": [
    {
     "name": "stdout",
     "output_type": "stream",
     "text": [
      "<class 'pandas.core.series.Series'>\n"
     ]
    },
    {
     "data": {
      "text/plain": [
       "created_at\n",
       "2019-06-12 13:04:47+00:00    {'neg': 0.0, 'neu': 1.0, 'pos': 0.0, 'compound...\n",
       "2019-06-12 13:04:49+00:00    {'neg': 0.0, 'neu': 1.0, 'pos': 0.0, 'compound...\n",
       "2019-06-12 13:04:58+00:00    {'neg': 0.0, 'neu': 1.0, 'pos': 0.0, 'compound...\n",
       "2019-06-12 13:05:01+00:00    {'neg': 0.0, 'neu': 1.0, 'pos': 0.0, 'compound...\n",
       "2019-06-12 13:05:01+00:00    {'neg': 0.0, 'neu': 1.0, 'pos': 0.0, 'compound...\n",
       "Name: text, dtype: object"
      ]
     },
     "execution_count": 131,
     "metadata": {},
     "output_type": "execute_result"
    }
   ],
   "source": [
    "print(type(sentiment_scores))\n",
    "sentiment_scores.head()"
   ]
  },
  {
   "cell_type": "code",
   "execution_count": 171,
   "metadata": {},
   "outputs": [],
   "source": [
    "import numpy as np\n",
    "tweets10_df['sentiment'] = np.array([x['compound'] for x in sentiment_scores])"
   ]
  },
  {
   "cell_type": "code",
   "execution_count": 159,
   "metadata": {},
   "outputs": [
    {
     "data": {
      "text/html": [
       "<div>\n",
       "<style scoped>\n",
       "    .dataframe tbody tr th:only-of-type {\n",
       "        vertical-align: middle;\n",
       "    }\n",
       "\n",
       "    .dataframe tbody tr th {\n",
       "        vertical-align: top;\n",
       "    }\n",
       "\n",
       "    .dataframe thead th {\n",
       "        text-align: right;\n",
       "    }\n",
       "</style>\n",
       "<table border=\"1\" class=\"dataframe\">\n",
       "  <thead>\n",
       "    <tr style=\"text-align: right;\">\n",
       "      <th></th>\n",
       "      <th>contributors</th>\n",
       "      <th>coordinates</th>\n",
       "      <th>display_text_range</th>\n",
       "      <th>entities</th>\n",
       "      <th>extended_entities</th>\n",
       "      <th>extended_tweet</th>\n",
       "      <th>extended_tweet-full_text</th>\n",
       "      <th>favorite_count</th>\n",
       "      <th>favorited</th>\n",
       "      <th>filter_level</th>\n",
       "      <th>...</th>\n",
       "      <th>retweeted_status-text</th>\n",
       "      <th>retweeted_status-user-screen_name</th>\n",
       "      <th>source</th>\n",
       "      <th>text</th>\n",
       "      <th>timestamp_ms</th>\n",
       "      <th>truncated</th>\n",
       "      <th>user</th>\n",
       "      <th>user-screen_name</th>\n",
       "      <th>python</th>\n",
       "      <th>datascience</th>\n",
       "    </tr>\n",
       "    <tr>\n",
       "      <th>created_at</th>\n",
       "      <th></th>\n",
       "      <th></th>\n",
       "      <th></th>\n",
       "      <th></th>\n",
       "      <th></th>\n",
       "      <th></th>\n",
       "      <th></th>\n",
       "      <th></th>\n",
       "      <th></th>\n",
       "      <th></th>\n",
       "      <th></th>\n",
       "      <th></th>\n",
       "      <th></th>\n",
       "      <th></th>\n",
       "      <th></th>\n",
       "      <th></th>\n",
       "      <th></th>\n",
       "      <th></th>\n",
       "      <th></th>\n",
       "      <th></th>\n",
       "      <th></th>\n",
       "    </tr>\n",
       "  </thead>\n",
       "  <tbody>\n",
       "    <tr>\n",
       "      <th>2019-06-12 13:04:47+00:00</th>\n",
       "      <td>None</td>\n",
       "      <td>None</td>\n",
       "      <td>[0, 140]</td>\n",
       "      <td>{'hashtags': [{'text': 'AI', 'indices': [111, ...</td>\n",
       "      <td>NaN</td>\n",
       "      <td>{'full_text': 'Entry-level Medical Writer - Ke...</td>\n",
       "      <td>Entry-level Medical Writer - Kelly Services ( ...</td>\n",
       "      <td>0</td>\n",
       "      <td>False</td>\n",
       "      <td>low</td>\n",
       "      <td>...</td>\n",
       "      <td>NaN</td>\n",
       "      <td>NaN</td>\n",
       "      <td>&lt;a href=\"http://www.waseemly.com\" rel=\"nofollo...</td>\n",
       "      <td>Entry-level Medical Writer - Kelly Services ( ...</td>\n",
       "      <td>1560344687012</td>\n",
       "      <td>True</td>\n",
       "      <td>{'id': 926222961190764546, 'id_str': '92622296...</td>\n",
       "      <td>workwithai</td>\n",
       "      <td>False</td>\n",
       "      <td>True</td>\n",
       "    </tr>\n",
       "    <tr>\n",
       "      <th>2019-06-12 13:04:49+00:00</th>\n",
       "      <td>None</td>\n",
       "      <td>None</td>\n",
       "      <td>[0, 140]</td>\n",
       "      <td>{'hashtags': [{'text': 'AI', 'indices': [19, 2...</td>\n",
       "      <td>NaN</td>\n",
       "      <td>{'full_text': 'Unleash your inner #AI with ass...</td>\n",
       "      <td>Unleash your inner #AI with assisted modeling ...</td>\n",
       "      <td>0</td>\n",
       "      <td>False</td>\n",
       "      <td>low</td>\n",
       "      <td>...</td>\n",
       "      <td>NaN</td>\n",
       "      <td>NaN</td>\n",
       "      <td>&lt;a href=\"https://www.spredfast.com\" rel=\"nofol...</td>\n",
       "      <td>Unleash your inner #AI with assisted modeling ...</td>\n",
       "      <td>1560344689509</td>\n",
       "      <td>True</td>\n",
       "      <td>{'id': 16528607, 'id_str': '16528607', 'name':...</td>\n",
       "      <td>alteryx</td>\n",
       "      <td>False</td>\n",
       "      <td>True</td>\n",
       "    </tr>\n",
       "    <tr>\n",
       "      <th>2019-06-12 13:04:58+00:00</th>\n",
       "      <td>None</td>\n",
       "      <td>None</td>\n",
       "      <td>NaN</td>\n",
       "      <td>{'hashtags': [], 'urls': [], 'user_mentions': ...</td>\n",
       "      <td>NaN</td>\n",
       "      <td>NaN</td>\n",
       "      <td>NaN</td>\n",
       "      <td>0</td>\n",
       "      <td>False</td>\n",
       "      <td>low</td>\n",
       "      <td>...</td>\n",
       "      <td>NaN</td>\n",
       "      <td>NaN</td>\n",
       "      <td>&lt;a href=\"https://mobile.twitter.com\" rel=\"nofo...</td>\n",
       "      <td>最近職場で慣れていないpythonにずっと向かい合っている気がする…</td>\n",
       "      <td>1560344698070</td>\n",
       "      <td>False</td>\n",
       "      <td>{'id': 477707264, 'id_str': '477707264', 'name...</td>\n",
       "      <td>NULLspeed_hp</td>\n",
       "      <td>True</td>\n",
       "      <td>False</td>\n",
       "    </tr>\n",
       "    <tr>\n",
       "      <th>2019-06-12 13:05:01+00:00</th>\n",
       "      <td>None</td>\n",
       "      <td>None</td>\n",
       "      <td>NaN</td>\n",
       "      <td>{'hashtags': [], 'urls': [], 'user_mentions': ...</td>\n",
       "      <td>NaN</td>\n",
       "      <td>NaN</td>\n",
       "      <td>NaN</td>\n",
       "      <td>0</td>\n",
       "      <td>False</td>\n",
       "      <td>low</td>\n",
       "      <td>...</td>\n",
       "      <td>NaN</td>\n",
       "      <td>NaN</td>\n",
       "      <td>&lt;a href=\"http://twitter.com/download/iphone\" r...</td>\n",
       "      <td>pythonの三項演算子好きじゃない。</td>\n",
       "      <td>1560344701071</td>\n",
       "      <td>False</td>\n",
       "      <td>{'id': 1023929060768927745, 'id_str': '1023929...</td>\n",
       "      <td>mito2357</td>\n",
       "      <td>True</td>\n",
       "      <td>False</td>\n",
       "    </tr>\n",
       "    <tr>\n",
       "      <th>2019-06-12 13:05:01+00:00</th>\n",
       "      <td>None</td>\n",
       "      <td>None</td>\n",
       "      <td>NaN</td>\n",
       "      <td>{'hashtags': [{'text': 'job', 'indices': [98, ...</td>\n",
       "      <td>NaN</td>\n",
       "      <td>NaN</td>\n",
       "      <td>NaN</td>\n",
       "      <td>0</td>\n",
       "      <td>False</td>\n",
       "      <td>low</td>\n",
       "      <td>...</td>\n",
       "      <td>NaN</td>\n",
       "      <td>NaN</td>\n",
       "      <td>&lt;a href=\"https://buffer.com\" rel=\"nofollow\"&gt;Bu...</td>\n",
       "      <td>😆 BOOM! 😆 Could you be @Citymapper's Backend e...</td>\n",
       "      <td>1560344701281</td>\n",
       "      <td>False</td>\n",
       "      <td>{'id': 1258138550, 'id_str': '1258138550', 'na...</td>\n",
       "      <td>unicornhuntio</td>\n",
       "      <td>True</td>\n",
       "      <td>False</td>\n",
       "    </tr>\n",
       "  </tbody>\n",
       "</table>\n",
       "<p>5 rows × 44 columns</p>\n",
       "</div>"
      ],
      "text/plain": [
       "                          contributors coordinates display_text_range  \\\n",
       "created_at                                                              \n",
       "2019-06-12 13:04:47+00:00         None        None           [0, 140]   \n",
       "2019-06-12 13:04:49+00:00         None        None           [0, 140]   \n",
       "2019-06-12 13:04:58+00:00         None        None                NaN   \n",
       "2019-06-12 13:05:01+00:00         None        None                NaN   \n",
       "2019-06-12 13:05:01+00:00         None        None                NaN   \n",
       "\n",
       "                                                                    entities  \\\n",
       "created_at                                                                     \n",
       "2019-06-12 13:04:47+00:00  {'hashtags': [{'text': 'AI', 'indices': [111, ...   \n",
       "2019-06-12 13:04:49+00:00  {'hashtags': [{'text': 'AI', 'indices': [19, 2...   \n",
       "2019-06-12 13:04:58+00:00  {'hashtags': [], 'urls': [], 'user_mentions': ...   \n",
       "2019-06-12 13:05:01+00:00  {'hashtags': [], 'urls': [], 'user_mentions': ...   \n",
       "2019-06-12 13:05:01+00:00  {'hashtags': [{'text': 'job', 'indices': [98, ...   \n",
       "\n",
       "                          extended_entities  \\\n",
       "created_at                                    \n",
       "2019-06-12 13:04:47+00:00               NaN   \n",
       "2019-06-12 13:04:49+00:00               NaN   \n",
       "2019-06-12 13:04:58+00:00               NaN   \n",
       "2019-06-12 13:05:01+00:00               NaN   \n",
       "2019-06-12 13:05:01+00:00               NaN   \n",
       "\n",
       "                                                              extended_tweet  \\\n",
       "created_at                                                                     \n",
       "2019-06-12 13:04:47+00:00  {'full_text': 'Entry-level Medical Writer - Ke...   \n",
       "2019-06-12 13:04:49+00:00  {'full_text': 'Unleash your inner #AI with ass...   \n",
       "2019-06-12 13:04:58+00:00                                                NaN   \n",
       "2019-06-12 13:05:01+00:00                                                NaN   \n",
       "2019-06-12 13:05:01+00:00                                                NaN   \n",
       "\n",
       "                                                    extended_tweet-full_text  \\\n",
       "created_at                                                                     \n",
       "2019-06-12 13:04:47+00:00  Entry-level Medical Writer - Kelly Services ( ...   \n",
       "2019-06-12 13:04:49+00:00  Unleash your inner #AI with assisted modeling ...   \n",
       "2019-06-12 13:04:58+00:00                                                NaN   \n",
       "2019-06-12 13:05:01+00:00                                                NaN   \n",
       "2019-06-12 13:05:01+00:00                                                NaN   \n",
       "\n",
       "                           favorite_count  favorited filter_level  ...  \\\n",
       "created_at                                                         ...   \n",
       "2019-06-12 13:04:47+00:00               0      False          low  ...   \n",
       "2019-06-12 13:04:49+00:00               0      False          low  ...   \n",
       "2019-06-12 13:04:58+00:00               0      False          low  ...   \n",
       "2019-06-12 13:05:01+00:00               0      False          low  ...   \n",
       "2019-06-12 13:05:01+00:00               0      False          low  ...   \n",
       "\n",
       "                          retweeted_status-text  \\\n",
       "created_at                                        \n",
       "2019-06-12 13:04:47+00:00                   NaN   \n",
       "2019-06-12 13:04:49+00:00                   NaN   \n",
       "2019-06-12 13:04:58+00:00                   NaN   \n",
       "2019-06-12 13:05:01+00:00                   NaN   \n",
       "2019-06-12 13:05:01+00:00                   NaN   \n",
       "\n",
       "                           retweeted_status-user-screen_name  \\\n",
       "created_at                                                     \n",
       "2019-06-12 13:04:47+00:00                                NaN   \n",
       "2019-06-12 13:04:49+00:00                                NaN   \n",
       "2019-06-12 13:04:58+00:00                                NaN   \n",
       "2019-06-12 13:05:01+00:00                                NaN   \n",
       "2019-06-12 13:05:01+00:00                                NaN   \n",
       "\n",
       "                                                                      source  \\\n",
       "created_at                                                                     \n",
       "2019-06-12 13:04:47+00:00  <a href=\"http://www.waseemly.com\" rel=\"nofollo...   \n",
       "2019-06-12 13:04:49+00:00  <a href=\"https://www.spredfast.com\" rel=\"nofol...   \n",
       "2019-06-12 13:04:58+00:00  <a href=\"https://mobile.twitter.com\" rel=\"nofo...   \n",
       "2019-06-12 13:05:01+00:00  <a href=\"http://twitter.com/download/iphone\" r...   \n",
       "2019-06-12 13:05:01+00:00  <a href=\"https://buffer.com\" rel=\"nofollow\">Bu...   \n",
       "\n",
       "                                                                        text  \\\n",
       "created_at                                                                     \n",
       "2019-06-12 13:04:47+00:00  Entry-level Medical Writer - Kelly Services ( ...   \n",
       "2019-06-12 13:04:49+00:00  Unleash your inner #AI with assisted modeling ...   \n",
       "2019-06-12 13:04:58+00:00                 最近職場で慣れていないpythonにずっと向かい合っている気がする…   \n",
       "2019-06-12 13:05:01+00:00                                pythonの三項演算子好きじゃない。   \n",
       "2019-06-12 13:05:01+00:00  😆 BOOM! 😆 Could you be @Citymapper's Backend e...   \n",
       "\n",
       "                            timestamp_ms truncated  \\\n",
       "created_at                                           \n",
       "2019-06-12 13:04:47+00:00  1560344687012      True   \n",
       "2019-06-12 13:04:49+00:00  1560344689509      True   \n",
       "2019-06-12 13:04:58+00:00  1560344698070     False   \n",
       "2019-06-12 13:05:01+00:00  1560344701071     False   \n",
       "2019-06-12 13:05:01+00:00  1560344701281     False   \n",
       "\n",
       "                                                                        user  \\\n",
       "created_at                                                                     \n",
       "2019-06-12 13:04:47+00:00  {'id': 926222961190764546, 'id_str': '92622296...   \n",
       "2019-06-12 13:04:49+00:00  {'id': 16528607, 'id_str': '16528607', 'name':...   \n",
       "2019-06-12 13:04:58+00:00  {'id': 477707264, 'id_str': '477707264', 'name...   \n",
       "2019-06-12 13:05:01+00:00  {'id': 1023929060768927745, 'id_str': '1023929...   \n",
       "2019-06-12 13:05:01+00:00  {'id': 1258138550, 'id_str': '1258138550', 'na...   \n",
       "\n",
       "                          user-screen_name  python datascience  \n",
       "created_at                                                      \n",
       "2019-06-12 13:04:47+00:00       workwithai   False        True  \n",
       "2019-06-12 13:04:49+00:00          alteryx   False        True  \n",
       "2019-06-12 13:04:58+00:00     NULLspeed_hp    True       False  \n",
       "2019-06-12 13:05:01+00:00         mito2357    True       False  \n",
       "2019-06-12 13:05:01+00:00    unicornhuntio    True       False  \n",
       "\n",
       "[5 rows x 44 columns]"
      ]
     },
     "execution_count": 159,
     "metadata": {},
     "output_type": "execute_result"
    }
   ],
   "source": [
    "tweets10_df.head()"
   ]
  },
  {
   "cell_type": "code",
   "execution_count": 173,
   "metadata": {},
   "outputs": [
    {
     "name": "stdout",
     "output_type": "stream",
     "text": [
      "The latest Excel Daily News! https://t.co/VLFQaTWECr Thanks to @NewLogic_0 @ExcelDemy @cdxtech #excel #python\n",
      "@aversifollo Esta fantasía se podría hacer con python? No no?\n"
     ]
    }
   ],
   "source": [
    "# Print out the text of a positive tweet\n",
    "print(tweets10_df[tweets10_df.sentiment > 0.5]['text'].values[0])\n",
    "\n",
    "# Print out the text of a negative tweet\n",
    "print(tweets10_df[tweets10_df.sentiment < -0.5]['text'].values[0])\n",
    "\n",
    "# Generate average sentiment scores for #python\n",
    "sentiment_py = tweets10_df.sentiment[check_keywords('python', tweets10_df)].resample('1T').mean()\n",
    "\n",
    "# Generate average sentiment scores for #rstats\n",
    "sentiment_ds = tweets10_df.sentiment[check_keywords('datascience', tweets10_df)].resample('1T').mean()"
   ]
  },
  {
   "cell_type": "code",
   "execution_count": 177,
   "metadata": {},
   "outputs": [
    {
     "data": {
      "image/png": "[encoded data removed]",
      "text/plain": [
       "<Figure size 432x288 with 1 Axes>"
      ]
     },
     "metadata": {
      "needs_background": "light"
     },
     "output_type": "display_data"
    }
   ],
   "source": [
    "# Import matplotlib\n",
    "import matplotlib.pyplot as plt\n",
    "\n",
    "# Plot average #python sentiment per day\n",
    "plt.plot(sentiment_py.index.minute, sentiment_py, color = 'green')\n",
    "\n",
    "# Plot average #rstats sentiment per day\n",
    "plt.plot(sentiment_ds.index.minute, sentiment_ds, color = 'blue')\n",
    "\n",
    "plt.xlabel('Day')\n",
    "plt.ylabel('Sentiment')\n",
    "plt.title('Sentiment of data science languages')\n",
    "plt.legend(('#python', '#rstats'))\n",
    "plt.show()"
   ]
  }
 ],
 "metadata": {
  "kernelspec": {
   "display_name": "Python 3",
   "language": "python",
   "name": "python3"
  },
  "language_info": {
   "codemirror_mode": {
    "name": "ipython",
    "version": 3
   },
   "file_extension": ".py",
   "mimetype": "text/x-python",
   "name": "python",
   "nbconvert_exporter": "python",
   "pygments_lexer": "ipython3",
   "version": "3.6.8"
  }
 },
 "nbformat": 4,
 "nbformat_minor": 2
}
