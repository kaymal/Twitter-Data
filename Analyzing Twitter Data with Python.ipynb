{
 "cells": [
  {
   "cell_type": "markdown",
   "metadata": {
    "toc-hr-collapsed": false
   },
   "source": [
    "# Analyzing Twitter Data with Python"
   ]
  },
  {
   "cell_type": "markdown",
   "metadata": {},
   "source": [
    "Outline:\n",
    "* [Credentials and Authentication](#Credentials-and-Authentication)\n",
    "* [Collecting and Investigating Data with tweepy](#Collecting-and-Investigating-Data-with-tweepy)\n",
    "    - Methods\n",
    "        - Status\n",
    "        - User\n",
    "        - Trends\n",
    "        - Search\n",
    "    - Twitter Streams\n",
    "        - Creating a StreamListener\n",
    "        - Creating a Stream\n",
    "        - Starting a Stream\n",
    "* [Loading and Accessing Tweets](#Loading-and-Accessing-Tweets)\n",
    "    - Saving a Status as JSON\n",
    "    - Accessig a Single Tweet/Status\n",
    "        - User Data\n",
    "        - Retweet Data\n",
    "    - Loading Multiple Tweets from JSON file\n",
    "* [Processing Text](#Processing-Text)\n",
    "    - Flattening Tweets and Creating a DataFrame\n",
    "    - Counting Words\n",
    "    - Time Series\n",
    "    - Sentiment Analysis\n",
    "* [Twitter Networks](#Twitter-Networks)\n",
    "    - Creating a Retweet Network\n",
    "    - Creating a Reply Network\n",
    "    - Centrality\n",
    "* [Geographical Data](#Geographical-Data)\n",
    "    - asd\n"
   ]
  },
  {
   "cell_type": "markdown",
   "metadata": {},
   "source": [
    "The `tweepy` module will be used to collect Twitter data with the Streaming API."
   ]
  },
  {
   "cell_type": "code",
   "execution_count": 3,
   "metadata": {},
   "outputs": [],
   "source": [
    "# !pip install tweepy"
   ]
  },
  {
   "cell_type": "code",
   "execution_count": 4,
   "metadata": {},
   "outputs": [],
   "source": [
    "# import tweepy\n",
    "from tweepy import OAuthHandler, API\n",
    "\n",
    "import json"
   ]
  },
  {
   "cell_type": "markdown",
   "metadata": {},
   "source": [
    "## Credentials and Authentication"
   ]
  },
  {
   "cell_type": "markdown",
   "metadata": {},
   "source": [
    "First of all, we need to create a Twitter account, validate it, and then create a Twitter developer account. The developer account can be created within the [Twitter developer](https://developer.twitter.com/en/apps) web page.\n",
    "\n",
    "Second, we create an app to generate a _Customer Key_, a _Consumer Secret_, an _Access Token_, and an _Access Token Secret_.\n",
    "\n",
    "The steps to generate keys are as follows:\n",
    "- Create a Twitter acoount, validate it with a phone number,\n",
    "- Create a Twitter developer account,\n",
    "- Create an app,\n",
    "- Generate keys and tokens.\n",
    "\n",
    "It is worth noting that the app's API keys should be kept secure. It is important not to commit API keys and access tokens to publicly accessible version control systems such as Github or BitBucket."
   ]
  },
  {
   "cell_type": "markdown",
   "metadata": {},
   "source": [
    "The Twitter credentials (keys and tokens) can be kept locally as a `.json` file in the following format.\n",
    "\n",
    "```\n",
    "{\"consumer_key\":\"API key\",\n",
    " \"consumer_secret\":\"API secret key\",\n",
    " \"access_token_key\":\"Access token\",\n",
    " \"access_token_secret\":\"Access token secret\"\n",
    "}\n",
    "```"
   ]
  },
  {
   "cell_type": "code",
   "execution_count": 5,
   "metadata": {},
   "outputs": [],
   "source": [
    "# Load Twitter app information\n",
    "with open('twitter_cred.json','r') as file:\n",
    "    twitter_cred = json.load(file)"
   ]
  },
  {
   "cell_type": "code",
   "execution_count": 6,
   "metadata": {},
   "outputs": [],
   "source": [
    "consumer_key = twitter_cred['consumer_key']\n",
    "consumer_secret = twitter_cred['consumer_secret']\n",
    "access_token = twitter_cred['access_token_key']\n",
    "access_token_secret = twitter_cred['access_token_secret']"
   ]
  },
  {
   "cell_type": "markdown",
   "metadata": {},
   "source": [
    "`tweepy` library requires a Twitter API key to authenticate with Twitter. The API class provides access to the entire twitter RESTful API methods."
   ]
  },
  {
   "cell_type": "code",
   "execution_count": 7,
   "metadata": {},
   "outputs": [],
   "source": [
    "# Consumer key authentication\n",
    "auth = OAuthHandler(consumer_key, consumer_secret) # tweepy.OAuthHandler\n",
    "\n",
    "# Access key authentication\n",
    "auth.set_access_token(access_token, access_token_secret)\n",
    "\n",
    "# Set up the API with the authentication handler: Construct the API instance\n",
    "api = API(auth) # tweepy.API"
   ]
  },
  {
   "cell_type": "markdown",
   "metadata": {},
   "source": [
    "We can print the username to see if our account is properly authenticated."
   ]
  },
  {
   "cell_type": "code",
   "execution_count": 8,
   "metadata": {},
   "outputs": [],
   "source": [
    "user = api.me()\n",
    "# print(user.name)"
   ]
  },
  {
   "cell_type": "markdown",
   "metadata": {
    "toc-hr-collapsed": false
   },
   "source": [
    "## Collecting and Investigating Data with `tweepy`"
   ]
  },
  {
   "cell_type": "markdown",
   "metadata": {},
   "source": [
    "`tweepy.api` is a wrapper for the Twitter API. It provides access to the entire twitter RESTful API methods. Each method can accept various parameters and return responses. "
   ]
  },
  {
   "cell_type": "markdown",
   "metadata": {},
   "source": [
    "### Methods\n",
    "\n",
    "Methods include:\n",
    " - Timeline Methods,\n",
    " - Status Methods,\n",
    " - User Methods,\n",
    " - Direct Message Methods,\n",
    " - Friendship Methods,\n",
    " - Account Methods,\n",
    " - Favorite Methods,\n",
    " - Block Methods,\n",
    " - Saved Searches Methods, \n",
    " - Spam Reporting Methods,\n",
    " - Help Methods,\n",
    " - List Methods,\n",
    " - Trends Methods,\n",
    " - Geo Methods.\n",
    "[Source:tweepy](https://tweepy.readthedocs.io/en/v3.5.0/api.html#api-reference)"
   ]
  },
  {
   "cell_type": "markdown",
   "metadata": {},
   "source": [
    "#### Status"
   ]
  },
  {
   "cell_type": "markdown",
   "metadata": {},
   "source": [
    "A **status** is a _tweet_ with various attributes such as _created at_, _id_, and _text_. (See [twitter](https://developer.twitter.com/en/docs/tweets/data-dictionary/overview/tweet-object) for full list of attributes.)\n",
    "\n",
    "For example, below status is [the most retweeted tweet](https://mashable.com/article/most-retweeted-tweet-billionaire/?europe=true) in English, as of 2018. `API.get_status(id)` method returns a single status specified by the ID parameter."
   ]
  },
  {
   "cell_type": "code",
   "execution_count": 9,
   "metadata": {},
   "outputs": [],
   "source": [
    "# Get the status of the most retweeted tweet\n",
    "status = api.get_status('849813577770778624')"
   ]
  },
  {
   "cell_type": "code",
   "execution_count": 10,
   "metadata": {},
   "outputs": [
    {
     "data": {
      "text/plain": [
       "tweepy.models.Status"
      ]
     },
     "execution_count": 10,
     "metadata": {},
     "output_type": "execute_result"
    }
   ],
   "source": [
    "type(status)"
   ]
  },
  {
   "cell_type": "code",
   "execution_count": 11,
   "metadata": {},
   "outputs": [
    {
     "data": {
      "text/plain": [
       "\"Status(_api=<tweepy.api.API object at 0x10f707080>, _json={'created_at': 'Thu Apr 06 02:38:40 +0000 2017', 'id': 849813577770778624, 'id_str': '849813577770778624', 'text': 'HELP ME PLEASE. A MAN NEEDS HIS NUGGS https://t.co/4SrfHmEMo3', 'truncated': False, 'entities': {'hashtags': [], 'symbols': [], 'user_mentions': [], 'urls': [], 'media': [{'id': 849813572351737856, 'id_str': '849813572351737856', 'indices': [38, 61], 'media_url': 'http://pbs.twimg.com/media/C8sk8QlUwAAR3qI.jpg', 'media_url_h\""
      ]
     },
     "execution_count": 11,
     "metadata": {},
     "output_type": "execute_result"
    }
   ],
   "source": [
    "# Print first 500 characters of the Status.\n",
    "str(status)[:500]"
   ]
  },
  {
   "cell_type": "code",
   "execution_count": 12,
   "metadata": {},
   "outputs": [
    {
     "data": {
      "text/plain": [
       "'HELP ME PLEASE. A MAN NEEDS HIS NUGGS https://t.co/4SrfHmEMo3'"
      ]
     },
     "execution_count": 12,
     "metadata": {},
     "output_type": "execute_result"
    }
   ],
   "source": [
    "status.text"
   ]
  },
  {
   "cell_type": "code",
   "execution_count": 13,
   "metadata": {},
   "outputs": [
    {
     "data": {
      "text/plain": [
       "'Carter Wilkerson'"
      ]
     },
     "execution_count": 13,
     "metadata": {},
     "output_type": "execute_result"
    }
   ],
   "source": [
    "status.user.name"
   ]
  },
  {
   "cell_type": "code",
   "execution_count": 14,
   "metadata": {},
   "outputs": [
    {
     "data": {
      "text/plain": [
       "datetime.datetime(2017, 4, 6, 2, 38, 40)"
      ]
     },
     "execution_count": 14,
     "metadata": {},
     "output_type": "execute_result"
    }
   ],
   "source": [
    "status.created_at"
   ]
  },
  {
   "cell_type": "code",
   "execution_count": 15,
   "metadata": {},
   "outputs": [],
   "source": [
    "user_id = status.user.id"
   ]
  },
  {
   "cell_type": "markdown",
   "metadata": {},
   "source": [
    "#### User"
   ]
  },
  {
   "cell_type": "code",
   "execution_count": 16,
   "metadata": {},
   "outputs": [],
   "source": [
    "user = api.get_user(user_id)"
   ]
  },
  {
   "cell_type": "code",
   "execution_count": 17,
   "metadata": {},
   "outputs": [
    {
     "data": {
      "text/plain": [
       "User(_api=<tweepy.api.API object at 0x10f707080>, _json={'id': 2568270758, 'id_str': '2568270758', 'name': 'Carter Wilkerson', 'screen_name': 'carterjwm', 'location': 'Reno, NV - San Diego, CA', 'profile_location': None, 'description': 'some call me nugget boy #NuggsforCarter', 'url': 'https://t.co/hEJZpyr0Vs', 'entities': {'url': {'urls': [{'url': 'https://t.co/hEJZpyr0Vs', 'expanded_url': 'http://nuggsforcarter.com', 'display_url': 'nuggsforcarter.com', 'indices': [0, 23]}]}, 'description': {'urls': []}}, 'protected': False, 'followers_count': 95914, 'friends_count': 304, 'listed_count': 3279, 'created_at': 'Sun Jun 15 03:48:03 +0000 2014', 'favourites_count': 28024, 'utc_offset': None, 'time_zone': None, 'geo_enabled': True, 'verified': True, 'statuses_count': 1782, 'lang': None, 'status': {'created_at': 'Fri Aug 16 03:01:49 +0000 2019', 'id': 1162197742849888260, 'id_str': '1162197742849888260', 'text': 'how many retweets to never tweet again?', 'truncated': False, 'entities': {'hashtags': [], 'symbols': [], 'user_mentions': [], 'urls': []}, 'source': '<a href=\"http://twitter.com/download/iphone\" rel=\"nofollow\">Twitter for iPhone</a>', 'in_reply_to_status_id': None, 'in_reply_to_status_id_str': None, 'in_reply_to_user_id': None, 'in_reply_to_user_id_str': None, 'in_reply_to_screen_name': None, 'geo': None, 'coordinates': None, 'place': None, 'contributors': None, 'is_quote_status': False, 'retweet_count': 7, 'favorite_count': 44, 'favorited': False, 'retweeted': False, 'lang': 'en'}, 'contributors_enabled': False, 'is_translator': False, 'is_translation_enabled': False, 'profile_background_color': 'C0DEED', 'profile_background_image_url': 'http://abs.twimg.com/images/themes/theme1/bg.png', 'profile_background_image_url_https': 'https://abs.twimg.com/images/themes/theme1/bg.png', 'profile_background_tile': False, 'profile_image_url': 'http://pbs.twimg.com/profile_images/1049068688387727360/ZVPaPtll_normal.jpg', 'profile_image_url_https': 'https://pbs.twimg.com/profile_images/1049068688387727360/ZVPaPtll_normal.jpg', 'profile_banner_url': 'https://pbs.twimg.com/profile_banners/2568270758/1562332945', 'profile_link_color': '1DA1F2', 'profile_sidebar_border_color': 'C0DEED', 'profile_sidebar_fill_color': 'DDEEF6', 'profile_text_color': '333333', 'profile_use_background_image': True, 'has_extended_profile': True, 'default_profile': True, 'default_profile_image': False, 'following': False, 'follow_request_sent': False, 'notifications': False, 'translator_type': 'none'}, id=2568270758, id_str='2568270758', name='Carter Wilkerson', screen_name='carterjwm', location='Reno, NV - San Diego, CA', profile_location=None, description='some call me nugget boy #NuggsforCarter', url='https://t.co/hEJZpyr0Vs', entities={'url': {'urls': [{'url': 'https://t.co/hEJZpyr0Vs', 'expanded_url': 'http://nuggsforcarter.com', 'display_url': 'nuggsforcarter.com', 'indices': [0, 23]}]}, 'description': {'urls': []}}, protected=False, followers_count=95914, friends_count=304, listed_count=3279, created_at=datetime.datetime(2014, 6, 15, 3, 48, 3), favourites_count=28024, utc_offset=None, time_zone=None, geo_enabled=True, verified=True, statuses_count=1782, lang=None, status=Status(_api=<tweepy.api.API object at 0x10f707080>, _json={'created_at': 'Fri Aug 16 03:01:49 +0000 2019', 'id': 1162197742849888260, 'id_str': '1162197742849888260', 'text': 'how many retweets to never tweet again?', 'truncated': False, 'entities': {'hashtags': [], 'symbols': [], 'user_mentions': [], 'urls': []}, 'source': '<a href=\"http://twitter.com/download/iphone\" rel=\"nofollow\">Twitter for iPhone</a>', 'in_reply_to_status_id': None, 'in_reply_to_status_id_str': None, 'in_reply_to_user_id': None, 'in_reply_to_user_id_str': None, 'in_reply_to_screen_name': None, 'geo': None, 'coordinates': None, 'place': None, 'contributors': None, 'is_quote_status': False, 'retweet_count': 7, 'favorite_count': 44, 'favorited': False, 'retweeted': False, 'lang': 'en'}, created_at=datetime.datetime(2019, 8, 16, 3, 1, 49), id=1162197742849888260, id_str='1162197742849888260', text='how many retweets to never tweet again?', truncated=False, entities={'hashtags': [], 'symbols': [], 'user_mentions': [], 'urls': []}, source='Twitter for iPhone', source_url='http://twitter.com/download/iphone', in_reply_to_status_id=None, in_reply_to_status_id_str=None, in_reply_to_user_id=None, in_reply_to_user_id_str=None, in_reply_to_screen_name=None, geo=None, coordinates=None, place=None, contributors=None, is_quote_status=False, retweet_count=7, favorite_count=44, favorited=False, retweeted=False, lang='en'), contributors_enabled=False, is_translator=False, is_translation_enabled=False, profile_background_color='C0DEED', profile_background_image_url='http://abs.twimg.com/images/themes/theme1/bg.png', profile_background_image_url_https='https://abs.twimg.com/images/themes/theme1/bg.png', profile_background_tile=False, profile_image_url='http://pbs.twimg.com/profile_images/1049068688387727360/ZVPaPtll_normal.jpg', profile_image_url_https='https://pbs.twimg.com/profile_images/1049068688387727360/ZVPaPtll_normal.jpg', profile_banner_url='https://pbs.twimg.com/profile_banners/2568270758/1562332945', profile_link_color='1DA1F2', profile_sidebar_border_color='C0DEED', profile_sidebar_fill_color='DDEEF6', profile_text_color='333333', profile_use_background_image=True, has_extended_profile=True, default_profile=True, default_profile_image=False, following=False, follow_request_sent=False, notifications=False, translator_type='none')"
      ]
     },
     "execution_count": 17,
     "metadata": {},
     "output_type": "execute_result"
    }
   ],
   "source": [
    "user"
   ]
  },
  {
   "cell_type": "code",
   "execution_count": 18,
   "metadata": {},
   "outputs": [
    {
     "data": {
      "text/plain": [
       "'Carter Wilkerson'"
      ]
     },
     "execution_count": 18,
     "metadata": {},
     "output_type": "execute_result"
    }
   ],
   "source": [
    "user.name"
   ]
  },
  {
   "cell_type": "code",
   "execution_count": 19,
   "metadata": {},
   "outputs": [
    {
     "data": {
      "text/plain": [
       "304"
      ]
     },
     "execution_count": 19,
     "metadata": {},
     "output_type": "execute_result"
    }
   ],
   "source": [
    "user.friends_count"
   ]
  },
  {
   "cell_type": "code",
   "execution_count": 20,
   "metadata": {},
   "outputs": [],
   "source": [
    "# api.friends(user_id)"
   ]
  },
  {
   "cell_type": "markdown",
   "metadata": {},
   "source": [
    "#### Trends"
   ]
  },
  {
   "cell_type": "markdown",
   "metadata": {},
   "source": [
    "_Where On Earth IDentifier (WOEID)_ is used to represent a _place_. `.trends_available()` method gives us a list of dictionaries within which WOEID's are available."
   ]
  },
  {
   "cell_type": "code",
   "execution_count": 21,
   "metadata": {},
   "outputs": [
    {
     "data": {
      "text/plain": [
       "{'name': 'Turkey',\n",
       " 'placeType': {'code': 12, 'name': 'Country'},\n",
       " 'url': 'http://where.yahooapis.com/v1/place/23424969',\n",
       " 'parentid': 1,\n",
       " 'country': 'Turkey',\n",
       " 'woeid': 23424969,\n",
       " 'countryCode': 'TR'}"
      ]
     },
     "execution_count": 21,
     "metadata": {},
     "output_type": "execute_result"
    }
   ],
   "source": [
    "# Choose country\n",
    "country = 'Turkey'\n",
    "\n",
    "# Get the available WOEID of the selected country\n",
    "next((item for item in api.trends_available() if item[\"name\"] == country), None)"
   ]
  },
  {
   "cell_type": "code",
   "execution_count": 22,
   "metadata": {},
   "outputs": [
    {
     "data": {
      "text/plain": [
       "{'name': 'Worldwide',\n",
       " 'placeType': {'code': 19, 'name': 'Supername'},\n",
       " 'url': 'http://where.yahooapis.com/v1/place/1',\n",
       " 'parentid': 0,\n",
       " 'country': '',\n",
       " 'woeid': 1,\n",
       " 'countryCode': None}"
      ]
     },
     "execution_count": 22,
     "metadata": {},
     "output_type": "execute_result"
    }
   ],
   "source": [
    "# Get the WOEID for the Worldwide trends\n",
    "api.trends_available()[0]"
   ]
  },
  {
   "cell_type": "code",
   "execution_count": 23,
   "metadata": {},
   "outputs": [
    {
     "data": {
      "text/plain": [
       "'#kayyum'"
      ]
     },
     "execution_count": 23,
     "metadata": {},
     "output_type": "execute_result"
    }
   ],
   "source": [
    "# Worldwide trends (WOEID=1)\n",
    "trends_ww = api.trends_place(1)\n",
    "\n",
    "# name of the first top trend worldwide\n",
    "trends_ww[0]['trends'][0]['name']"
   ]
  },
  {
   "cell_type": "markdown",
   "metadata": {},
   "source": [
    "#### Search (Help)"
   ]
  },
  {
   "cell_type": "code",
   "execution_count": 24,
   "metadata": {},
   "outputs": [],
   "source": [
    "search_results=api.search(q=\"\\\"data science\\\"\", geocode=\"51.217667,6.757514,50km\", result_type=\"recent\", count=3)"
   ]
  },
  {
   "cell_type": "code",
   "execution_count": 25,
   "metadata": {},
   "outputs": [
    {
     "name": "stdout",
     "output_type": "stream",
     "text": [
      "Toby Buechsenschuetz  - #Followers:  542  - #Location:  Düsseldorf, Deutschland \n",
      " A5 Data science shapes one side of the spectrum. But in the front office, new skills include consultative selling,… https://t.co/VyiKiNP5G1 \n",
      "\n",
      "Sunny Porinju  - #Followers:  1608  - #Location:  Düsseldorf, Germany \n",
      " Excited to watch this - the trailer looks great! Watch “Data Science Pioneers Trailer - Coming Winter 2019”  https://t.co/HNcz4gP5lZ \n",
      "\n",
      "@mariuskarma  - #Followers:  6159  - #Location:  Duisburg, Deutschland \n",
      " Checking out \"Invitation to Join Data Science Central\" on Data Science Central: https://t.co/dxxdUpMZ4j \n",
      "\n"
     ]
    }
   ],
   "source": [
    "for i in range(3):\n",
    "    print(search_results[i].user.name, \n",
    "          \" - #Followers: \", search_results[i].user.followers_count,\n",
    "          \" - #Location: \", search_results[i].user.location,\n",
    "          \"\\n\", search_results[i].text,\n",
    "          \"\\n\")"
   ]
  },
  {
   "cell_type": "markdown",
   "metadata": {},
   "source": [
    "More info on [twitter](https://developer.twitter.com/en/docs/tweets/search/api-reference/get-search-tweets.html)."
   ]
  },
  {
   "cell_type": "markdown",
   "metadata": {
    "toc-hr-collapsed": false
   },
   "source": [
    "### Twitter Streams"
   ]
  },
  {
   "cell_type": "markdown",
   "metadata": {},
   "source": [
    "After we establish the connection to the stream, we will begin receiving a stream of data. The Twitter Streaming API allows us to collect real-time Twitter data based on either a sample or **keyword** filtering. \n",
    "\n",
    ">Using the streaming api has three steps.\n",
    " - Create a class inheriting from StreamListener,\n",
    " - Using that class create a Stream object,\n",
    " - Connect to the Twitter API using the Stream. [Source: tweepy](https://tweepy.readthedocs.io/en/v3.5.0/streaming_how_to.html)"
   ]
  },
  {
   "cell_type": "markdown",
   "metadata": {},
   "source": [
    "#### Creating a StreamListener"
   ]
  },
  {
   "cell_type": "markdown",
   "metadata": {},
   "source": [
    "Below code calls a Stream Listener. [Adapted from](https://github.com/SocialDataAnalytics-Winter2018/lab04/blob/master/slistener.py) "
   ]
  },
  {
   "cell_type": "code",
   "execution_count": 26,
   "metadata": {},
   "outputs": [],
   "source": [
    "# %run SListener.py"
   ]
  },
  {
   "cell_type": "markdown",
   "metadata": {},
   "source": [
    "Alternatively, we can load the file into the cell with the `%load` magic command. (`%load?` for more info)"
   ]
  },
  {
   "cell_type": "code",
   "execution_count": 27,
   "metadata": {},
   "outputs": [],
   "source": [
    "# Print SListener.py\n",
    "# %load SListener.py"
   ]
  },
  {
   "cell_type": "markdown",
   "metadata": {},
   "source": [
    "#### Creating a Stream"
   ]
  },
  {
   "cell_type": "code",
   "execution_count": 28,
   "metadata": {},
   "outputs": [],
   "source": [
    "# from tweepy import Stream\n",
    "\n",
    "# # Instantiate the SListener object, specify a time limit to listen (in seconds) \n",
    "# listener = SListener(api, time_limit=300)\n",
    "\n",
    "# # Instantiate the Stream object\n",
    "# stream = Stream(auth, listener) # tweepy.Stream"
   ]
  },
  {
   "cell_type": "markdown",
   "metadata": {},
   "source": [
    "There are various _streams_ available through Tweepy. We'll use `filter` to stream all tweets containing the _keywords_ in this notebook."
   ]
  },
  {
   "cell_type": "markdown",
   "metadata": {},
   "source": [
    "#### Starting a Stream"
   ]
  },
  {
   "cell_type": "code",
   "execution_count": 29,
   "metadata": {},
   "outputs": [],
   "source": [
    "# # Set up keywords to track\n",
    "# keywords = ['datascience', 'python']\n",
    "\n",
    "# # Begin collecting data\n",
    "# stream.filter(track = keywords) # is_async=True to run on a new thread"
   ]
  },
  {
   "cell_type": "markdown",
   "metadata": {},
   "source": [
    "> Streams not terminate unless the connection is closed, blocking the thread. Tweepy offers a convenient async parameter on filter so the stream will run on a new thread. For example\n",
    "\n",
    "`myStream.filter(track=['python'], async=True)`"
   ]
  },
  {
   "cell_type": "markdown",
   "metadata": {
    "toc-hr-collapsed": false
   },
   "source": [
    "## Loading and Accessing Tweets"
   ]
  },
  {
   "cell_type": "markdown",
   "metadata": {},
   "source": [
    "Tweets are collected from the Streaming API in **JSON** format. JSON is written with JavaScript object notation. We need to convert data into a Python data structure to work on it."
   ]
  },
  {
   "cell_type": "markdown",
   "metadata": {},
   "source": [
    "### Saving a Status as JSON"
   ]
  },
  {
   "cell_type": "markdown",
   "metadata": {},
   "source": [
    "We can convert the status object to JSON format using `.dumps()` function. The parameter `indent` is to make it easier reading the result."
   ]
  },
  {
   "cell_type": "code",
   "execution_count": 30,
   "metadata": {},
   "outputs": [
    {
     "name": "stdout",
     "output_type": "stream",
     "text": [
      "{\n",
      "  \"created_at\": \"Thu Apr 06 02:38:40 +0000 2017\",\n",
      "  \"id\": 849813577770778624,\n",
      "  \"id_str\": \"849813577770778624\",\n",
      "  \"text\": \"HELP ME PLEASE. A MAN NEEDS HIS NUGGS https://t.co/4SrfHmEMo3\",\n",
      "  \"truncated\": false,\n",
      "  \"entities\": {\n",
      "    \"hashtags\": [],\n",
      "    \"symbols\": [],\n",
      "    \"user_mentions\": [],\n",
      "    \"urls\": [],\n",
      "    \"media\": [\n",
      "      {\n",
      "        \"id\": 849813572351737856,\n",
      "        \"id_str\": \"849813572351737856\",\n",
      "        \"indices\": [\n",
      "          38,\n",
      "          61\n",
      "        ],\n",
      "        \"media_url\": \"http://pbs.twim\n"
     ]
    }
   ],
   "source": [
    "# Status to json object (encoding)\n",
    "tweet_json = json.dumps(status._json, indent=2)\n",
    "print(tweet_json[:500])"
   ]
  },
  {
   "cell_type": "code",
   "execution_count": 31,
   "metadata": {},
   "outputs": [
    {
     "data": {
      "text/plain": [
       "(str, tweepy.models.Status)"
      ]
     },
     "execution_count": 31,
     "metadata": {},
     "output_type": "execute_result"
    }
   ],
   "source": [
    "type(tweet_json), type(status)"
   ]
  },
  {
   "cell_type": "markdown",
   "metadata": {},
   "source": [
    "### Accessing a Single Tweet"
   ]
  },
  {
   "cell_type": "markdown",
   "metadata": {},
   "source": [
    "JSON can be converted to Python object using the `.loads()` method. See links for the difference between [json.load](https://docs.python.org/3/library/json.html#json.load) and [json.loads](https://docs.python.org/3/library/json.html#json.loads)"
   ]
  },
  {
   "cell_type": "code",
   "execution_count": 32,
   "metadata": {},
   "outputs": [
    {
     "data": {
      "text/plain": [
       "dict"
      ]
     },
     "execution_count": 32,
     "metadata": {},
     "output_type": "execute_result"
    }
   ],
   "source": [
    "# Convert from JSON(str) to Python object->dict (decode JSON)\n",
    "tweet = json.loads(tweet_json)\n",
    "\n",
    "type(tweet)"
   ]
  },
  {
   "cell_type": "code",
   "execution_count": 33,
   "metadata": {},
   "outputs": [
    {
     "name": "stdout",
     "output_type": "stream",
     "text": [
      "created_at\n",
      "id\n",
      "id_str\n",
      "text\n",
      "truncated\n",
      "entities\n",
      "extended_entities\n",
      "source\n",
      "in_reply_to_status_id\n",
      "in_reply_to_status_id_str\n",
      "in_reply_to_user_id\n",
      "in_reply_to_user_id_str\n",
      "in_reply_to_screen_name\n",
      "user\n",
      "geo\n",
      "coordinates\n",
      "place\n",
      "contributors\n",
      "is_quote_status\n",
      "retweet_count\n",
      "favorite_count\n",
      "favorited\n",
      "retweeted\n",
      "possibly_sensitive\n",
      "possibly_sensitive_appealable\n",
      "lang\n"
     ]
    }
   ],
   "source": [
    "# Print the main keys of the tweet\n",
    "for k, v in tweet.items():\n",
    "    print(k)"
   ]
  },
  {
   "cell_type": "code",
   "execution_count": 34,
   "metadata": {},
   "outputs": [
    {
     "name": "stdout",
     "output_type": "stream",
     "text": [
      "HELP ME PLEASE. A MAN NEEDS HIS NUGGS https://t.co/4SrfHmEMo3\n",
      "849813577770778624\n"
     ]
    }
   ],
   "source": [
    "# Print tweet text\n",
    "print(tweet['text'])\n",
    "\n",
    "# Print tweet id\n",
    "print(tweet['id'])"
   ]
  },
  {
   "cell_type": "markdown",
   "metadata": {},
   "source": [
    "#### User Data"
   ]
  },
  {
   "cell_type": "code",
   "execution_count": 35,
   "metadata": {},
   "outputs": [
    {
     "name": "stdout",
     "output_type": "stream",
     "text": [
      "<class 'dict'>\n"
     ]
    },
    {
     "data": {
      "text/plain": [
       "{'id': 2568270758,\n",
       " 'id_str': '2568270758',\n",
       " 'name': 'Carter Wilkerson',\n",
       " 'screen_name': 'carterjwm',\n",
       " 'location': 'Reno, NV - San Diego, CA',\n",
       " 'description': 'some call me nugget boy #NuggsforCarter',\n",
       " 'url': 'https://t.co/hEJZpyr0Vs',\n",
       " 'entities': {'url': {'urls': [{'url': 'https://t.co/hEJZpyr0Vs',\n",
       "     'expanded_url': 'http://nuggsforcarter.com',\n",
       "     'display_url': 'nuggsforcarter.com',\n",
       "     'indices': [0, 23]}]},\n",
       "  'description': {'urls': []}},\n",
       " 'protected': False,\n",
       " 'followers_count': 95914,\n",
       " 'friends_count': 304,\n",
       " 'listed_count': 3279,\n",
       " 'created_at': 'Sun Jun 15 03:48:03 +0000 2014',\n",
       " 'favourites_count': 28024,\n",
       " 'utc_offset': None,\n",
       " 'time_zone': None,\n",
       " 'geo_enabled': True,\n",
       " 'verified': True,\n",
       " 'statuses_count': 1782,\n",
       " 'lang': None,\n",
       " 'contributors_enabled': False,\n",
       " 'is_translator': False,\n",
       " 'is_translation_enabled': False,\n",
       " 'profile_background_color': 'C0DEED',\n",
       " 'profile_background_image_url': 'http://abs.twimg.com/images/themes/theme1/bg.png',\n",
       " 'profile_background_image_url_https': 'https://abs.twimg.com/images/themes/theme1/bg.png',\n",
       " 'profile_background_tile': False,\n",
       " 'profile_image_url': 'http://pbs.twimg.com/profile_images/1049068688387727360/ZVPaPtll_normal.jpg',\n",
       " 'profile_image_url_https': 'https://pbs.twimg.com/profile_images/1049068688387727360/ZVPaPtll_normal.jpg',\n",
       " 'profile_banner_url': 'https://pbs.twimg.com/profile_banners/2568270758/1562332945',\n",
       " 'profile_link_color': '1DA1F2',\n",
       " 'profile_sidebar_border_color': 'C0DEED',\n",
       " 'profile_sidebar_fill_color': 'DDEEF6',\n",
       " 'profile_text_color': '333333',\n",
       " 'profile_use_background_image': True,\n",
       " 'has_extended_profile': True,\n",
       " 'default_profile': True,\n",
       " 'default_profile_image': False,\n",
       " 'following': False,\n",
       " 'follow_request_sent': False,\n",
       " 'notifications': False,\n",
       " 'translator_type': 'none'}"
      ]
     },
     "execution_count": 35,
     "metadata": {},
     "output_type": "execute_result"
    }
   ],
   "source": [
    "print(type(tweet['user']))\n",
    "# Print information on the user\n",
    "tweet['user']"
   ]
  },
  {
   "cell_type": "code",
   "execution_count": 36,
   "metadata": {},
   "outputs": [
    {
     "data": {
      "text/plain": [
       "dict_keys(['id', 'id_str', 'name', 'screen_name', 'location', 'description', 'url', 'entities', 'protected', 'followers_count', 'friends_count', 'listed_count', 'created_at', 'favourites_count', 'utc_offset', 'time_zone', 'geo_enabled', 'verified', 'statuses_count', 'lang', 'contributors_enabled', 'is_translator', 'is_translation_enabled', 'profile_background_color', 'profile_background_image_url', 'profile_background_image_url_https', 'profile_background_tile', 'profile_image_url', 'profile_image_url_https', 'profile_banner_url', 'profile_link_color', 'profile_sidebar_border_color', 'profile_sidebar_fill_color', 'profile_text_color', 'profile_use_background_image', 'has_extended_profile', 'default_profile', 'default_profile_image', 'following', 'follow_request_sent', 'notifications', 'translator_type'])"
      ]
     },
     "execution_count": 36,
     "metadata": {},
     "output_type": "execute_result"
    }
   ],
   "source": [
    "# Print the main keys of the tweet\n",
    "tweet['user'].keys()"
   ]
  },
  {
   "cell_type": "code",
   "execution_count": 37,
   "metadata": {},
   "outputs": [
    {
     "name": "stdout",
     "output_type": "stream",
     "text": [
      "carterjwm\n",
      "95914\n",
      "Reno, NV - San Diego, CA\n",
      "some call me nugget boy #NuggsforCarter\n",
      "3482151\n"
     ]
    }
   ],
   "source": [
    "# Print user name\n",
    "print(tweet['user']['screen_name'])\n",
    "\n",
    "# Print user follower count\n",
    "print(tweet['user']['followers_count'])\n",
    "\n",
    "# Print user location\n",
    "print(tweet['user']['location'])\n",
    "\n",
    "# Print user description\n",
    "print(tweet['user']['description'])\n",
    "\n",
    "# Print the number of retweets\n",
    "print(tweet['retweet_count'])"
   ]
  },
  {
   "cell_type": "code",
   "execution_count": 38,
   "metadata": {},
   "outputs": [
    {
     "name": "stdout",
     "output_type": "stream",
     "text": [
      "False\n"
     ]
    }
   ],
   "source": [
    "# Check whether retweet or not\n",
    "print(tweet['retweeted'])"
   ]
  },
  {
   "cell_type": "markdown",
   "metadata": {},
   "source": [
    "#### Retweet Data\n",
    "\n",
    "The structure of a retweet is similar to that of a tweet. Additionally, it holds information in `retweeted_status` field."
   ]
  },
  {
   "cell_type": "code",
   "execution_count": 39,
   "metadata": {},
   "outputs": [
    {
     "name": "stdout",
     "output_type": "stream",
     "text": [
      "This is not a RT\n"
     ]
    }
   ],
   "source": [
    "try:\n",
    "    tweet['retweeted_status']\n",
    "except:\n",
    "    print(\"This is not a RT\")"
   ]
  },
  {
   "cell_type": "code",
   "execution_count": 40,
   "metadata": {},
   "outputs": [],
   "source": [
    "with open('tweets_1min.json', 'r') as tweet_json:\n",
    "    # Read in the first status in the JSON file\n",
    "    rt = tweet_json.read().split(\"\\n\")[0]\n",
    "\n",
    "# Decode JSON\n",
    "retweet = json.loads(rt)"
   ]
  },
  {
   "cell_type": "code",
   "execution_count": 41,
   "metadata": {},
   "outputs": [
    {
     "data": {
      "text/plain": [
       "dict_keys(['created_at', 'id', 'id_str', 'text', 'source', 'truncated', 'in_reply_to_status_id', 'in_reply_to_status_id_str', 'in_reply_to_user_id', 'in_reply_to_user_id_str', 'in_reply_to_screen_name', 'user', 'geo', 'coordinates', 'place', 'contributors', 'retweeted_status', 'is_quote_status', 'quote_count', 'reply_count', 'retweet_count', 'favorite_count', 'entities', 'favorited', 'retweeted', 'filter_level', 'lang', 'timestamp_ms'])"
      ]
     },
     "execution_count": 41,
     "metadata": {},
     "output_type": "execute_result"
    }
   ],
   "source": [
    "retweet.keys()"
   ]
  },
  {
   "cell_type": "code",
   "execution_count": 42,
   "metadata": {},
   "outputs": [
    {
     "name": "stdout",
     "output_type": "stream",
     "text": [
      "RT @pyblogsal: The oldest piece of CPython, the parser generator (pgen) has been retired and replaced with a new version! 🐍🖥️🥳 \n",
      "\n",
      "The parser…\n"
     ]
    }
   ],
   "source": [
    "# Print the text of the tweet\n",
    "print(retweet['text'])"
   ]
  },
  {
   "cell_type": "code",
   "execution_count": 43,
   "metadata": {},
   "outputs": [],
   "source": [
    "# Print the text of the tweet\n",
    "#print(retweet['text'])\n",
    "\n",
    "# Print the text of tweet which has been retweeted\n",
    "#print(retweet['retweeted_status']['text'])\n",
    "\n",
    "# Print the user handle of the tweet\n",
    "#print(retweet['user']['screen_name'])\n",
    "\n",
    "# Print the user handle of the tweet which has been retweeted\n",
    "#print(retweet['retweeted_status']['user']['screen_name'])"
   ]
  },
  {
   "cell_type": "code",
   "execution_count": 44,
   "metadata": {},
   "outputs": [
    {
     "data": {
      "text/plain": [
       "dict_keys(['created_at', 'id', 'id_str', 'text', 'source', 'truncated', 'in_reply_to_status_id', 'in_reply_to_status_id_str', 'in_reply_to_user_id', 'in_reply_to_user_id_str', 'in_reply_to_screen_name', 'user', 'geo', 'coordinates', 'place', 'contributors', 'is_quote_status', 'extended_tweet', 'quote_count', 'reply_count', 'retweet_count', 'favorite_count', 'entities', 'favorited', 'retweeted', 'filter_level', 'lang'])"
      ]
     },
     "execution_count": 44,
     "metadata": {},
     "output_type": "execute_result"
    }
   ],
   "source": [
    "retweet['retweeted_status'].keys()"
   ]
  },
  {
   "cell_type": "code",
   "execution_count": 45,
   "metadata": {},
   "outputs": [
    {
     "data": {
      "text/plain": [
       "'The oldest piece of CPython, the parser generator (pgen) has been retired and replaced with a new version! 🐍🖥️🥳 \\n\\nT… https://t.co/5NcPvO2hzn'"
      ]
     },
     "execution_count": 45,
     "metadata": {},
     "output_type": "execute_result"
    }
   ],
   "source": [
    "# Print the text (140 characters) of the  original tweet (retweet)\n",
    "retweet['retweeted_status']['text']"
   ]
  },
  {
   "cell_type": "code",
   "execution_count": 46,
   "metadata": {},
   "outputs": [
    {
     "data": {
      "text/plain": [
       "'The oldest piece of CPython, the parser generator (pgen) has been retired and replaced with a new version! 🐍🖥️🥳 \\n\\nThe parser generator was the first piece written for Python 29 years ago. It generates the parser rules (in the form of DFAs) from the grammar specification file.'"
      ]
     },
     "execution_count": 46,
     "metadata": {},
     "output_type": "execute_result"
    }
   ],
   "source": [
    "# Print the full text (140+ characters) of the retweet\n",
    "retweet['retweeted_status']['extended_tweet']['full_text']"
   ]
  },
  {
   "cell_type": "markdown",
   "metadata": {},
   "source": [
    "### Loading Multiple Tweets from a JSON File"
   ]
  },
  {
   "cell_type": "code",
   "execution_count": 47,
   "metadata": {},
   "outputs": [
    {
     "data": {
      "text/plain": [
       "26"
      ]
     },
     "execution_count": 47,
     "metadata": {},
     "output_type": "execute_result"
    }
   ],
   "source": [
    "with open('tweets_1min.json', 'r') as tweet_json:\n",
    "    # Read in the status in the JSON file.\n",
    "    twt = tweet_json.read().split(\"\\n\")\n",
    "\n",
    "# Print the number of tweets in the file\n",
    "len(twt)"
   ]
  },
  {
   "cell_type": "code",
   "execution_count": 48,
   "metadata": {},
   "outputs": [
    {
     "data": {
      "text/plain": [
       "'RT @pyblogsal: The oldest piece of CPython, the parser generator (pgen) has been retired and replaced with a new version! 🐍🖥️🥳 \\n\\nThe parser…'"
      ]
     },
     "execution_count": 48,
     "metadata": {},
     "output_type": "execute_result"
    }
   ],
   "source": [
    "# Decode JSON\n",
    "tweet_1 = json.loads(twt[0])\n",
    "\n",
    "# Print out the first tweet in the file\n",
    "tweet_1['text']"
   ]
  },
  {
   "cell_type": "markdown",
   "metadata": {
    "toc-hr-collapsed": false
   },
   "source": [
    "## Processing Text"
   ]
  },
  {
   "cell_type": "markdown",
   "metadata": {},
   "source": [
    "### Flattening Tweets and Creating a DataFrame"
   ]
  },
  {
   "cell_type": "markdown",
   "metadata": {},
   "source": [
    "It is usually a good practice to **flatten** the tweets (JSON file) into a single level. By doing this, we can convert necessary information to a DataFrame properly and analyze tweets in an easier manner. The function below is used to flatten tweets and prepare the data before creating a pandas DataFrame."
   ]
  },
  {
   "cell_type": "code",
   "execution_count": 49,
   "metadata": {},
   "outputs": [],
   "source": [
    "%run flatten.py\n",
    "# %load flatten.py"
   ]
  },
  {
   "cell_type": "code",
   "execution_count": 50,
   "metadata": {},
   "outputs": [],
   "source": [
    "# Create flattened tweet list with the above function\n",
    "tweet_list = flatten('tweets_1min.json')"
   ]
  },
  {
   "cell_type": "markdown",
   "metadata": {},
   "source": [
    "We may want to load hundreds of tweets for analysis. Therefore, we need to import the file as a DataFrame."
   ]
  },
  {
   "cell_type": "code",
   "execution_count": 51,
   "metadata": {},
   "outputs": [],
   "source": [
    "import pandas as pd"
   ]
  },
  {
   "cell_type": "code",
   "execution_count": 52,
   "metadata": {},
   "outputs": [],
   "source": [
    "# Create a pandas DataFrame\n",
    "tweets_df = pd.DataFrame(tweet_list)"
   ]
  },
  {
   "cell_type": "code",
   "execution_count": 53,
   "metadata": {},
   "outputs": [
    {
     "data": {
      "text/html": [
       "<div>\n",
       "<style scoped>\n",
       "    .dataframe tbody tr th:only-of-type {\n",
       "        vertical-align: middle;\n",
       "    }\n",
       "\n",
       "    .dataframe tbody tr th {\n",
       "        vertical-align: top;\n",
       "    }\n",
       "\n",
       "    .dataframe thead th {\n",
       "        text-align: right;\n",
       "    }\n",
       "</style>\n",
       "<table border=\"1\" class=\"dataframe\">\n",
       "  <thead>\n",
       "    <tr style=\"text-align: right;\">\n",
       "      <th></th>\n",
       "      <th>created_at</th>\n",
       "      <th>id</th>\n",
       "      <th>id_str</th>\n",
       "      <th>text</th>\n",
       "      <th>source</th>\n",
       "      <th>truncated</th>\n",
       "      <th>in_reply_to_status_id</th>\n",
       "      <th>in_reply_to_status_id_str</th>\n",
       "      <th>in_reply_to_user_id</th>\n",
       "      <th>in_reply_to_user_id_str</th>\n",
       "      <th>in_reply_to_screen_name</th>\n",
       "      <th>user</th>\n",
       "      <th>geo</th>\n",
       "      <th>coordinates</th>\n",
       "      <th>place</th>\n",
       "      <th>contributors</th>\n",
       "      <th>retweeted_status</th>\n",
       "      <th>is_quote_status</th>\n",
       "      <th>quote_count</th>\n",
       "      <th>reply_count</th>\n",
       "      <th>retweet_count</th>\n",
       "      <th>favorite_count</th>\n",
       "      <th>entities</th>\n",
       "      <th>favorited</th>\n",
       "      <th>retweeted</th>\n",
       "      <th>filter_level</th>\n",
       "      <th>lang</th>\n",
       "      <th>timestamp_ms</th>\n",
       "      <th>user-screen_name</th>\n",
       "      <th>retweeted_status-user-screen_name</th>\n",
       "      <th>retweeted_status-text</th>\n",
       "      <th>retweeted_status-extended_tweet-full_text</th>\n",
       "      <th>display_text_range</th>\n",
       "      <th>extended_tweet</th>\n",
       "      <th>possibly_sensitive</th>\n",
       "      <th>extended_tweet-full_text</th>\n",
       "      <th>extended_entities</th>\n",
       "    </tr>\n",
       "  </thead>\n",
       "  <tbody>\n",
       "    <tr>\n",
       "      <th>0</th>\n",
       "      <td>Sat Mar 02 19:19:29 +0000 2019</td>\n",
       "      <td>1101925010082394112</td>\n",
       "      <td>1101925010082394112</td>\n",
       "      <td>RT @pyblogsal: The oldest piece of CPython, th...</td>\n",
       "      <td>&lt;a href=\"http://tapbots.com/tweetbot\" rel=\"nof...</td>\n",
       "      <td>False</td>\n",
       "      <td>NaN</td>\n",
       "      <td>None</td>\n",
       "      <td>NaN</td>\n",
       "      <td>None</td>\n",
       "      <td>None</td>\n",
       "      <td>{'id': 18064071, 'id_str': '18064071', 'name':...</td>\n",
       "      <td>None</td>\n",
       "      <td>None</td>\n",
       "      <td>None</td>\n",
       "      <td>None</td>\n",
       "      <td>{'created_at': 'Sat Mar 02 15:58:50 +0000 2019...</td>\n",
       "      <td>False</td>\n",
       "      <td>0</td>\n",
       "      <td>0</td>\n",
       "      <td>0</td>\n",
       "      <td>0</td>\n",
       "      <td>{'hashtags': [], 'urls': [], 'user_mentions': ...</td>\n",
       "      <td>False</td>\n",
       "      <td>False</td>\n",
       "      <td>low</td>\n",
       "      <td>en</td>\n",
       "      <td>1551554369837</td>\n",
       "      <td>erickgnavar</td>\n",
       "      <td>pyblogsal</td>\n",
       "      <td>The oldest piece of CPython, the parser genera...</td>\n",
       "      <td>The oldest piece of CPython, the parser genera...</td>\n",
       "      <td>NaN</td>\n",
       "      <td>NaN</td>\n",
       "      <td>NaN</td>\n",
       "      <td>NaN</td>\n",
       "      <td>NaN</td>\n",
       "    </tr>\n",
       "    <tr>\n",
       "      <th>1</th>\n",
       "      <td>Sat Mar 02 19:19:29 +0000 2019</td>\n",
       "      <td>1101925010346835968</td>\n",
       "      <td>1101925010346835968</td>\n",
       "      <td>Hier mal das, was das Projekt grundlegend zeig...</td>\n",
       "      <td>&lt;a href=\"http://twitter.com/download/android\" ...</td>\n",
       "      <td>True</td>\n",
       "      <td>NaN</td>\n",
       "      <td>None</td>\n",
       "      <td>NaN</td>\n",
       "      <td>None</td>\n",
       "      <td>None</td>\n",
       "      <td>{'id': 3292060903, 'id_str': '3292060903', 'na...</td>\n",
       "      <td>None</td>\n",
       "      <td>None</td>\n",
       "      <td>None</td>\n",
       "      <td>None</td>\n",
       "      <td>NaN</td>\n",
       "      <td>False</td>\n",
       "      <td>0</td>\n",
       "      <td>0</td>\n",
       "      <td>0</td>\n",
       "      <td>0</td>\n",
       "      <td>{'hashtags': [], 'urls': [{'url': 'https://t.c...</td>\n",
       "      <td>False</td>\n",
       "      <td>False</td>\n",
       "      <td>low</td>\n",
       "      <td>de</td>\n",
       "      <td>1551554369900</td>\n",
       "      <td>l9cgv</td>\n",
       "      <td>NaN</td>\n",
       "      <td>NaN</td>\n",
       "      <td>NaN</td>\n",
       "      <td>[0, 140]</td>\n",
       "      <td>{'full_text': 'Hier mal das, was das Projekt g...</td>\n",
       "      <td>False</td>\n",
       "      <td>Hier mal das, was das Projekt grundlegend zeig...</td>\n",
       "      <td>NaN</td>\n",
       "    </tr>\n",
       "    <tr>\n",
       "      <th>2</th>\n",
       "      <td>Sat Mar 02 19:19:33 +0000 2019</td>\n",
       "      <td>1101925027258093568</td>\n",
       "      <td>1101925027258093568</td>\n",
       "      <td>Python resulta ser el mejor lenguaje de 2018 h...</td>\n",
       "      <td>&lt;a href=\"https://dlvrit.com/\" rel=\"nofollow\"&gt;d...</td>\n",
       "      <td>False</td>\n",
       "      <td>NaN</td>\n",
       "      <td>None</td>\n",
       "      <td>NaN</td>\n",
       "      <td>None</td>\n",
       "      <td>None</td>\n",
       "      <td>{'id': 903393260860825600, 'id_str': '90339326...</td>\n",
       "      <td>None</td>\n",
       "      <td>None</td>\n",
       "      <td>None</td>\n",
       "      <td>None</td>\n",
       "      <td>NaN</td>\n",
       "      <td>False</td>\n",
       "      <td>0</td>\n",
       "      <td>0</td>\n",
       "      <td>0</td>\n",
       "      <td>0</td>\n",
       "      <td>{'hashtags': [], 'urls': [{'url': 'https://t.c...</td>\n",
       "      <td>False</td>\n",
       "      <td>False</td>\n",
       "      <td>low</td>\n",
       "      <td>es</td>\n",
       "      <td>1551554373932</td>\n",
       "      <td>SharkBrand10</td>\n",
       "      <td>NaN</td>\n",
       "      <td>NaN</td>\n",
       "      <td>NaN</td>\n",
       "      <td>[0, 68]</td>\n",
       "      <td>NaN</td>\n",
       "      <td>False</td>\n",
       "      <td>NaN</td>\n",
       "      <td>{'media': [{'id': 1101925025471295488, 'id_str...</td>\n",
       "    </tr>\n",
       "  </tbody>\n",
       "</table>\n",
       "</div>"
      ],
      "text/plain": [
       "                       created_at                   id               id_str  \\\n",
       "0  Sat Mar 02 19:19:29 +0000 2019  1101925010082394112  1101925010082394112   \n",
       "1  Sat Mar 02 19:19:29 +0000 2019  1101925010346835968  1101925010346835968   \n",
       "2  Sat Mar 02 19:19:33 +0000 2019  1101925027258093568  1101925027258093568   \n",
       "\n",
       "                                                text  \\\n",
       "0  RT @pyblogsal: The oldest piece of CPython, th...   \n",
       "1  Hier mal das, was das Projekt grundlegend zeig...   \n",
       "2  Python resulta ser el mejor lenguaje de 2018 h...   \n",
       "\n",
       "                                              source  truncated  \\\n",
       "0  <a href=\"http://tapbots.com/tweetbot\" rel=\"nof...      False   \n",
       "1  <a href=\"http://twitter.com/download/android\" ...       True   \n",
       "2  <a href=\"https://dlvrit.com/\" rel=\"nofollow\">d...      False   \n",
       "\n",
       "   in_reply_to_status_id in_reply_to_status_id_str  in_reply_to_user_id  \\\n",
       "0                    NaN                      None                  NaN   \n",
       "1                    NaN                      None                  NaN   \n",
       "2                    NaN                      None                  NaN   \n",
       "\n",
       "  in_reply_to_user_id_str in_reply_to_screen_name  \\\n",
       "0                    None                    None   \n",
       "1                    None                    None   \n",
       "2                    None                    None   \n",
       "\n",
       "                                                user   geo coordinates place  \\\n",
       "0  {'id': 18064071, 'id_str': '18064071', 'name':...  None        None  None   \n",
       "1  {'id': 3292060903, 'id_str': '3292060903', 'na...  None        None  None   \n",
       "2  {'id': 903393260860825600, 'id_str': '90339326...  None        None  None   \n",
       "\n",
       "  contributors                                   retweeted_status  \\\n",
       "0         None  {'created_at': 'Sat Mar 02 15:58:50 +0000 2019...   \n",
       "1         None                                                NaN   \n",
       "2         None                                                NaN   \n",
       "\n",
       "   is_quote_status  quote_count  reply_count  retweet_count  favorite_count  \\\n",
       "0            False            0            0              0               0   \n",
       "1            False            0            0              0               0   \n",
       "2            False            0            0              0               0   \n",
       "\n",
       "                                            entities  favorited  retweeted  \\\n",
       "0  {'hashtags': [], 'urls': [], 'user_mentions': ...      False      False   \n",
       "1  {'hashtags': [], 'urls': [{'url': 'https://t.c...      False      False   \n",
       "2  {'hashtags': [], 'urls': [{'url': 'https://t.c...      False      False   \n",
       "\n",
       "  filter_level lang   timestamp_ms user-screen_name  \\\n",
       "0          low   en  1551554369837      erickgnavar   \n",
       "1          low   de  1551554369900            l9cgv   \n",
       "2          low   es  1551554373932     SharkBrand10   \n",
       "\n",
       "  retweeted_status-user-screen_name  \\\n",
       "0                         pyblogsal   \n",
       "1                               NaN   \n",
       "2                               NaN   \n",
       "\n",
       "                               retweeted_status-text  \\\n",
       "0  The oldest piece of CPython, the parser genera...   \n",
       "1                                                NaN   \n",
       "2                                                NaN   \n",
       "\n",
       "           retweeted_status-extended_tweet-full_text display_text_range  \\\n",
       "0  The oldest piece of CPython, the parser genera...                NaN   \n",
       "1                                                NaN           [0, 140]   \n",
       "2                                                NaN            [0, 68]   \n",
       "\n",
       "                                      extended_tweet possibly_sensitive  \\\n",
       "0                                                NaN                NaN   \n",
       "1  {'full_text': 'Hier mal das, was das Projekt g...              False   \n",
       "2                                                NaN              False   \n",
       "\n",
       "                            extended_tweet-full_text  \\\n",
       "0                                                NaN   \n",
       "1  Hier mal das, was das Projekt grundlegend zeig...   \n",
       "2                                                NaN   \n",
       "\n",
       "                                   extended_entities  \n",
       "0                                                NaN  \n",
       "1                                                NaN  \n",
       "2  {'media': [{'id': 1101925025471295488, 'id_str...  "
      ]
     },
     "execution_count": 53,
     "metadata": {},
     "output_type": "execute_result"
    }
   ],
   "source": [
    "# Display 100 columns max\n",
    "pd.set_option('display.max_columns', 40)\n",
    "\n",
    "# Print out hte first 3 tweets\n",
    "tweets_df.head(3)"
   ]
  },
  {
   "cell_type": "code",
   "execution_count": 54,
   "metadata": {},
   "outputs": [
    {
     "data": {
      "text/plain": [
       "array(['RT @pyblogsal: The oldest piece of CPython, the parser generator (pgen) has been retired and replaced with a new version! 🐍🖥️🥳 \\n\\nThe parser…',\n",
       "       'Hier mal das, was das Projekt grundlegend zeigen soll... Eine Art Visualisierung in Form von LED-Streifen über ein… https://t.co/vln2xW8H5R',\n",
       "       'Python resulta ser el mejor lenguaje de 2018 https://t.co/uXhtxheYcW https://t.co/L0AqT6KniN'],\n",
       "      dtype=object)"
      ]
     },
     "execution_count": 54,
     "metadata": {},
     "output_type": "execute_result"
    }
   ],
   "source": [
    "# Print out the text of the first 3 tweets\n",
    "tweets_df['text'].values[0:3]"
   ]
  },
  {
   "cell_type": "code",
   "execution_count": 55,
   "metadata": {},
   "outputs": [
    {
     "data": {
      "text/plain": [
       "15"
      ]
     },
     "execution_count": 55,
     "metadata": {},
     "output_type": "execute_result"
    }
   ],
   "source": [
    "# Print out the number of retweets\n",
    "tweets_df.retweeted_status.notnull().sum()"
   ]
  },
  {
   "cell_type": "markdown",
   "metadata": {},
   "source": [
    "### Counting Words\n",
    "\n",
    "Counting words is the basic step for text analysis. There are 26 tweets in our Data Frame."
   ]
  },
  {
   "cell_type": "code",
   "execution_count": 56,
   "metadata": {},
   "outputs": [
    {
     "data": {
      "text/plain": [
       "26"
      ]
     },
     "execution_count": 56,
     "metadata": {},
     "output_type": "execute_result"
    }
   ],
   "source": [
    "# The number of tweets in the DataFrame\n",
    "tweets_df.shape[0]"
   ]
  },
  {
   "cell_type": "markdown",
   "metadata": {},
   "source": [
    "We can use `str.contains()` along with `sum()` to count the frequency of a keyword. `case` parameter is for selecting case sensitivity."
   ]
  },
  {
   "cell_type": "code",
   "execution_count": 57,
   "metadata": {},
   "outputs": [
    {
     "name": "stdout",
     "output_type": "stream",
     "text": [
      "12\n",
      "2\n"
     ]
    }
   ],
   "source": [
    "# Number of tweets that contain the keyword \"python\"\n",
    "print(tweets_df['text'].str.contains('python', case = False).sum())\n",
    "\n",
    "# Find mentions of \"#python\" in 'text'\n",
    "print(tweets_df['text'].str.contains('#python', case=False).sum())"
   ]
  },
  {
   "cell_type": "code",
   "execution_count": 58,
   "metadata": {},
   "outputs": [
    {
     "data": {
      "text/plain": [
       "5"
      ]
     },
     "execution_count": 58,
     "metadata": {},
     "output_type": "execute_result"
    }
   ],
   "source": [
    "# Number of tweets that contain the keyword \"datascience\"\n",
    "tweets_df['text'].str.contains('datascience', case = False).sum()"
   ]
  },
  {
   "cell_type": "code",
   "execution_count": 59,
   "metadata": {},
   "outputs": [
    {
     "name": "stdout",
     "output_type": "stream",
     "text": [
      "Proportion of 'python' tweets: 0.46153846153846156\n"
     ]
    }
   ],
   "source": [
    "# Print proportion of tweets mentioning python\n",
    "print(\"Proportion of 'python' tweets:\", tweets_df['text'].str.contains('python', case = False).sum() / tweets_df.shape[0])"
   ]
  },
  {
   "cell_type": "markdown",
   "metadata": {},
   "source": [
    "We have previously searched for keywords 'python' and 'datascience'. Sum of the two occurences are $12 + 5 = 17$. However, we have a total of 26 tweets. The reason we have less number of occurences is that we have only looked in the main `text` field. The keywords may well be in the `extended_tweet`, the `quoted_status`, and the `retweeted_status` fields. Thus we need to search all text fields. \n",
    "\n",
    "|#|Text Fields|\n",
    "|-|:----------|\n",
    "|1|text|\n",
    "|2|extended_tweet > full_text|\n",
    "|3|quoted_status > text|\n",
    "|4|quoted_status > extended_tweet > full_text|\n",
    "|5|retweeted_status > text|\n",
    "|6|retweeted_status > extended_tweet > full_text|"
   ]
  },
  {
   "cell_type": "code",
   "execution_count": 60,
   "metadata": {},
   "outputs": [],
   "source": [
    "def check_keywords(keyword, data):\n",
    "    \"\"\"Checks if a keyword is in a Twitter text. \n",
    "    Checks text and extended tweet (140+ character tweets) for tweets,\n",
    "    retweets and quoted tweets. Returns a logical pandas Series.\n",
    "    \"\"\"\n",
    "    check_col = data['text'].str.contains(keyword, case = False)\n",
    "    check_col |= data['extended_tweet-full_text'].str.contains(keyword, case = False)\n",
    "#    check_col |= data['quoted_status-text'].str.contains(keyword, case = False)\n",
    "#    check_col |= data['quoted_status-extended_tweet-full_text'].str.contains(keyword, case = False)\n",
    "    check_col |= data['retweeted_status-text'].str.contains(keyword, case=False)\n",
    "    check_col |= data['retweeted_status-extended_tweet-full_text'].str.contains(keyword, case=False)\n",
    "    \n",
    "    return check_col"
   ]
  },
  {
   "cell_type": "code",
   "execution_count": 61,
   "metadata": {},
   "outputs": [
    {
     "name": "stdout",
     "output_type": "stream",
     "text": [
      "17\n",
      "10\n",
      "Proportion of 'python' tweets: 0.6538461538461539\n",
      "Proportion of 'datascience' tweets: 0.38461538461538464\n"
     ]
    }
   ],
   "source": [
    "# Find mentions of python in all text fields\n",
    "python = check_keywords('python', tweets_df)\n",
    "print(python.sum())\n",
    "\n",
    "# Find mentions of both python and datascience in all text fields\n",
    "datascience = check_keywords('datascience', tweets_df)\n",
    "print(datascience.sum())\n",
    "\n",
    "# Print proportion of tweets mentioning python\n",
    "print(\"Proportion of 'python' tweets:\", python.sum() / tweets_df.shape[0])\n",
    "\n",
    "# Print proportion of tweets mentioning datascience\n",
    "print(\"Proportion of 'datascience' tweets:\", datascience.sum() / tweets_df.shape[0])"
   ]
  },
  {
   "cell_type": "markdown",
   "metadata": {},
   "source": [
    "### Time Series\n",
    "\n",
    "We can explore the various attributes of tweet data over time. We need to change the data type of a specific column (`created_at`) from `object` to `datetime`. However, We'll first read in a file with more tweets."
   ]
  },
  {
   "cell_type": "code",
   "execution_count": 62,
   "metadata": {},
   "outputs": [
    {
     "data": {
      "text/plain": [
       "176"
      ]
     },
     "execution_count": 62,
     "metadata": {},
     "output_type": "execute_result"
    }
   ],
   "source": [
    "# Create flattened tweet list\n",
    "tweet_10_list = flatten('tweets_10min.json')\n",
    "\n",
    "# Create a pandas DataFrame\n",
    "tweets10_df = pd.DataFrame(tweet_10_list)\n",
    "\n",
    "# The number of tweets in the DataFrame\n",
    "tweets10_df.shape[0]"
   ]
  },
  {
   "cell_type": "code",
   "execution_count": 63,
   "metadata": {},
   "outputs": [
    {
     "data": {
      "text/plain": [
       "0    Wed Jun 12 13:04:47 +0000 2019\n",
       "1    Wed Jun 12 13:04:49 +0000 2019\n",
       "2    Wed Jun 12 13:04:58 +0000 2019\n",
       "3    Wed Jun 12 13:05:01 +0000 2019\n",
       "4    Wed Jun 12 13:05:01 +0000 2019\n",
       "Name: created_at, dtype: object"
      ]
     },
     "execution_count": 63,
     "metadata": {},
     "output_type": "execute_result"
    }
   ],
   "source": [
    "# Print the head of the 'created_at' column\n",
    "tweets10_df.created_at.head()"
   ]
  },
  {
   "cell_type": "code",
   "execution_count": 64,
   "metadata": {},
   "outputs": [
    {
     "name": "stdout",
     "output_type": "stream",
     "text": [
      "0   2019-06-12 13:04:47+00:00\n",
      "1   2019-06-12 13:04:49+00:00\n",
      "2   2019-06-12 13:04:58+00:00\n",
      "3   2019-06-12 13:05:01+00:00\n",
      "4   2019-06-12 13:05:01+00:00\n",
      "Name: created_at, dtype: datetime64[ns, UTC]\n"
     ]
    }
   ],
   "source": [
    "# Convert the created_at column to a `datetime` object\n",
    "tweets10_df['created_at'] = pd.to_datetime(tweets10_df['created_at'])\n",
    "\n",
    "# Print created_at to see new format\n",
    "print(tweets10_df['created_at'].head())\n",
    "\n",
    "# Set the index of ds_tweets to created_at\n",
    "tweets10_df = tweets10_df.set_index(\"created_at\")"
   ]
  },
  {
   "cell_type": "code",
   "execution_count": 65,
   "metadata": {},
   "outputs": [],
   "source": [
    "# Create a python column\n",
    "tweets10_df['python'] = check_keywords('python', tweets10_df)\n",
    "\n",
    "# Create an rstats column\n",
    "tweets10_df['datascience'] = check_keywords('datascience', tweets10_df)"
   ]
  },
  {
   "cell_type": "markdown",
   "metadata": {},
   "source": [
    "`resample()` can be used as a method for frequency conversion (e.g., converting secondly data into 10-minutely data) and resampling of time series. It is similar to a time-based groupby, followed by a reduction method on each of its groups."
   ]
  },
  {
   "cell_type": "code",
   "execution_count": 66,
   "metadata": {},
   "outputs": [
    {
     "data": {
      "text/plain": [
       "created_at\n",
       "2019-06-12 13:04:00+00:00    0.333333\n",
       "2019-06-12 13:05:00+00:00    0.764706\n",
       "2019-06-12 13:06:00+00:00    0.588235\n",
       "2019-06-12 13:07:00+00:00    0.523810\n",
       "2019-06-12 13:08:00+00:00    0.666667\n",
       "2019-06-12 13:09:00+00:00    0.571429\n",
       "2019-06-12 13:10:00+00:00    0.500000\n",
       "2019-06-12 13:11:00+00:00    0.444444\n",
       "2019-06-12 13:12:00+00:00    0.388889\n",
       "2019-06-12 13:13:00+00:00    0.500000\n",
       "2019-06-12 13:14:00+00:00    0.400000\n",
       "Freq: T, Name: python, dtype: float64"
      ]
     },
     "execution_count": 66,
     "metadata": {},
     "output_type": "execute_result"
    }
   ],
   "source": [
    "# Downsample the series into 1 minute (1T) bins and ...\n",
    "# Take the mean of the values of the timestamps falling into a bin.\n",
    "tweets10_df['python'].resample('1T').mean()"
   ]
  },
  {
   "cell_type": "code",
   "execution_count": 67,
   "metadata": {},
   "outputs": [
    {
     "data": {
      "text/plain": [
       "<Figure size 640x480 with 1 Axes>"
      ]
     },
     "metadata": {},
     "output_type": "display_data"
    }
   ],
   "source": [
    "import matplotlib.pyplot as plt\n",
    "\n",
    "# Average of python column by minutes\n",
    "mean_python = tweets10_df['python'].resample('1T').mean()\n",
    "\n",
    "# Average of datascience column by minutes\n",
    "mean_datascience = tweets10_df['datascience'].resample('1T').mean()\n",
    "\n",
    "# Extract minutes (X coordinates)\n",
    "p_minutes = mean_python.index.minute.values\n",
    "d_minutes = mean_datascience.index.minute.values\n",
    "\n",
    "# Plot mean python by day(orange)/mean datascience by day(blue)\n",
    "plt.plot(p_minutes, mean_python, color = 'orange')\n",
    "plt.plot(d_minutes, mean_datascience, color = 'blue')\n",
    "\n",
    "# Add labels and show\n",
    "plt.xlabel('Minutes'); plt.ylabel('Frequency')\n",
    "plt.title('Mentions over time')\n",
    "plt.legend(('python', 'datascience'))\n",
    "plt.show()"
   ]
  },
  {
   "cell_type": "markdown",
   "metadata": {},
   "source": [
    "### Sentiment Analysis\n",
    "\n",
    "We can assess positivity and negativity of text using _Sentiment Analysis_. This would be particularly useful to analyse reactions to an event, a person, or a policy. We'll use [VADER](https://github.com/cjhutto/vaderSentiment) (Valence Aware Dictionary and sEntiment Reasoner) for this analysis. `vader` is a lexicon and rule-based sentiment analysis tool that is specifically attuned to sentiments expressed in **social media**. "
   ]
  },
  {
   "cell_type": "code",
   "execution_count": 68,
   "metadata": {},
   "outputs": [],
   "source": [
    "# Load SentimentIntensityAnalyzer\n",
    "from nltk.sentiment.vader import SentimentIntensityAnalyzer\n",
    "#from vaderSentiment.vaderSentiment import SentimentIntensityAnalyzer\n",
    "\n",
    "# Instantiate new SentimentIntensityAnalyzer\n",
    "analyzer = SentimentIntensityAnalyzer()"
   ]
  },
  {
   "cell_type": "code",
   "execution_count": 69,
   "metadata": {},
   "outputs": [],
   "source": [
    "def sentiment_analyzer_scores(sentence):\n",
    "    '''\n",
    "    Evaluates polarity scores of a given sentence and prints the result.\n",
    "    '''\n",
    "    score = analyzer.polarity_scores(sentence)\n",
    "    print(\"{:-<40} {}\".format(sentence, str(score)))"
   ]
  },
  {
   "cell_type": "code",
   "execution_count": 70,
   "metadata": {},
   "outputs": [
    {
     "name": "stdout",
     "output_type": "stream",
     "text": [
      "It's great to hear from you!------------ {'neg': 0.0, 'neu': 0.532, 'pos': 0.468, 'compound': 0.6588}\n",
      "It's GREAT to hear from you!------------ {'neg': 0.0, 'neu': 0.494, 'pos': 0.506, 'compound': 0.729}\n",
      "It's GREAT to hear from you!!!---------- {'neg': 0.0, 'neu': 0.467, 'pos': 0.533, 'compound': 0.7723}\n"
     ]
    }
   ],
   "source": [
    "# Positive sentiments (example)\n",
    "sentiment_analyzer_scores(\"It's great to hear from you!\")\n",
    "sentiment_analyzer_scores(\"It's GREAT to hear from you!\")\n",
    "sentiment_analyzer_scores(\"It's GREAT to hear from you!!!\")"
   ]
  },
  {
   "cell_type": "code",
   "execution_count": 71,
   "metadata": {},
   "outputs": [
    {
     "name": "stdout",
     "output_type": "stream",
     "text": [
      "I am really dissatisfied by the procedure! {'neg': 0.389, 'neu': 0.611, 'pos': 0.0, 'compound': -0.4914}\n",
      "I am really dissatisfied by the procedure! :( {'neg': 0.549, 'neu': 0.451, 'pos': 0.0, 'compound': -0.7257}\n"
     ]
    }
   ],
   "source": [
    "# Negative sentiments (example)\n",
    "sentiment_analyzer_scores(\"I am really dissatisfied by the procedure!\")\n",
    "sentiment_analyzer_scores(\"I am really dissatisfied by the procedure! :(\")"
   ]
  },
  {
   "cell_type": "markdown",
   "metadata": {},
   "source": [
    ">The `pos`, `neu`, and `neg` scores are ratios for proportions of text that fall in each category (so these should all add up to be 1... or close to it with float operation). These are the most useful metrics if you want multidimensional measures of sentiment for a given sentence. \n",
    "The `compound` score is computed by summing the valence scores of each word in the lexicon, adjusted according to the rules, and then normalized to be between -1 (most extreme negative) and +1 (most extreme positive). This is the most useful metric if you want a single unidimensional measure of sentiment for a given sentence. Calling it a 'normalized, weighted composite score' is accurate.\n",
    "\n",
    ">It is also useful for researchers who would like to set standardized thresholds for classifying sentences as either positive, neutral, or negative. Typical threshold values (used in the literature cited on this page) are:\n",
    "- positive sentiment: `compound` score >= 0.05\n",
    "- neutral sentiment: (`compound` score > -0.05) and (`compound` score < 0.05)\n",
    "- negative sentiment: `compound` score <= -0.05\n"
   ]
  },
  {
   "cell_type": "code",
   "execution_count": 72,
   "metadata": {},
   "outputs": [
    {
     "data": {
      "text/plain": [
       "{'neg': 0.0, 'neu': 1.0, 'pos': 0.0, 'compound': 0.0}"
      ]
     },
     "execution_count": 72,
     "metadata": {},
     "output_type": "execute_result"
    }
   ],
   "source": [
    "# Generate sentiment scores\n",
    "sentiment_scores = tweets10_df['text'].apply(analyzer.polarity_scores)\n",
    "\n",
    "sentiment_scores[0]"
   ]
  },
  {
   "cell_type": "code",
   "execution_count": 73,
   "metadata": {},
   "outputs": [
    {
     "name": "stdout",
     "output_type": "stream",
     "text": [
      "<class 'pandas.core.series.Series'>\n",
      "created_at\n",
      "2019-06-12 13:04:47+00:00    {'neg': 0.0, 'neu': 1.0, 'pos': 0.0, 'compound': 0.0}\n",
      "2019-06-12 13:04:49+00:00    {'neg': 0.0, 'neu': 1.0, 'pos': 0.0, 'compound': 0.0}\n",
      "2019-06-12 13:04:58+00:00    {'neg': 0.0, 'neu': 1.0, 'pos': 0.0, 'compound': 0.0}\n",
      "2019-06-12 13:05:01+00:00    {'neg': 0.0, 'neu': 1.0, 'pos': 0.0, 'compound': 0.0}\n",
      "2019-06-12 13:05:01+00:00    {'neg': 0.0, 'neu': 1.0, 'pos': 0.0, 'compound': 0.0}\n",
      "Name: text, dtype: object\n"
     ]
    }
   ],
   "source": [
    "# Print type of sentiment_scores\n",
    "print(type(sentiment_scores))\n",
    "\n",
    "# Print the head of scores (full)\n",
    "with pd.option_context('max_colwidth', -1):\n",
    "    print(sentiment_scores.head())"
   ]
  },
  {
   "cell_type": "code",
   "execution_count": 74,
   "metadata": {},
   "outputs": [],
   "source": [
    "import numpy as np\n",
    "tweets10_df['sentiment'] = np.array([x['compound'] for x in sentiment_scores])"
   ]
  },
  {
   "cell_type": "code",
   "execution_count": 75,
   "metadata": {},
   "outputs": [
    {
     "data": {
      "text/plain": [
       "created_at\n",
       "2019-06-12 13:06:50+00:00    0.0000\n",
       "2019-06-12 13:08:38+00:00    0.0000\n",
       "2019-06-12 13:08:15+00:00    0.6166\n",
       "2019-06-12 13:05:37+00:00    0.0000\n",
       "2019-06-12 13:08:08+00:00    0.0000\n",
       "2019-06-12 13:05:12+00:00    0.7345\n",
       "2019-06-12 13:12:04+00:00    0.3182\n",
       "2019-06-12 13:11:57+00:00    0.4767\n",
       "2019-06-12 13:14:20+00:00    0.4767\n",
       "2019-06-12 13:11:31+00:00    0.0000\n",
       "Name: sentiment, dtype: float64"
      ]
     },
     "execution_count": 75,
     "metadata": {},
     "output_type": "execute_result"
    }
   ],
   "source": [
    "tweets10_df.sentiment.sample(10)"
   ]
  },
  {
   "cell_type": "code",
   "execution_count": 76,
   "metadata": {},
   "outputs": [
    {
     "name": "stdout",
     "output_type": "stream",
     "text": [
      "Positive:\n",
      "The latest Excel Daily News! https://t.co/VLFQaTWECr Thanks to @NewLogic_0 @ExcelDemy @cdxtech #excel #python\n",
      "\n",
      "Negative:\n",
      "@aversifollo Esta fantasía se podría hacer con python? No no?\n"
     ]
    }
   ],
   "source": [
    "# Print out the text of a positive tweet\n",
    "print('Positive:')\n",
    "print(tweets10_df[tweets10_df.sentiment > 0.5]['text'].values[0])\n",
    "\n",
    "# Print out the text of a negative tweet\n",
    "print('\\nNegative:')\n",
    "print(tweets10_df[tweets10_df.sentiment < -0.5]['text'].values[0])"
   ]
  },
  {
   "cell_type": "code",
   "execution_count": 77,
   "metadata": {},
   "outputs": [],
   "source": [
    "# Generate average sentiment scores for python\n",
    "sentiment_py = tweets10_df.sentiment[check_keywords('python', tweets10_df)].resample('1T').mean()\n",
    "\n",
    "# Generate average sentiment scores for datascience\n",
    "sentiment_ds = tweets10_df.sentiment[check_keywords('datascience', tweets10_df)].resample('1T').mean()"
   ]
  },
  {
   "cell_type": "code",
   "execution_count": 78,
   "metadata": {},
   "outputs": [
    {
     "data": {
      "image/png": "[encoded data removed]",
      "text/plain": [
       "<Figure size 432x288 with 1 Axes>"
      ]
     },
     "metadata": {
      "needs_background": "light"
     },
     "output_type": "display_data"
    }
   ],
   "source": [
    "# Import matplotlib\n",
    "import matplotlib.pyplot as plt\n",
    "\n",
    "# Plot average python sentiment per minute\n",
    "plt.plot(sentiment_py.index.minute.values, sentiment_py, color = 'green')\n",
    "\n",
    "# Plot average datascience sentiment per minute\n",
    "plt.plot(sentiment_ds.index.minute.values, sentiment_ds, color = 'blue')\n",
    "\n",
    "plt.xlabel('Minute')\n",
    "plt.ylabel('Sentiment')\n",
    "plt.title('Sentiment of python vs datascience')\n",
    "plt.legend(('python', 'datascience'))\n",
    "plt.show()"
   ]
  },
  {
   "cell_type": "markdown",
   "metadata": {},
   "source": [
    "## Twitter Networks"
   ]
  },
  {
   "cell_type": "code",
   "execution_count": 79,
   "metadata": {},
   "outputs": [],
   "source": [
    "import networkx as nx"
   ]
  },
  {
   "cell_type": "markdown",
   "metadata": {},
   "source": [
    "### Creating Retweet Network"
   ]
  },
  {
   "cell_type": "code",
   "execution_count": 80,
   "metadata": {},
   "outputs": [
    {
     "name": "stdout",
     "output_type": "stream",
     "text": [
      "Nodes in RT network: 211\n",
      "Edges in RT network: 165\n"
     ]
    }
   ],
   "source": [
    "# Import networkx\n",
    "import networkx as nx\n",
    "\n",
    "# Create retweet network from edgelist\n",
    "G_rt = nx.from_pandas_edgelist(\n",
    "    tweets10_df,\n",
    "    source = 'user-screen_name',\n",
    "    target = 'retweeted_status-user-screen_name',\n",
    "    create_using = nx.DiGraph())\n",
    " \n",
    "# Print the number of nodes\n",
    "print('Nodes in RT network:', len(G_rt.nodes()))\n",
    "\n",
    "# Print the number of edges\n",
    "print('Edges in RT network:', len(G_rt.edges()))"
   ]
  },
  {
   "cell_type": "markdown",
   "metadata": {},
   "source": [
    "### Creating reply network"
   ]
  },
  {
   "cell_type": "code",
   "execution_count": 81,
   "metadata": {},
   "outputs": [
    {
     "name": "stdout",
     "output_type": "stream",
     "text": [
      "Nodes in reply network: 173\n",
      "Edges in reply network: 161\n"
     ]
    }
   ],
   "source": [
    "# Import networkx\n",
    "import networkx as nx\n",
    "\n",
    "# Create reply network from edgelist\n",
    "G_reply = nx.from_pandas_edgelist(\n",
    "    tweets10_df,\n",
    "    source = 'user-screen_name',\n",
    "    target = 'in_reply_to_screen_name',\n",
    "    create_using = nx.DiGraph())\n",
    "    \n",
    "# Print the number of nodes\n",
    "print('Nodes in reply network:', len(G_reply.nodes()))\n",
    "\n",
    "# Print the number of edges\n",
    "print('Edges in reply network:', len(G_reply.edges()))"
   ]
  },
  {
   "cell_type": "markdown",
   "metadata": {},
   "source": [
    "### Visualizing retweet network"
   ]
  },
  {
   "cell_type": "code",
   "execution_count": 82,
   "metadata": {},
   "outputs": [
    {
     "name": "stderr",
     "output_type": "stream",
     "text": [
      "/anaconda3/lib/python3.7/site-packages/networkx/drawing/nx_pylab.py:579: MatplotlibDeprecationWarning: \n",
      "The iterable function was deprecated in Matplotlib 3.1 and will be removed in 3.3. Use np.iterable instead.\n",
      "  if not cb.iterable(width):\n",
      "/anaconda3/lib/python3.7/site-packages/networkx/drawing/nx_pylab.py:676: MatplotlibDeprecationWarning: \n",
      "The iterable function was deprecated in Matplotlib 3.1 and will be removed in 3.3. Use np.iterable instead.\n",
      "  if cb.iterable(node_size):  # many node sizes\n"
     ]
    },
    {
     "data": {
      "image/png": "[encoded data removed]",
      "text/plain": [
       "<Figure size 432x288 with 1 Axes>"
      ]
     },
     "metadata": {},
     "output_type": "display_data"
    }
   ],
   "source": [
    "# Create random layout positions\n",
    "pos = nx.random_layout(G_rt)\n",
    "\n",
    "# Create size list\n",
    "sizes = [x[1] for x in G_rt.degree()]\n",
    "\n",
    "# Draw the network\n",
    "nx.draw_networkx(G_rt, pos=pos, \n",
    "    with_labels = False, \n",
    "    node_size = sizes,\n",
    "    width = 0.1, alpha = 0.7,\n",
    "    arrowsize = 2, linewidths = 0)\n",
    "\n",
    "# Turn axis off and show\n",
    "plt.axis('off'); plt.show()"
   ]
  },
  {
   "cell_type": "markdown",
   "metadata": {},
   "source": [
    "### Centrality"
   ]
  },
  {
   "cell_type": "markdown",
   "metadata": {},
   "source": [
    "<img src=\"https://www.researchgate.net/publication/309523121/figure/fig3/AS:422708409311235@1477792946821/Individual-node-metrics-In-degree-Out-degree-and-Betweenness-centrality-interpretations_W640.jpg\" width=\"300\">\n",
    "\n",
    "[_image credit_](https://www.researchgate.net/publication/309523121_Quantifying_a_Systems_Map_Network_Analysis_of_a_Childhood_Obesity_Causal_Loop_Diagram/figures?lo=1)"
   ]
  },
  {
   "cell_type": "markdown",
   "metadata": {},
   "source": [
    "#### In-degree centrality"
   ]
  },
  {
   "cell_type": "code",
   "execution_count": 83,
   "metadata": {},
   "outputs": [
    {
     "name": "stdout",
     "output_type": "stream",
     "text": [
      "      screen_name  degree_centrality\n",
      "1             NaN           0.376190\n",
      "62      antgrasso           0.052381\n",
      "29       DJIJAPAN           0.033333\n",
      "39  Paula_Piccard           0.014286\n",
      "7   oreilly_japan           0.014286\n",
      "     screen_name  degree_centrality\n",
      "1           None           0.860465\n",
      "132     horejsek           0.005814\n",
      "13     AdamWylde           0.005814\n",
      "88   pkdouglas16           0.005814\n",
      "101       raaleh           0.005814\n"
     ]
    }
   ],
   "source": [
    "# Generate in-degree centrality for retweets \n",
    "rt_centrality = nx.in_degree_centrality(G_rt)\n",
    "\n",
    "# Generate in-degree centrality for replies \n",
    "reply_centrality = nx.in_degree_centrality(G_reply)\n",
    "\n",
    "column_names = ['screen_name', 'degree_centrality']\n",
    "\n",
    "# Store centralities in DataFrame\n",
    "rt = pd.DataFrame(list(rt_centrality.items()), columns = column_names)\n",
    "reply = pd.DataFrame(list(reply_centrality.items()), columns = column_names)\n",
    "\n",
    "# Print first five results in descending order of centrality\n",
    "print(rt.sort_values('degree_centrality', ascending = False).head())\n",
    "\n",
    "# Print first five results in descending order of centrality\n",
    "print(reply.sort_values('degree_centrality', ascending = False).head())"
   ]
  },
  {
   "cell_type": "markdown",
   "metadata": {},
   "source": [
    "#### Betweenness Centrality"
   ]
  },
  {
   "cell_type": "code",
   "execution_count": 84,
   "metadata": {},
   "outputs": [
    {
     "name": "stdout",
     "output_type": "stream",
     "text": [
      "        screen_name  betweenness_centrality\n",
      "44        raodeepak                0.000046\n",
      "70        voidspace                0.000046\n",
      "57   DrAndyCallaway                0.000023\n",
      "25   CambridgeSpark                0.000023\n",
      "114     danilobzdok                0.000023\n",
      "         screen_name  betweenness_centrality\n",
      "0         workwithai                     0.0\n",
      "119      CyberDomain                     0.0\n",
      "111          oichiOi                     0.0\n",
      "112  DivyeshArdeshan                     0.0\n",
      "113     nature_faces                     0.0\n"
     ]
    }
   ],
   "source": [
    "# Generate betweenness centrality for retweets \n",
    "rt_centrality = nx.betweenness_centrality(G_rt)\n",
    "\n",
    "# Generate betweenness centrality for replies \n",
    "reply_centrality = nx.betweenness_centrality(G_reply)\n",
    "\n",
    "column_names = ['screen_name', 'betweenness_centrality']\n",
    "\n",
    "# Store centralities in data frames\n",
    "rt = pd.DataFrame(list(rt_centrality.items()), columns = column_names)\n",
    "reply = pd.DataFrame(list(reply_centrality.items()), columns = column_names)\n",
    "\n",
    "# Print first five results in descending order of centrality\n",
    "print(rt.sort_values('betweenness_centrality', ascending = False).head())\n",
    "\n",
    "# Print first five results in descending order of centrality\n",
    "print(reply.sort_values('betweenness_centrality', ascending = False).head())"
   ]
  },
  {
   "cell_type": "markdown",
   "metadata": {},
   "source": [
    "#### Ratios"
   ]
  },
  {
   "cell_type": "code",
   "execution_count": 85,
   "metadata": {},
   "outputs": [
    {
     "name": "stdout",
     "output_type": "stream",
     "text": [
      "  screen_name  degree_rt  degree_reply     ratio\n",
      "1         NaN         79           148  1.873418\n"
     ]
    }
   ],
   "source": [
    "column_names = ['screen_name', 'degree']\n",
    "\n",
    "# Calculate in-degrees and store in DataFrame\n",
    "degree_rt = pd.DataFrame(list(G_rt.in_degree()), columns = column_names)\n",
    "degree_reply = pd.DataFrame(list(G_reply.in_degree()), columns = column_names)\n",
    "\n",
    "# Merge the two DataFrames on screen name\n",
    "ratio = degree_rt.merge(degree_reply, on = 'screen_name', suffixes = ('_rt', '_reply'))\n",
    "\n",
    "# Calculate the ratio\n",
    "ratio['ratio'] = ratio.degree_reply / ratio.degree_rt\n",
    "\n",
    "# Exclude any tweets with less than 5 retweets\n",
    "ratio = ratio[ratio['degree_rt'] >= 5]\n",
    "\n",
    "# Print out first five with highest ratio\n",
    "print(ratio.sort_values('ratio', ascending = False).head())"
   ]
  },
  {
   "cell_type": "markdown",
   "metadata": {},
   "source": [
    "## Geographical Data\n",
    "\n",
    "_Note : Less than 5% of Twitter data have geographical data. This limits the generalizebility of the inference._\n",
    "\n",
    "There are several types of Geographical Data available in twitter. These include:\n",
    "- User-defined location (imprecise)\n",
    "- Place (bounding boxes) (precise)\n",
    "- Coordinates and points (most precise)\n",
    "- Twitter text (most imprecise)"
   ]
  },
  {
   "cell_type": "markdown",
   "metadata": {},
   "source": [
    "### User Location"
   ]
  },
  {
   "cell_type": "code",
   "execution_count": 88,
   "metadata": {},
   "outputs": [
    {
     "name": "stdout",
     "output_type": "stream",
     "text": [
      "Reno, NV - San Diego, CA\n"
     ]
    }
   ],
   "source": [
    "# Print out the location of a single tweet\n",
    "print(tweet['user']['location'])"
   ]
  },
  {
   "cell_type": "code",
   "execution_count": 94,
   "metadata": {},
   "outputs": [
    {
     "name": "stdout",
     "output_type": "stream",
     "text": [
      "United States      4\n",
      "London, England    3\n",
      "Dallas, TX         3\n",
      "United Kingdom     3\n",
      "The World          3\n",
      "Name: user-location, dtype: int64\n"
     ]
    }
   ],
   "source": [
    "from flatten import flatten\n",
    "\n",
    "# Flatten and load the tweets into a dataframe\n",
    "df = pd.DataFrame(flatten('tweets_10min.json'))\n",
    "\n",
    "# Print out top user-defined locations\n",
    "print(df['user-location'].value_counts().head())"
   ]
  },
  {
   "cell_type": "markdown",
   "metadata": {},
   "source": [
    "### Place (Bounding Box)\n",
    "\n",
    "_Note: The bounding box can range from a city to a whole country._"
   ]
  },
  {
   "cell_type": "code",
   "execution_count": 112,
   "metadata": {},
   "outputs": [
    {
     "data": {
      "text/html": [
       "<div>\n",
       "<style scoped>\n",
       "    .dataframe tbody tr th:only-of-type {\n",
       "        vertical-align: middle;\n",
       "    }\n",
       "\n",
       "    .dataframe tbody tr th {\n",
       "        vertical-align: top;\n",
       "    }\n",
       "\n",
       "    .dataframe thead th {\n",
       "        text-align: right;\n",
       "    }\n",
       "</style>\n",
       "<table border=\"1\" class=\"dataframe\">\n",
       "  <thead>\n",
       "    <tr style=\"text-align: right;\">\n",
       "      <th></th>\n",
       "      <th>id</th>\n",
       "      <th>id_str</th>\n",
       "      <th>text</th>\n",
       "      <th>display_text_range</th>\n",
       "      <th>source</th>\n",
       "      <th>truncated</th>\n",
       "      <th>in_reply_to_status_id</th>\n",
       "      <th>in_reply_to_status_id_str</th>\n",
       "      <th>in_reply_to_user_id</th>\n",
       "      <th>in_reply_to_user_id_str</th>\n",
       "      <th>in_reply_to_screen_name</th>\n",
       "      <th>user</th>\n",
       "      <th>geo</th>\n",
       "      <th>coordinates</th>\n",
       "      <th>place</th>\n",
       "      <th>contributors</th>\n",
       "      <th>is_quote_status</th>\n",
       "      <th>extended_tweet</th>\n",
       "      <th>quote_count</th>\n",
       "      <th>reply_count</th>\n",
       "      <th>...</th>\n",
       "      <th>possibly_sensitive</th>\n",
       "      <th>filter_level</th>\n",
       "      <th>lang</th>\n",
       "      <th>timestamp_ms</th>\n",
       "      <th>user-screen_name</th>\n",
       "      <th>extended_tweet-full_text</th>\n",
       "      <th>retweeted_status</th>\n",
       "      <th>retweeted_status-user-screen_name</th>\n",
       "      <th>retweeted_status-text</th>\n",
       "      <th>extended_entities</th>\n",
       "      <th>quoted_status_id</th>\n",
       "      <th>quoted_status_id_str</th>\n",
       "      <th>quoted_status</th>\n",
       "      <th>quoted_status_permalink</th>\n",
       "      <th>quoted_status-text</th>\n",
       "      <th>quoted_status-extended_tweet-full_text</th>\n",
       "      <th>retweeted_status-extended_tweet-full_text</th>\n",
       "      <th>python</th>\n",
       "      <th>datascience</th>\n",
       "      <th>sentiment</th>\n",
       "    </tr>\n",
       "    <tr>\n",
       "      <th>created_at</th>\n",
       "      <th></th>\n",
       "      <th></th>\n",
       "      <th></th>\n",
       "      <th></th>\n",
       "      <th></th>\n",
       "      <th></th>\n",
       "      <th></th>\n",
       "      <th></th>\n",
       "      <th></th>\n",
       "      <th></th>\n",
       "      <th></th>\n",
       "      <th></th>\n",
       "      <th></th>\n",
       "      <th></th>\n",
       "      <th></th>\n",
       "      <th></th>\n",
       "      <th></th>\n",
       "      <th></th>\n",
       "      <th></th>\n",
       "      <th></th>\n",
       "      <th></th>\n",
       "      <th></th>\n",
       "      <th></th>\n",
       "      <th></th>\n",
       "      <th></th>\n",
       "      <th></th>\n",
       "      <th></th>\n",
       "      <th></th>\n",
       "      <th></th>\n",
       "      <th></th>\n",
       "      <th></th>\n",
       "      <th></th>\n",
       "      <th></th>\n",
       "      <th></th>\n",
       "      <th></th>\n",
       "      <th></th>\n",
       "      <th></th>\n",
       "      <th></th>\n",
       "      <th></th>\n",
       "      <th></th>\n",
       "      <th></th>\n",
       "    </tr>\n",
       "  </thead>\n",
       "  <tbody>\n",
       "    <tr>\n",
       "      <th>2019-06-12 13:07:12+00:00</th>\n",
       "      <td>1138794882234028032</td>\n",
       "      <td>1138794882234028032</td>\n",
       "      <td>Exciting opportunity for 2 posts for Funded MR...</td>\n",
       "      <td>[0, 140]</td>\n",
       "      <td>&lt;a href=\"http://twitter.com\" rel=\"nofollow\"&gt;Tw...</td>\n",
       "      <td>True</td>\n",
       "      <td>NaN</td>\n",
       "      <td>None</td>\n",
       "      <td>NaN</td>\n",
       "      <td>None</td>\n",
       "      <td>None</td>\n",
       "      <td>{'id': 28538041, 'id_str': '28538041', 'name':...</td>\n",
       "      <td>None</td>\n",
       "      <td>None</td>\n",
       "      <td>{'id': '7de31e05e99a00f8', 'url': 'https://api...</td>\n",
       "      <td>None</td>\n",
       "      <td>False</td>\n",
       "      <td>{'full_text': 'Exciting opportunity for 2 post...</td>\n",
       "      <td>0</td>\n",
       "      <td>0</td>\n",
       "      <td>...</td>\n",
       "      <td>False</td>\n",
       "      <td>low</td>\n",
       "      <td>en</td>\n",
       "      <td>1560344832367</td>\n",
       "      <td>DrAndyCallaway</td>\n",
       "      <td>Exciting opportunity for 2 posts for Funded MR...</td>\n",
       "      <td>NaN</td>\n",
       "      <td>NaN</td>\n",
       "      <td>NaN</td>\n",
       "      <td>NaN</td>\n",
       "      <td>NaN</td>\n",
       "      <td>NaN</td>\n",
       "      <td>NaN</td>\n",
       "      <td>NaN</td>\n",
       "      <td>NaN</td>\n",
       "      <td>NaN</td>\n",
       "      <td>NaN</td>\n",
       "      <td>False</td>\n",
       "      <td>True</td>\n",
       "      <td>0.7184</td>\n",
       "    </tr>\n",
       "    <tr>\n",
       "      <th>2019-06-12 13:08:50+00:00</th>\n",
       "      <td>1138795292810256386</td>\n",
       "      <td>1138795292810256386</td>\n",
       "      <td>Exciting opportunity - 2 Funded MRes with @AFC...</td>\n",
       "      <td>[0, 140]</td>\n",
       "      <td>&lt;a href=\"http://twitter.com\" rel=\"nofollow\"&gt;Tw...</td>\n",
       "      <td>True</td>\n",
       "      <td>NaN</td>\n",
       "      <td>None</td>\n",
       "      <td>NaN</td>\n",
       "      <td>None</td>\n",
       "      <td>None</td>\n",
       "      <td>{'id': 28538041, 'id_str': '28538041', 'name':...</td>\n",
       "      <td>None</td>\n",
       "      <td>None</td>\n",
       "      <td>{'id': '7de31e05e99a00f8', 'url': 'https://api...</td>\n",
       "      <td>None</td>\n",
       "      <td>False</td>\n",
       "      <td>{'full_text': 'Exciting opportunity - 2 Funded...</td>\n",
       "      <td>0</td>\n",
       "      <td>0</td>\n",
       "      <td>...</td>\n",
       "      <td>False</td>\n",
       "      <td>low</td>\n",
       "      <td>en</td>\n",
       "      <td>1560344930256</td>\n",
       "      <td>DrAndyCallaway</td>\n",
       "      <td>Exciting opportunity - 2 Funded MRes with @AFC...</td>\n",
       "      <td>NaN</td>\n",
       "      <td>NaN</td>\n",
       "      <td>NaN</td>\n",
       "      <td>NaN</td>\n",
       "      <td>NaN</td>\n",
       "      <td>NaN</td>\n",
       "      <td>NaN</td>\n",
       "      <td>NaN</td>\n",
       "      <td>NaN</td>\n",
       "      <td>NaN</td>\n",
       "      <td>NaN</td>\n",
       "      <td>False</td>\n",
       "      <td>True</td>\n",
       "      <td>0.7184</td>\n",
       "    </tr>\n",
       "    <tr>\n",
       "      <th>2019-06-12 13:10:06+00:00</th>\n",
       "      <td>1138795612609175554</td>\n",
       "      <td>1138795612609175554</td>\n",
       "      <td>@raaleh Ambitious Monty Python 1984 crossover ...</td>\n",
       "      <td>[8, 52]</td>\n",
       "      <td>&lt;a href=\"http://twitter.com/download/android\" ...</td>\n",
       "      <td>False</td>\n",
       "      <td>1.138786e+18</td>\n",
       "      <td>1138785711153451008</td>\n",
       "      <td>2.891352e+09</td>\n",
       "      <td>2891352352</td>\n",
       "      <td>raaleh</td>\n",
       "      <td>{'id': 453538450, 'id_str': '453538450', 'name...</td>\n",
       "      <td>None</td>\n",
       "      <td>None</td>\n",
       "      <td>{'id': '315b740b108481f6', 'url': 'https://api...</td>\n",
       "      <td>None</td>\n",
       "      <td>False</td>\n",
       "      <td>NaN</td>\n",
       "      <td>0</td>\n",
       "      <td>0</td>\n",
       "      <td>...</td>\n",
       "      <td>NaN</td>\n",
       "      <td>low</td>\n",
       "      <td>en</td>\n",
       "      <td>1560345006502</td>\n",
       "      <td>BenPummell</td>\n",
       "      <td>NaN</td>\n",
       "      <td>NaN</td>\n",
       "      <td>NaN</td>\n",
       "      <td>NaN</td>\n",
       "      <td>NaN</td>\n",
       "      <td>NaN</td>\n",
       "      <td>NaN</td>\n",
       "      <td>NaN</td>\n",
       "      <td>NaN</td>\n",
       "      <td>NaN</td>\n",
       "      <td>NaN</td>\n",
       "      <td>NaN</td>\n",
       "      <td>True</td>\n",
       "      <td>False</td>\n",
       "      <td>0.4767</td>\n",
       "    </tr>\n",
       "  </tbody>\n",
       "</table>\n",
       "<p>3 rows × 45 columns</p>\n",
       "</div>"
      ],
      "text/plain": [
       "                                            id               id_str  \\\n",
       "created_at                                                            \n",
       "2019-06-12 13:07:12+00:00  1138794882234028032  1138794882234028032   \n",
       "2019-06-12 13:08:50+00:00  1138795292810256386  1138795292810256386   \n",
       "2019-06-12 13:10:06+00:00  1138795612609175554  1138795612609175554   \n",
       "\n",
       "                                                                        text  \\\n",
       "created_at                                                                     \n",
       "2019-06-12 13:07:12+00:00  Exciting opportunity for 2 posts for Funded MR...   \n",
       "2019-06-12 13:08:50+00:00  Exciting opportunity - 2 Funded MRes with @AFC...   \n",
       "2019-06-12 13:10:06+00:00  @raaleh Ambitious Monty Python 1984 crossover ...   \n",
       "\n",
       "                          display_text_range  \\\n",
       "created_at                                     \n",
       "2019-06-12 13:07:12+00:00           [0, 140]   \n",
       "2019-06-12 13:08:50+00:00           [0, 140]   \n",
       "2019-06-12 13:10:06+00:00            [8, 52]   \n",
       "\n",
       "                                                                      source  \\\n",
       "created_at                                                                     \n",
       "2019-06-12 13:07:12+00:00  <a href=\"http://twitter.com\" rel=\"nofollow\">Tw...   \n",
       "2019-06-12 13:08:50+00:00  <a href=\"http://twitter.com\" rel=\"nofollow\">Tw...   \n",
       "2019-06-12 13:10:06+00:00  <a href=\"http://twitter.com/download/android\" ...   \n",
       "\n",
       "                           truncated  in_reply_to_status_id  \\\n",
       "created_at                                                    \n",
       "2019-06-12 13:07:12+00:00       True                    NaN   \n",
       "2019-06-12 13:08:50+00:00       True                    NaN   \n",
       "2019-06-12 13:10:06+00:00      False           1.138786e+18   \n",
       "\n",
       "                          in_reply_to_status_id_str  in_reply_to_user_id  \\\n",
       "created_at                                                                 \n",
       "2019-06-12 13:07:12+00:00                      None                  NaN   \n",
       "2019-06-12 13:08:50+00:00                      None                  NaN   \n",
       "2019-06-12 13:10:06+00:00       1138785711153451008         2.891352e+09   \n",
       "\n",
       "                          in_reply_to_user_id_str in_reply_to_screen_name  \\\n",
       "created_at                                                                  \n",
       "2019-06-12 13:07:12+00:00                    None                    None   \n",
       "2019-06-12 13:08:50+00:00                    None                    None   \n",
       "2019-06-12 13:10:06+00:00              2891352352                  raaleh   \n",
       "\n",
       "                                                                        user  \\\n",
       "created_at                                                                     \n",
       "2019-06-12 13:07:12+00:00  {'id': 28538041, 'id_str': '28538041', 'name':...   \n",
       "2019-06-12 13:08:50+00:00  {'id': 28538041, 'id_str': '28538041', 'name':...   \n",
       "2019-06-12 13:10:06+00:00  {'id': 453538450, 'id_str': '453538450', 'name...   \n",
       "\n",
       "                            geo coordinates  \\\n",
       "created_at                                    \n",
       "2019-06-12 13:07:12+00:00  None        None   \n",
       "2019-06-12 13:08:50+00:00  None        None   \n",
       "2019-06-12 13:10:06+00:00  None        None   \n",
       "\n",
       "                                                                       place  \\\n",
       "created_at                                                                     \n",
       "2019-06-12 13:07:12+00:00  {'id': '7de31e05e99a00f8', 'url': 'https://api...   \n",
       "2019-06-12 13:08:50+00:00  {'id': '7de31e05e99a00f8', 'url': 'https://api...   \n",
       "2019-06-12 13:10:06+00:00  {'id': '315b740b108481f6', 'url': 'https://api...   \n",
       "\n",
       "                          contributors  is_quote_status  \\\n",
       "created_at                                                \n",
       "2019-06-12 13:07:12+00:00         None            False   \n",
       "2019-06-12 13:08:50+00:00         None            False   \n",
       "2019-06-12 13:10:06+00:00         None            False   \n",
       "\n",
       "                                                              extended_tweet  \\\n",
       "created_at                                                                     \n",
       "2019-06-12 13:07:12+00:00  {'full_text': 'Exciting opportunity for 2 post...   \n",
       "2019-06-12 13:08:50+00:00  {'full_text': 'Exciting opportunity - 2 Funded...   \n",
       "2019-06-12 13:10:06+00:00                                                NaN   \n",
       "\n",
       "                           quote_count  reply_count  ...  possibly_sensitive  \\\n",
       "created_at                                           ...                       \n",
       "2019-06-12 13:07:12+00:00            0            0  ...               False   \n",
       "2019-06-12 13:08:50+00:00            0            0  ...               False   \n",
       "2019-06-12 13:10:06+00:00            0            0  ...                 NaN   \n",
       "\n",
       "                           filter_level lang   timestamp_ms  user-screen_name  \\\n",
       "created_at                                                                      \n",
       "2019-06-12 13:07:12+00:00           low   en  1560344832367    DrAndyCallaway   \n",
       "2019-06-12 13:08:50+00:00           low   en  1560344930256    DrAndyCallaway   \n",
       "2019-06-12 13:10:06+00:00           low   en  1560345006502        BenPummell   \n",
       "\n",
       "                                                    extended_tweet-full_text  \\\n",
       "created_at                                                                     \n",
       "2019-06-12 13:07:12+00:00  Exciting opportunity for 2 posts for Funded MR...   \n",
       "2019-06-12 13:08:50+00:00  Exciting opportunity - 2 Funded MRes with @AFC...   \n",
       "2019-06-12 13:10:06+00:00                                                NaN   \n",
       "\n",
       "                          retweeted_status retweeted_status-user-screen_name  \\\n",
       "created_at                                                                     \n",
       "2019-06-12 13:07:12+00:00              NaN                               NaN   \n",
       "2019-06-12 13:08:50+00:00              NaN                               NaN   \n",
       "2019-06-12 13:10:06+00:00              NaN                               NaN   \n",
       "\n",
       "                          retweeted_status-text extended_entities  \\\n",
       "created_at                                                          \n",
       "2019-06-12 13:07:12+00:00                   NaN               NaN   \n",
       "2019-06-12 13:08:50+00:00                   NaN               NaN   \n",
       "2019-06-12 13:10:06+00:00                   NaN               NaN   \n",
       "\n",
       "                          quoted_status_id quoted_status_id_str quoted_status  \\\n",
       "created_at                                                                      \n",
       "2019-06-12 13:07:12+00:00              NaN                  NaN           NaN   \n",
       "2019-06-12 13:08:50+00:00              NaN                  NaN           NaN   \n",
       "2019-06-12 13:10:06+00:00              NaN                  NaN           NaN   \n",
       "\n",
       "                          quoted_status_permalink quoted_status-text  \\\n",
       "created_at                                                             \n",
       "2019-06-12 13:07:12+00:00                     NaN                NaN   \n",
       "2019-06-12 13:08:50+00:00                     NaN                NaN   \n",
       "2019-06-12 13:10:06+00:00                     NaN                NaN   \n",
       "\n",
       "                           quoted_status-extended_tweet-full_text  \\\n",
       "created_at                                                          \n",
       "2019-06-12 13:07:12+00:00                                     NaN   \n",
       "2019-06-12 13:08:50+00:00                                     NaN   \n",
       "2019-06-12 13:10:06+00:00                                     NaN   \n",
       "\n",
       "                          retweeted_status-extended_tweet-full_text python  \\\n",
       "created_at                                                                   \n",
       "2019-06-12 13:07:12+00:00                                       NaN  False   \n",
       "2019-06-12 13:08:50+00:00                                       NaN  False   \n",
       "2019-06-12 13:10:06+00:00                                       NaN   True   \n",
       "\n",
       "                          datascience sentiment  \n",
       "created_at                                       \n",
       "2019-06-12 13:07:12+00:00        True    0.7184  \n",
       "2019-06-12 13:08:50+00:00        True    0.7184  \n",
       "2019-06-12 13:10:06+00:00       False    0.4767  \n",
       "\n",
       "[3 rows x 45 columns]"
      ]
     },
     "execution_count": 112,
     "metadata": {},
     "output_type": "execute_result"
    }
   ],
   "source": [
    "tweets10_df[tweets10_df.place.notnull()]"
   ]
  },
  {
   "cell_type": "code",
   "execution_count": 117,
   "metadata": {},
   "outputs": [
    {
     "data": {
      "text/plain": [
       "(dict,\n",
       " {'id': '7de31e05e99a00f8',\n",
       "  'url': 'https://api.twitter.com/1.1/geo/id/7de31e05e99a00f8.json',\n",
       "  'place_type': 'city',\n",
       "  'name': 'Bournemouth',\n",
       "  'full_name': 'Bournemouth, England',\n",
       "  'country_code': 'GB',\n",
       "  'country': 'United Kingdom',\n",
       "  'bounding_box': {'type': 'Polygon',\n",
       "   'coordinates': [[[-1.93759, 50.7095],\n",
       "     [-1.93759, 50.775036],\n",
       "     [-1.767624, 50.775036],\n",
       "     [-1.767624, 50.7095]]]},\n",
       "  'attributes': {}})"
      ]
     },
     "execution_count": 117,
     "metadata": {},
     "output_type": "execute_result"
    }
   ],
   "source": [
    "tweet_w_place = tweets10_df[tweets10_df.place.notnull()]\n",
    "type(tweet_w_place.place[0]), tweet_w_place.place[0]"
   ]
  },
  {
   "cell_type": "code",
   "execution_count": 118,
   "metadata": {},
   "outputs": [
    {
     "data": {
      "text/plain": [
       "{'type': 'Polygon',\n",
       " 'coordinates': [[[-1.93759, 50.7095],\n",
       "   [-1.93759, 50.775036],\n",
       "   [-1.767624, 50.775036],\n",
       "   [-1.767624, 50.7095]]]}"
      ]
     },
     "execution_count": 118,
     "metadata": {},
     "output_type": "execute_result"
    }
   ],
   "source": [
    "tweet_w_place.place[0]['bounding_box']"
   ]
  },
  {
   "cell_type": "code",
   "execution_count": 121,
   "metadata": {},
   "outputs": [
    {
     "name": "stdout",
     "output_type": "stream",
     "text": [
      "[[[-1.93759, 50.7095], [-1.93759, 50.775036], [-1.767624, 50.775036], [-1.767624, 50.7095]]]\n"
     ]
    }
   ],
   "source": [
    "def getBoundingBox(place):\n",
    "    \"\"\" Returns the bounding box coordinates.\"\"\"\n",
    "    return place['bounding_box']['coordinates']\n",
    "\n",
    "# Apply the function which gets bounding box coordinates\n",
    "bounding_boxes = tweet_w_place['place'].apply(getBoundingBox)\n",
    "\n",
    "# Print out the first bounding box coordinates\n",
    "print(bounding_boxes.values[0])"
   ]
  },
  {
   "cell_type": "code",
   "execution_count": 122,
   "metadata": {},
   "outputs": [],
   "source": [
    "def calculateCentroid(place):\n",
    "    \"\"\" Calculates the centroid from a bounding box.\"\"\"\n",
    "    # Obtain the coordinates from the bounding box.\n",
    "    coordinates = place['bounding_box']['coordinates'][0]\n",
    "        \n",
    "    longs = np.unique( [x[0] for x in coordinates] )\n",
    "    lats  = np.unique( [x[1] for x in coordinates] )\n",
    "\n",
    "    if len(longs) == 1 and len(lats) == 1:\n",
    "        # return a single coordinate\n",
    "        return (longs[0], lats[0])\n",
    "    elif len(longs) == 2 and len(lats) == 2:\n",
    "        # If we have two longs and lats, we have a box.\n",
    "        central_long = np.sum(longs) / 2\n",
    "        central_lat  = np.sum(lats) / 2\n",
    "    else:\n",
    "        raise ValueError(\"Non-rectangular polygon not supported: %s\" % \n",
    "            \",\".join(map(lambda x: str(x), coordinates)) )\n",
    "\n",
    "    return (central_long, central_lat)\n",
    "    \n",
    "# Calculate the centroids of place     \n",
    "centroids = tweet_w_place['place'].apply(calculateCentroid)"
   ]
  },
  {
   "cell_type": "code",
   "execution_count": 123,
   "metadata": {},
   "outputs": [
    {
     "data": {
      "text/plain": [
       "created_at\n",
       "2019-06-12 13:07:12+00:00    (-1.852607, 50.742267999999996)\n",
       "2019-06-12 13:08:50+00:00    (-1.852607, 50.742267999999996)\n",
       "2019-06-12 13:10:06+00:00             (-2.23348, 53.4569525)\n",
       "Name: place, dtype: object"
      ]
     },
     "execution_count": 123,
     "metadata": {},
     "output_type": "execute_result"
    }
   ],
   "source": [
    "centroids"
   ]
  },
  {
   "cell_type": "markdown",
   "metadata": {},
   "source": [
    "### Maps"
   ]
  },
  {
   "cell_type": "markdown",
   "metadata": {},
   "source": [
    "#### Ploting Centroids"
   ]
  },
  {
   "cell_type": "code",
   "execution_count": 143,
   "metadata": {},
   "outputs": [],
   "source": [
    "# import os\n",
    "# os.environ['PROJ_LIB'] = '/anaconda3/share/proj'"
   ]
  },
  {
   "cell_type": "code",
   "execution_count": 144,
   "metadata": {},
   "outputs": [
    {
     "name": "stderr",
     "output_type": "stream",
     "text": [
      "/anaconda3/lib/python3.7/site-packages/ipykernel_launcher.py:13: MatplotlibDeprecationWarning: \n",
      "The dedent function was deprecated in Matplotlib 3.1 and will be removed in 3.3. Use inspect.cleandoc instead.\n",
      "  del sys.path[0]\n",
      "/anaconda3/lib/python3.7/site-packages/ipykernel_launcher.py:19: MatplotlibDeprecationWarning: \n",
      "The dedent function was deprecated in Matplotlib 3.1 and will be removed in 3.3. Use inspect.cleandoc instead.\n",
      "/anaconda3/lib/python3.7/site-packages/ipykernel_launcher.py:22: MatplotlibDeprecationWarning: \n",
      "The dedent function was deprecated in Matplotlib 3.1 and will be removed in 3.3. Use inspect.cleandoc instead.\n"
     ]
    },
    {
     "data": {
      "image/png": "[encoded data removed]",
      "text/plain": [
       "<Figure size 432x288 with 1 Axes>"
      ]
     },
     "metadata": {},
     "output_type": "display_data"
    }
   ],
   "source": [
    "# Import Basemap\n",
    "from mpl_toolkits.basemap import Basemap\n",
    "import matplotlib.pyplot as plt\n",
    "\n",
    "# Set up the US bounding box\n",
    "us_boundingbox = [-125, 22, -64, 50] \n",
    "\n",
    "# Set up the Basemap object\n",
    "m = Basemap(llcrnrlon = us_boundingbox[0],\n",
    "            llcrnrlat = us_boundingbox[1],\n",
    "            urcrnrlon = us_boundingbox[2],\n",
    "            urcrnrlat = us_boundingbox[3],\n",
    "            projection='merc')\n",
    "\n",
    "# Draw continents in white,\n",
    "# coastlines and countries in gray\n",
    "m.fillcontinents(color='white')\n",
    "m.drawcoastlines(color='gray')\n",
    "m.drawcountries(color='gray')\n",
    "\n",
    "# Draw the states and show the plot\n",
    "m.drawstates(color='gray')\n",
    "plt.show()"
   ]
  },
  {
   "cell_type": "code",
   "execution_count": 159,
   "metadata": {},
   "outputs": [
    {
     "name": "stderr",
     "output_type": "stream",
     "text": [
      "/anaconda3/lib/python3.7/site-packages/ipykernel_launcher.py:6: MatplotlibDeprecationWarning: \n",
      "The dedent function was deprecated in Matplotlib 3.1 and will be removed in 3.3. Use inspect.cleandoc instead.\n",
      "  \n",
      "/anaconda3/lib/python3.7/site-packages/ipykernel_launcher.py:12: MatplotlibDeprecationWarning: \n",
      "The dedent function was deprecated in Matplotlib 3.1 and will be removed in 3.3. Use inspect.cleandoc instead.\n",
      "  if sys.path[0] == '':\n"
     ]
    },
    {
     "data": {
      "image/png": "[encoded data removed]",
      "text/plain": [
       "<Figure size 432x288 with 1 Axes>"
      ]
     },
     "metadata": {},
     "output_type": "display_data"
    }
   ],
   "source": [
    "m = Basemap(projection='merc',\n",
    "        llcrnrlat=-80,\n",
    "        urcrnrlat=80,\n",
    "        llcrnrlon=-180,\n",
    "        urcrnrlon=180,\n",
    "        resolution='c')\n",
    "\n",
    "# Draw continents in white,\n",
    "# coastlines and countries in gray\n",
    "m.fillcontinents(color='white')\n",
    "m.drawcoastlines(color='gray')\n",
    "m.drawcountries(color='gray')\n",
    "\n",
    "# Draw the states and show the plot\n",
    "#m.drawstates(color='gray')\n",
    "plt.show()"
   ]
  },
  {
   "cell_type": "code",
   "execution_count": 160,
   "metadata": {},
   "outputs": [
    {
     "name": "stderr",
     "output_type": "stream",
     "text": [
      "/anaconda3/lib/python3.7/site-packages/ipykernel_launcher.py:6: MatplotlibDeprecationWarning: \n",
      "The dedent function was deprecated in Matplotlib 3.1 and will be removed in 3.3. Use inspect.cleandoc instead.\n",
      "  \n",
      "/anaconda3/lib/python3.7/site-packages/ipykernel_launcher.py:12: MatplotlibDeprecationWarning: \n",
      "The dedent function was deprecated in Matplotlib 3.1 and will be removed in 3.3. Use inspect.cleandoc instead.\n",
      "  if sys.path[0] == '':\n"
     ]
    },
    {
     "data": {
      "image/png": "[encoded data removed]",
      "text/plain": [
       "<Figure size 432x288 with 1 Axes>"
      ]
     },
     "metadata": {},
     "output_type": "display_data"
    }
   ],
   "source": [
    "m = Basemap(projection='merc',\n",
    "        llcrnrlat=30,\n",
    "        urcrnrlat=70,\n",
    "        llcrnrlon=-20,\n",
    "        urcrnrlon=40,\n",
    "        resolution='c')\n",
    "\n",
    "# Draw continents in white,\n",
    "# coastlines and countries in gray\n",
    "m.fillcontinents(color='white')\n",
    "m.drawcoastlines(color='gray')\n",
    "m.drawcountries(color='gray')\n",
    "\n",
    "# Show the plot\n",
    "plt.show()"
   ]
  },
  {
   "cell_type": "code",
   "execution_count": 158,
   "metadata": {},
   "outputs": [
    {
     "data": {
      "image/png": "[encoded data removed]",
      "text/plain": [
       "<Figure size 432x288 with 1 Axes>"
      ]
     },
     "metadata": {},
     "output_type": "display_data"
    }
   ],
   "source": [
    "# Calculate the centroids for the dataset\n",
    "# and isolate longitudue and latitudes\n",
    "centroids = tweet_w_place['place'].apply(calculateCentroid)\n",
    "lon = [x[0] for x in centroids]\n",
    "lat = [x[1] for x in centroids]\n",
    "\n",
    "# Draw continents, coastlines, countries, and states\n",
    "m.fillcontinents(color='white', zorder = 0)\n",
    "m.drawcoastlines(color='gray')\n",
    "m.drawcountries(color='gray')\n",
    "\n",
    "# Draw the points and show the plot\n",
    "m.scatter(lon, lat, latlon = True, alpha = 0.9, c='r')\n",
    "plt.show()"
   ]
  },
  {
   "cell_type": "markdown",
   "metadata": {},
   "source": [
    "#### Coloring by Sentiments"
   ]
  },
  {
   "cell_type": "code",
   "execution_count": 161,
   "metadata": {},
   "outputs": [
    {
     "data": {
      "image/png": "[encoded data removed]",
      "text/plain": [
       "<Figure size 432x288 with 1 Axes>"
      ]
     },
     "metadata": {},
     "output_type": "display_data"
    }
   ],
   "source": [
    "# Generate sentiment scores\n",
    "sentiment_scores = tweet_w_place['text'].apply(analyzer.polarity_scores)\n",
    "\n",
    "# Isolate the compound element\n",
    "sentiment_scores = [x['compound'] for x in sentiment_scores]\n",
    "\n",
    "# Draw continents, coastlines, countries, and states\n",
    "m.fillcontinents(color='white', zorder = 0)\n",
    "m.drawcoastlines(color='gray')\n",
    "m.drawcountries(color='gray')\n",
    "\n",
    "# Draw the points\n",
    "m.scatter(lon, lat, latlon = True, \n",
    "           c = sentiment_scores,\n",
    "           cmap = 'coolwarm', alpha = 0.7)\n",
    "\n",
    "# Show the plot\n",
    "plt.show()"
   ]
  }
 ],
 "metadata": {
  "kernelspec": {
   "display_name": "Python 3",
   "language": "python",
   "name": "python3"
  },
  "language_info": {
   "codemirror_mode": {
    "name": "ipython",
    "version": 3
   },
   "file_extension": ".py",
   "mimetype": "text/x-python",
   "name": "python",
   "nbconvert_exporter": "python",
   "pygments_lexer": "ipython3",
   "version": "3.7.3"
  },
  "toc-autonumbering": false,
  "toc-showmarkdowntxt": false,
  "toc-showtags": false
 },
 "nbformat": 4,
 "nbformat_minor": 4
}
