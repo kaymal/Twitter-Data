{
 "cells": [
  {
   "cell_type": "markdown",
   "metadata": {},
   "source": [
    "# Analyzing Twitter Data with Python"
   ]
  },
  {
   "cell_type": "markdown",
   "metadata": {},
   "source": [
    "Outline:\n",
    "- Credentials and Authentication\n",
    "- Collecting and Streaming Data\n",
    "- Loading Tweets\n",
    "- Analyzing Data"
   ]
  },
  {
   "cell_type": "markdown",
   "metadata": {},
   "source": [
    "The `tweepy` module will be used to collect Twitter data with the Streaming API."
   ]
  },
  {
   "cell_type": "code",
   "execution_count": 2,
   "metadata": {},
   "outputs": [],
   "source": [
    "# !pip install tweepy"
   ]
  },
  {
   "cell_type": "code",
   "execution_count": 3,
   "metadata": {},
   "outputs": [],
   "source": [
    "from tweepy import OAuthHandler, API\n",
    "# import tweepy\n",
    "\n",
    "import json"
   ]
  },
  {
   "cell_type": "markdown",
   "metadata": {},
   "source": [
    "## Credentials"
   ]
  },
  {
   "cell_type": "markdown",
   "metadata": {},
   "source": [
    "First of all, we need to create a Twitter account, validate it, and then create a Twitter developer account. The developer account can be created within the [Twitter developer](https://developer.twitter.com/en/apps) web page.\n",
    "\n",
    "Second, we create an app to generate a _Customer Key_, a _Consumer Secret_, an _Access Token_, and an _Access Token Secret_.\n",
    "\n",
    "The steps to generate keys are as follows:\n",
    "- Create a Twitter acoount, validate it with a phone number,\n",
    "- Create a Twitter developer account,\n",
    "- Create an app,\n",
    "- Generate keys and tokens.\n",
    "\n",
    "It is worth noting that the app's API keys should be kept secure. It is important not to commit API keys and access tokens to publicly accessible version control systems such as Github or BitBucket."
   ]
  },
  {
   "cell_type": "markdown",
   "metadata": {},
   "source": [
    "The Twitter credentials (keys and tokens) can be kept locally as a `.json` file in the following format."
   ]
  },
  {
   "cell_type": "code",
   "execution_count": null,
   "metadata": {},
   "outputs": [],
   "source": [
    "{\"consumer_key\":\"API key\",\n",
    " \"consumer_secret\":\"API secret key\",\n",
    " \"access_token_key\":\"Access token\",\n",
    " \"access_token_secret\":\"Access token secret\"\n",
    "}"
   ]
  },
  {
   "cell_type": "code",
   "execution_count": 5,
   "metadata": {},
   "outputs": [],
   "source": [
    "# Load Twitter app information\n",
    "with open('twitter_cred.json','r') as file:\n",
    "    twitter_cred = json.load(file)"
   ]
  },
  {
   "cell_type": "code",
   "execution_count": 6,
   "metadata": {},
   "outputs": [],
   "source": [
    "consumer_key = twitter_cred['consumer_key']\n",
    "consumer_secret = twitter_cred['consumer_secret']\n",
    "access_token = twitter_cred['access_token_key']\n",
    "access_token_secret = twitter_cred['access_token_secret']"
   ]
  },
  {
   "cell_type": "markdown",
   "metadata": {},
   "source": [
    "`tweepy` library requires a Twitter API key to authenticate with Twitter."
   ]
  },
  {
   "cell_type": "code",
   "execution_count": 7,
   "metadata": {},
   "outputs": [],
   "source": [
    "# Consumer key authentication\n",
    "auth = OAuthHandler(consumer_key, consumer_secret)\n",
    "\n",
    "# Access key authentication\n",
    "auth.set_access_token(access_token, access_token_secret)\n",
    "\n",
    "# Set up the API with the authentication handler\n",
    "api = API(auth)"
   ]
  },
  {
   "cell_type": "markdown",
   "metadata": {},
   "source": [
    "We can print the username to see if our account is properly authenticated."
   ]
  },
  {
   "cell_type": "code",
   "execution_count": null,
   "metadata": {},
   "outputs": [],
   "source": [
    "user = api.me()\n",
    "print(user.name)"
   ]
  },
  {
   "cell_type": "markdown",
   "metadata": {},
   "source": [
    "## Collecting Data"
   ]
  },
  {
   "cell_type": "markdown",
   "metadata": {},
   "source": [
    "`tweepy.api` is a wrapper for the Twitter API. Methods include:\n",
    " - Timeline Methods,\n",
    " - Status Methods,\n",
    " - User Methods,\n",
    " - Direct Message Methods,\n",
    " - Friendship Methods,\n",
    " - Account Methods,\n",
    " - Favorite Methods,\n",
    " - Block Methods,\n",
    " - Saved Searches Methods, \n",
    " - Spam Reporting Methods,\n",
    " - Help Methods,\n",
    " - List Methods,\n",
    " - Trends Methods,\n",
    " - Geo Methods.\n",
    "[Source:tweepy](https://tweepy.readthedocs.io/en/v3.5.0/api.html#api-reference)"
   ]
  },
  {
   "cell_type": "markdown",
   "metadata": {},
   "source": [
    "### Single Tweet"
   ]
  },
  {
   "cell_type": "markdown",
   "metadata": {},
   "source": [
    "A **status** is a _tweet_ with various attributes such as _created at_, _id_, and _text_. (See [twitter](https://developer.twitter.com/en/docs/tweets/data-dictionary/overview/tweet-object) for full list of attributes.)\n",
    "\n",
    "For example, below status is [the most retweeted tweet](https://mashable.com/article/most-retweeted-tweet-billionaire/?europe=true) in English."
   ]
  },
  {
   "cell_type": "code",
   "execution_count": 9,
   "metadata": {},
   "outputs": [],
   "source": [
    "# Most retweeted tweet\n",
    "status = api.get_status('849813577770778624')"
   ]
  },
  {
   "cell_type": "code",
   "execution_count": 37,
   "metadata": {},
   "outputs": [
    {
     "data": {
      "text/plain": [
       "tweepy.models.Status"
      ]
     },
     "execution_count": 37,
     "metadata": {},
     "output_type": "execute_result"
    }
   ],
   "source": [
    "type(status)"
   ]
  },
  {
   "cell_type": "code",
   "execution_count": 34,
   "metadata": {},
   "outputs": [
    {
     "data": {
      "text/plain": [
       "\"Status(_api=<tweepy.api.API object at 0x103326550>, _json={'created_at': 'Thu Apr 06 02:38:40 +0000 2017', 'id': 849813577770778624, 'id_str': '849813577770778624', 'text': 'HELP ME PLEASE. A MAN NEEDS HIS NUGGS https://t.co/4SrfHmEMo3', 'truncated': False, 'entities': {'hashtags': [], 'symbols': [], 'user_mentions': [], 'urls': [], 'media': [{'id': 849813572351737856, 'id_str': '849813572351737856', 'indices': [38, 61], 'media_url': 'http://pbs.twimg.com/media/C8sk8QlUwAAR3qI.jpg', 'media_url_h\""
      ]
     },
     "execution_count": 34,
     "metadata": {},
     "output_type": "execute_result"
    }
   ],
   "source": [
    "# Print first 500 characters of the Status.\n",
    "str(status)[:500]"
   ]
  },
  {
   "cell_type": "markdown",
   "metadata": {},
   "source": [
    "We can convert the status object to JSON format. The parameter `indent` is to make it easier  reading the result."
   ]
  },
  {
   "cell_type": "code",
   "execution_count": 38,
   "metadata": {},
   "outputs": [
    {
     "name": "stdout",
     "output_type": "stream",
     "text": [
      "{\n",
      "  \"created_at\": \"Thu Apr 06 02:38:40 +0000 2017\",\n",
      "  \"id\": 849813577770778624,\n",
      "  \"id_str\": \"849813577770778624\",\n",
      "  \"text\": \"HELP ME PLEASE. A MAN NEEDS HIS NUGGS https://t.co/4SrfHmEMo3\",\n",
      "  \"truncated\": false,\n",
      "  \"entities\": {\n",
      "    \"hashtags\": [],\n",
      "    \"symbols\": [],\n",
      "    \"user_mentions\": [],\n",
      "    \"urls\": [],\n",
      "    \"media\": [\n",
      "      {\n",
      "        \"id\": 849813572351737856,\n",
      "        \"id_str\": \"849813572351737856\",\n",
      "        \"indices\": [\n",
      "          38,\n",
      "          61\n",
      "        ],\n",
      "        \"media_url\": \"http://pbs.twimg.com/media/C8sk8QlUwAAR3qI.jpg\",\n",
      "        \"media_url_https\": \"https://pbs.twimg.com/media/C8sk8QlUwAAR3qI.jpg\",\n",
      "        \"url\": \"https://t.co/4SrfHmEMo3\",\n",
      "        \"display_url\": \"pic.twitter.com/4SrfHmEMo3\",\n",
      "        \"expanded_url\": \"https://twitter.com/carterjwm/status/849813577770778624/photo/1\",\n",
      "        \"type\": \"photo\",\n",
      "        \"sizes\": {\n",
      "          \"small\": {\n",
      "            \"w\": 382,\n",
      "            \"h\": 680,\n",
      "            \"resize\": \"fit\"\n",
      "          },\n",
      "          \"thumb\": {\n",
      "            \"w\": 150,\n",
      "            \"h\": 150,\n",
      "            \"resize\": \"crop\"\n",
      "          },\n",
      "          \"medium\": {\n",
      "            \"w\": 675,\n",
      "            \"h\": 1200,\n",
      "            \"resize\": \"fit\"\n",
      "          },\n",
      "          \"large\": {\n",
      "            \"w\": 750,\n",
      "            \"h\": 1334,\n",
      "            \"resize\": \"fit\"\n",
      "          }\n",
      "        }\n",
      "      }\n",
      "    ]\n",
      "  },\n",
      "  \"extended_entities\": {\n",
      "    \"media\": [\n",
      "      {\n",
      "        \"id\": 849813572351737856,\n",
      "        \"id_str\": \"849813572351737856\",\n",
      "        \"indices\": [\n",
      "          38,\n",
      "          61\n",
      "        ],\n",
      "        \"media_url\": \"http://pbs.twimg.com/media/C8sk8QlUwAAR3qI.jpg\",\n",
      "        \"media_url_https\": \"https://pbs.twimg.com/media/C8sk8QlUwAAR3qI.jpg\",\n",
      "        \"url\": \"https://t.co/4SrfHmEMo3\",\n",
      "        \"display_url\": \"pic.twitter.com/4SrfHmEMo3\",\n",
      "        \"expanded_url\": \"https://twitter.com/carterjwm/status/849813577770778624/photo/1\",\n",
      "        \"type\": \"photo\",\n",
      "        \"sizes\": {\n",
      "          \"small\": {\n",
      "            \"w\": 382,\n",
      "            \"h\": 680,\n",
      "            \"resize\": \"fit\"\n",
      "          },\n",
      "          \"thumb\": {\n",
      "            \"w\": 150,\n",
      "            \"h\": 150,\n",
      "            \"resize\": \"crop\"\n",
      "          },\n",
      "          \"medium\": {\n",
      "            \"w\": 675,\n",
      "            \"h\": 1200,\n",
      "            \"resize\": \"fit\"\n",
      "          },\n",
      "          \"large\": {\n",
      "            \"w\": 750,\n",
      "            \"h\": 1334,\n",
      "            \"resize\": \"fit\"\n",
      "          }\n",
      "        }\n",
      "      }\n",
      "    ]\n",
      "  },\n",
      "  \"source\": \"<a href=\\\"http://twitter.com/download/iphone\\\" rel=\\\"nofollow\\\">Twitter for iPhone</a>\",\n",
      "  \"in_reply_to_status_id\": null,\n",
      "  \"in_reply_to_status_id_str\": null,\n",
      "  \"in_reply_to_user_id\": null,\n",
      "  \"in_reply_to_user_id_str\": null,\n",
      "  \"in_reply_to_screen_name\": null,\n",
      "  \"user\": {\n",
      "    \"id\": 2568270758,\n",
      "    \"id_str\": \"2568270758\",\n",
      "    \"name\": \"Carter Wilkerson\",\n",
      "    \"screen_name\": \"carterjwm\",\n",
      "    \"location\": \"Reno, NV - San Diego, CA\",\n",
      "    \"description\": \"I kinda like chicken nuggets\",\n",
      "    \"url\": \"https://t.co/hEJZpy9pwS\",\n",
      "    \"entities\": {\n",
      "      \"url\": {\n",
      "        \"urls\": [\n",
      "          {\n",
      "            \"url\": \"https://t.co/hEJZpy9pwS\",\n",
      "            \"expanded_url\": \"http://nuggsforcarter.com\",\n",
      "            \"display_url\": \"nuggsforcarter.com\",\n",
      "            \"indices\": [\n",
      "              0,\n",
      "              23\n",
      "            ]\n",
      "          }\n",
      "        ]\n",
      "      },\n",
      "      \"description\": {\n",
      "        \"urls\": []\n",
      "      }\n",
      "    },\n",
      "    \"protected\": false,\n",
      "    \"followers_count\": 99918,\n",
      "    \"friends_count\": 286,\n",
      "    \"listed_count\": 3209,\n",
      "    \"created_at\": \"Sun Jun 15 03:48:03 +0000 2014\",\n",
      "    \"favourites_count\": 27376,\n",
      "    \"utc_offset\": null,\n",
      "    \"time_zone\": null,\n",
      "    \"geo_enabled\": true,\n",
      "    \"verified\": true,\n",
      "    \"statuses_count\": 1721,\n",
      "    \"lang\": \"en\",\n",
      "    \"contributors_enabled\": false,\n",
      "    \"is_translator\": false,\n",
      "    \"is_translation_enabled\": false,\n",
      "    \"profile_background_color\": \"C0DEED\",\n",
      "    \"profile_background_image_url\": \"http://abs.twimg.com/images/themes/theme1/bg.png\",\n",
      "    \"profile_background_image_url_https\": \"https://abs.twimg.com/images/themes/theme1/bg.png\",\n",
      "    \"profile_background_tile\": false,\n",
      "    \"profile_image_url\": \"http://pbs.twimg.com/profile_images/1049068688387727360/ZVPaPtll_normal.jpg\",\n",
      "    \"profile_image_url_https\": \"https://pbs.twimg.com/profile_images/1049068688387727360/ZVPaPtll_normal.jpg\",\n",
      "    \"profile_banner_url\": \"https://pbs.twimg.com/profile_banners/2568270758/1536506952\",\n",
      "    \"profile_link_color\": \"1DA1F2\",\n",
      "    \"profile_sidebar_border_color\": \"C0DEED\",\n",
      "    \"profile_sidebar_fill_color\": \"DDEEF6\",\n",
      "    \"profile_text_color\": \"333333\",\n",
      "    \"profile_use_background_image\": true,\n",
      "    \"has_extended_profile\": true,\n",
      "    \"default_profile\": true,\n",
      "    \"default_profile_image\": false,\n",
      "    \"following\": false,\n",
      "    \"follow_request_sent\": false,\n",
      "    \"notifications\": false,\n",
      "    \"translator_type\": \"none\"\n",
      "  },\n",
      "  \"geo\": null,\n",
      "  \"coordinates\": null,\n",
      "  \"place\": null,\n",
      "  \"contributors\": null,\n",
      "  \"is_quote_status\": false,\n",
      "  \"retweet_count\": 3528525,\n",
      "  \"favorite_count\": 986544,\n",
      "  \"favorited\": false,\n",
      "  \"retweeted\": false,\n",
      "  \"possibly_sensitive\": false,\n",
      "  \"possibly_sensitive_appealable\": false,\n",
      "  \"lang\": \"en\"\n",
      "}\n"
     ]
    }
   ],
   "source": [
    "# Status to json object (encoding)\n",
    "tweet_json = json.dumps(status._json, indent=2)\n",
    "print(tweet_json)"
   ]
  },
  {
   "cell_type": "code",
   "execution_count": 39,
   "metadata": {},
   "outputs": [
    {
     "data": {
      "text/plain": [
       "(str, tweepy.models.Status)"
      ]
     },
     "execution_count": 39,
     "metadata": {},
     "output_type": "execute_result"
    }
   ],
   "source": [
    "type(tweet_json), type(status)"
   ]
  },
  {
   "cell_type": "code",
   "execution_count": 40,
   "metadata": {},
   "outputs": [
    {
     "data": {
      "text/plain": [
       "'HELP ME PLEASE. A MAN NEEDS HIS NUGGS https://t.co/4SrfHmEMo3'"
      ]
     },
     "execution_count": 40,
     "metadata": {},
     "output_type": "execute_result"
    }
   ],
   "source": [
    "status.text"
   ]
  },
  {
   "cell_type": "code",
   "execution_count": 41,
   "metadata": {},
   "outputs": [
    {
     "data": {
      "text/plain": [
       "'Carter Wilkerson'"
      ]
     },
     "execution_count": 41,
     "metadata": {},
     "output_type": "execute_result"
    }
   ],
   "source": [
    "status.user.name"
   ]
  },
  {
   "cell_type": "code",
   "execution_count": 42,
   "metadata": {},
   "outputs": [
    {
     "data": {
      "text/plain": [
       "datetime.datetime(2017, 4, 6, 2, 38, 40)"
      ]
     },
     "execution_count": 42,
     "metadata": {},
     "output_type": "execute_result"
    }
   ],
   "source": [
    "status.created_at"
   ]
  },
  {
   "cell_type": "markdown",
   "metadata": {},
   "source": [
    "### Trends"
   ]
  },
  {
   "cell_type": "code",
   "execution_count": 43,
   "metadata": {},
   "outputs": [
    {
     "data": {
      "text/plain": [
       "'#TwitterBestFandom'"
      ]
     },
     "execution_count": 43,
     "metadata": {},
     "output_type": "execute_result"
    }
   ],
   "source": [
    "# Get the available WOEID of a location \n",
    "#api.trends_available()\n",
    "\n",
    "# Worldwide trends (WOEID=1)\n",
    "trends_ww = api.trends_place(1)\n",
    "\n",
    "# name of the first top trend worldwide\n",
    "trends_ww[0]['trends'][0]['name']"
   ]
  },
  {
   "cell_type": "markdown",
   "metadata": {},
   "source": [
    "### Streaming API"
   ]
  },
  {
   "cell_type": "markdown",
   "metadata": {},
   "source": [
    "Streaming API allows us to collect real-time Twitter data based on either a sample or keyword filtering. \n",
    ">Using the streaming api has three steps.\n",
    " - Create a class inheriting from StreamListener,\n",
    " - Using that class create a Stream object,\n",
    " - Connect to the Twitter API using the Stream. [Source: tweepy](https://tweepy.readthedocs.io/en/v3.5.0/streaming_how_to.html)"
   ]
  },
  {
   "cell_type": "markdown",
   "metadata": {},
   "source": [
    "Below code calls a Stream Listener. [Main Source](https://github.com/SocialDataAnalytics-Winter2018/lab04/blob/master/slistener.py) "
   ]
  },
  {
   "cell_type": "code",
   "execution_count": 45,
   "metadata": {},
   "outputs": [],
   "source": [
    "%run SListener.py"
   ]
  },
  {
   "cell_type": "markdown",
   "metadata": {},
   "source": [
    "Alternatively, we can load the file into the cell with the `%load` magic command. (`%load?` for more info)"
   ]
  },
  {
   "cell_type": "code",
   "execution_count": 81,
   "metadata": {},
   "outputs": [],
   "source": [
    "# Print SListener.py\n",
    "# %load SListener.py"
   ]
  },
  {
   "cell_type": "code",
   "execution_count": 78,
   "metadata": {},
   "outputs": [],
   "source": [
    "from tweepy import Stream\n",
    "\n",
    "# Instantiate the SListener object, specify a time limit to listen (in seconds) \n",
    "listen = SListener(api, time_limit=60)\n",
    "\n",
    "# Instantiate the Stream object\n",
    "stream = Stream(auth, listen)"
   ]
  },
  {
   "cell_type": "markdown",
   "metadata": {},
   "source": [
    "There are various _streams_ available through Tweepy. We'll use _filter_ in this notebook."
   ]
  },
  {
   "cell_type": "code",
   "execution_count": 79,
   "metadata": {},
   "outputs": [],
   "source": [
    "# Set up keywords to track\n",
    "keywords = ['datascience', 'python']\n",
    "\n",
    "# Begin collecting data\n",
    "stream.filter(track = keywords)"
   ]
  },
  {
   "cell_type": "markdown",
   "metadata": {},
   "source": [
    "## Loading Tweets"
   ]
  },
  {
   "cell_type": "markdown",
   "metadata": {},
   "source": [
    "Tweets are collected from the Streaming API in **JSON** format. JSON is written with JavaScript object notation. We need to convert data into a Python data structure to work on it."
   ]
  },
  {
   "cell_type": "markdown",
   "metadata": {},
   "source": [
    "### Single Tweet"
   ]
  },
  {
   "cell_type": "code",
   "execution_count": 48,
   "metadata": {},
   "outputs": [
    {
     "name": "stdout",
     "output_type": "stream",
     "text": [
      "HELP ME PLEASE. A MAN NEEDS HIS NUGGS https://t.co/4SrfHmEMo3\n",
      "849813577770778624\n"
     ]
    }
   ],
   "source": [
    "# Convert from JSON to Python object (decode JSON)\n",
    "tweet = json.loads(tweet_json)\n",
    "\n",
    "# Print tweet text\n",
    "print(tweet['text'])\n",
    "\n",
    "# Print tweet id\n",
    "print(tweet['id'])"
   ]
  },
  {
   "cell_type": "code",
   "execution_count": 54,
   "metadata": {},
   "outputs": [
    {
     "name": "stdout",
     "output_type": "stream",
     "text": [
      "carterjwm\n",
      "99918\n",
      "Reno, NV - San Diego, CA\n",
      "I kinda like chicken nuggets\n",
      "3528525\n"
     ]
    }
   ],
   "source": [
    "# Print user name\n",
    "print(tweet['user']['screen_name'])\n",
    "\n",
    "# Print user follower count\n",
    "print(tweet['user']['followers_count'])\n",
    "\n",
    "# Print user location\n",
    "print(tweet['user']['location'])\n",
    "\n",
    "# Print user description\n",
    "print(tweet['user']['description'])\n",
    "\n",
    "# Print the number of retweets\n",
    "print(tweet['retweet_count'])"
   ]
  },
  {
   "cell_type": "code",
   "execution_count": 51,
   "metadata": {},
   "outputs": [
    {
     "name": "stdout",
     "output_type": "stream",
     "text": [
      "False\n"
     ]
    }
   ],
   "source": [
    "# Check whether retweet or not\n",
    "print(tweet['retweeted'])"
   ]
  },
  {
   "cell_type": "code",
   "execution_count": null,
   "metadata": {},
   "outputs": [],
   "source": [
    "# Print the text of tweet which has been retweeted\n",
    "#print(retweet['retweeted_status']['text'])\n",
    "\n",
    "# Print the user handle of the tweet\n",
    "#print(retweet['user']['screen_name'])\n",
    "\n",
    "# Print the user handle of the tweet which has been retweeted\n",
    "#print(retweet['retweeted_status']['user']['screen_name'])"
   ]
  },
  {
   "cell_type": "markdown",
   "metadata": {},
   "source": [
    "### Multiple Tweets in a JSON File"
   ]
  },
  {
   "cell_type": "markdown",
   "metadata": {},
   "source": [
    "We may want to load hundreds of tweets for analysis. Therefore, we need to import the file as a DataFrame."
   ]
  },
  {
   "cell_type": "code",
   "execution_count": 72,
   "metadata": {},
   "outputs": [
    {
     "data": {
      "text/plain": [
       "'RT @pyblogsal: The oldest piece of CPython, the parser generator (pgen) has been retired and replaced with a new version! 🐍🖥️🥳 \\n\\nThe parser…'"
      ]
     },
     "execution_count": 72,
     "metadata": {},
     "output_type": "execute_result"
    }
   ],
   "source": [
    "tweet_json = open('tweets.json', 'r').read()\n",
    "twt = tweet_json.split(\"\\n\")[0]\n",
    "\n",
    "tweet = json.loads(twt)\n",
    "tweet['text']"
   ]
  },
  {
   "cell_type": "code",
   "execution_count": 71,
   "metadata": {},
   "outputs": [
    {
     "data": {
      "text/plain": [
       "'RT @pyblogsal: The oldest piece of CPython, the parser generator (pgen) has been retired and replaced with a new version! 🐍🖥️🥳 \\n\\nThe parser…'"
      ]
     },
     "execution_count": 71,
     "metadata": {},
     "output_type": "execute_result"
    }
   ],
   "source": []
  },
  {
   "cell_type": "code",
   "execution_count": 55,
   "metadata": {},
   "outputs": [],
   "source": [
    "import pandas as pd"
   ]
  },
  {
   "cell_type": "code",
   "execution_count": 92,
   "metadata": {},
   "outputs": [],
   "source": [
    "def create_tweet_list(json_file):\n",
    "    \"\"\"\n",
    "    Formats the data and creates a tweet list before converting to a DataFrame.\n",
    "    \"\"\"\n",
    "    tweets_list = []\n",
    "    \n",
    "    with open(json_file, 'r') as tweets:\n",
    "        tweets_json = tweets.read().split(\"\\n\")\n",
    "\n",
    "        # Iterate through each tweet\n",
    "        for tweet in tweets_json:\n",
    "\n",
    "            # Create Python object for the tweet\n",
    "            tweet_obj = json.loads(tweet)\n",
    "\n",
    "            # Check if 140+ character tweet\n",
    "            if 'extended_tweet' in tweet_obj:\n",
    "                # Save the extended tweet in 'extended_tweet-full_text'\n",
    "                tweet_obj['extended_tweet-full_text'] = tweet_obj['extended_tweet']['full_text']\n",
    "        \n",
    "            tweets_list.append(tweet_obj)\n",
    "        \n",
    "    return tweets_list"
   ]
  },
  {
   "cell_type": "code",
   "execution_count": 93,
   "metadata": {},
   "outputs": [],
   "source": [
    "# Create tweet list with the above function\n",
    "tweet_list = create_tweet_list('tweets.json')\n",
    "\n",
    "# Create a pandas DataFrame\n",
    "tweets_df = pd.DataFrame(tweet_list)"
   ]
  },
  {
   "cell_type": "code",
   "execution_count": 95,
   "metadata": {},
   "outputs": [
    {
     "data": {
      "text/html": [
       "<div>\n",
       "<style scoped>\n",
       "    .dataframe tbody tr th:only-of-type {\n",
       "        vertical-align: middle;\n",
       "    }\n",
       "\n",
       "    .dataframe tbody tr th {\n",
       "        vertical-align: top;\n",
       "    }\n",
       "\n",
       "    .dataframe thead th {\n",
       "        text-align: right;\n",
       "    }\n",
       "</style>\n",
       "<table border=\"1\" class=\"dataframe\">\n",
       "  <thead>\n",
       "    <tr style=\"text-align: right;\">\n",
       "      <th></th>\n",
       "      <th>contributors</th>\n",
       "      <th>coordinates</th>\n",
       "      <th>created_at</th>\n",
       "      <th>display_text_range</th>\n",
       "      <th>entities</th>\n",
       "      <th>extended_entities</th>\n",
       "      <th>extended_tweet</th>\n",
       "      <th>extended_tweet-full_text</th>\n",
       "      <th>favorite_count</th>\n",
       "      <th>favorited</th>\n",
       "      <th>...</th>\n",
       "      <th>quote_count</th>\n",
       "      <th>reply_count</th>\n",
       "      <th>retweet_count</th>\n",
       "      <th>retweeted</th>\n",
       "      <th>retweeted_status</th>\n",
       "      <th>source</th>\n",
       "      <th>text</th>\n",
       "      <th>timestamp_ms</th>\n",
       "      <th>truncated</th>\n",
       "      <th>user</th>\n",
       "    </tr>\n",
       "  </thead>\n",
       "  <tbody>\n",
       "    <tr>\n",
       "      <th>0</th>\n",
       "      <td>None</td>\n",
       "      <td>None</td>\n",
       "      <td>Sat Mar 02 19:19:29 +0000 2019</td>\n",
       "      <td>NaN</td>\n",
       "      <td>{'hashtags': [], 'urls': [], 'user_mentions': ...</td>\n",
       "      <td>NaN</td>\n",
       "      <td>NaN</td>\n",
       "      <td>NaN</td>\n",
       "      <td>0</td>\n",
       "      <td>False</td>\n",
       "      <td>...</td>\n",
       "      <td>0</td>\n",
       "      <td>0</td>\n",
       "      <td>0</td>\n",
       "      <td>False</td>\n",
       "      <td>{'created_at': 'Sat Mar 02 15:58:50 +0000 2019...</td>\n",
       "      <td>&lt;a href=\"http://tapbots.com/tweetbot\" rel=\"nof...</td>\n",
       "      <td>RT @pyblogsal: The oldest piece of CPython, th...</td>\n",
       "      <td>1551554369837</td>\n",
       "      <td>False</td>\n",
       "      <td>{'id': 18064071, 'id_str': '18064071', 'name':...</td>\n",
       "    </tr>\n",
       "    <tr>\n",
       "      <th>1</th>\n",
       "      <td>None</td>\n",
       "      <td>None</td>\n",
       "      <td>Sat Mar 02 19:19:29 +0000 2019</td>\n",
       "      <td>[0, 140]</td>\n",
       "      <td>{'hashtags': [], 'urls': [{'url': 'https://t.c...</td>\n",
       "      <td>NaN</td>\n",
       "      <td>{'full_text': 'Hier mal das, was das Projekt g...</td>\n",
       "      <td>Hier mal das, was das Projekt grundlegend zeig...</td>\n",
       "      <td>0</td>\n",
       "      <td>False</td>\n",
       "      <td>...</td>\n",
       "      <td>0</td>\n",
       "      <td>0</td>\n",
       "      <td>0</td>\n",
       "      <td>False</td>\n",
       "      <td>NaN</td>\n",
       "      <td>&lt;a href=\"http://twitter.com/download/android\" ...</td>\n",
       "      <td>Hier mal das, was das Projekt grundlegend zeig...</td>\n",
       "      <td>1551554369900</td>\n",
       "      <td>True</td>\n",
       "      <td>{'id': 3292060903, 'id_str': '3292060903', 'na...</td>\n",
       "    </tr>\n",
       "    <tr>\n",
       "      <th>2</th>\n",
       "      <td>None</td>\n",
       "      <td>None</td>\n",
       "      <td>Sat Mar 02 19:19:33 +0000 2019</td>\n",
       "      <td>[0, 68]</td>\n",
       "      <td>{'hashtags': [], 'urls': [{'url': 'https://t.c...</td>\n",
       "      <td>{'media': [{'id': 1101925025471295488, 'id_str...</td>\n",
       "      <td>NaN</td>\n",
       "      <td>NaN</td>\n",
       "      <td>0</td>\n",
       "      <td>False</td>\n",
       "      <td>...</td>\n",
       "      <td>0</td>\n",
       "      <td>0</td>\n",
       "      <td>0</td>\n",
       "      <td>False</td>\n",
       "      <td>NaN</td>\n",
       "      <td>&lt;a href=\"https://dlvrit.com/\" rel=\"nofollow\"&gt;d...</td>\n",
       "      <td>Python resulta ser el mejor lenguaje de 2018 h...</td>\n",
       "      <td>1551554373932</td>\n",
       "      <td>False</td>\n",
       "      <td>{'id': 903393260860825600, 'id_str': '90339326...</td>\n",
       "    </tr>\n",
       "  </tbody>\n",
       "</table>\n",
       "<p>3 rows × 33 columns</p>\n",
       "</div>"
      ],
      "text/plain": [
       "  contributors coordinates                      created_at display_text_range  \\\n",
       "0         None        None  Sat Mar 02 19:19:29 +0000 2019                NaN   \n",
       "1         None        None  Sat Mar 02 19:19:29 +0000 2019           [0, 140]   \n",
       "2         None        None  Sat Mar 02 19:19:33 +0000 2019            [0, 68]   \n",
       "\n",
       "                                            entities  \\\n",
       "0  {'hashtags': [], 'urls': [], 'user_mentions': ...   \n",
       "1  {'hashtags': [], 'urls': [{'url': 'https://t.c...   \n",
       "2  {'hashtags': [], 'urls': [{'url': 'https://t.c...   \n",
       "\n",
       "                                   extended_entities  \\\n",
       "0                                                NaN   \n",
       "1                                                NaN   \n",
       "2  {'media': [{'id': 1101925025471295488, 'id_str...   \n",
       "\n",
       "                                      extended_tweet  \\\n",
       "0                                                NaN   \n",
       "1  {'full_text': 'Hier mal das, was das Projekt g...   \n",
       "2                                                NaN   \n",
       "\n",
       "                            extended_tweet-full_text  favorite_count  \\\n",
       "0                                                NaN               0   \n",
       "1  Hier mal das, was das Projekt grundlegend zeig...               0   \n",
       "2                                                NaN               0   \n",
       "\n",
       "   favorited  ... quote_count reply_count  retweet_count retweeted  \\\n",
       "0      False  ...           0           0              0     False   \n",
       "1      False  ...           0           0              0     False   \n",
       "2      False  ...           0           0              0     False   \n",
       "\n",
       "                                    retweeted_status  \\\n",
       "0  {'created_at': 'Sat Mar 02 15:58:50 +0000 2019...   \n",
       "1                                                NaN   \n",
       "2                                                NaN   \n",
       "\n",
       "                                              source  \\\n",
       "0  <a href=\"http://tapbots.com/tweetbot\" rel=\"nof...   \n",
       "1  <a href=\"http://twitter.com/download/android\" ...   \n",
       "2  <a href=\"https://dlvrit.com/\" rel=\"nofollow\">d...   \n",
       "\n",
       "                                                text   timestamp_ms truncated  \\\n",
       "0  RT @pyblogsal: The oldest piece of CPython, th...  1551554369837     False   \n",
       "1  Hier mal das, was das Projekt grundlegend zeig...  1551554369900      True   \n",
       "2  Python resulta ser el mejor lenguaje de 2018 h...  1551554373932     False   \n",
       "\n",
       "                                                user  \n",
       "0  {'id': 18064071, 'id_str': '18064071', 'name':...  \n",
       "1  {'id': 3292060903, 'id_str': '3292060903', 'na...  \n",
       "2  {'id': 903393260860825600, 'id_str': '90339326...  \n",
       "\n",
       "[3 rows x 33 columns]"
      ]
     },
     "execution_count": 95,
     "metadata": {},
     "output_type": "execute_result"
    }
   ],
   "source": [
    "tweets_df.head(3)"
   ]
  },
  {
   "cell_type": "code",
   "execution_count": 96,
   "metadata": {},
   "outputs": [
    {
     "data": {
      "text/plain": [
       "0    RT @pyblogsal: The oldest piece of CPython, th...\n",
       "1    Hier mal das, was das Projekt grundlegend zeig...\n",
       "2    Python resulta ser el mejor lenguaje de 2018 h...\n",
       "3    RT @KirkDBorne: Is Robotic Process Automation ...\n",
       "4    RT @AndrewinContact: What is the Internet of T...\n",
       "Name: text, dtype: object"
      ]
     },
     "execution_count": 96,
     "metadata": {},
     "output_type": "execute_result"
    }
   ],
   "source": [
    "tweets_df['text'].head()"
   ]
  },
  {
   "cell_type": "markdown",
   "metadata": {},
   "source": [
    "## Analyzing Data"
   ]
  }
 ],
 "metadata": {
  "kernelspec": {
   "display_name": "Python 3",
   "language": "python",
   "name": "python3"
  },
  "language_info": {
   "codemirror_mode": {
    "name": "ipython",
    "version": 3
   },
   "file_extension": ".py",
   "mimetype": "text/x-python",
   "name": "python",
   "nbconvert_exporter": "python",
   "pygments_lexer": "ipython3",
   "version": "3.7.0"
  }
 },
 "nbformat": 4,
 "nbformat_minor": 2
}
